{
 "cells": [
  {
   "cell_type": "markdown",
   "source": [
    "# StaticFrame 0.8.14 to 0.8.30\n"
   ],
   "metadata": {
    "slideshow": {
     "slide_type": "slide"
    }
   }
  },
  {
   "cell_type": "markdown",
   "source": [
    "## Keeping up with StaticFrame\n",
    "\n",
    "* All major features and fixes are on \"micro\" releases (0.8.30 to 0.8.31)\n",
    "* Backward-incompatible releases (0.8 to 0.9) tend to focus just on API changes\n",
    "* Release Notes: https://github.com/InvestmentSystems/static-frame/releases\n",
    "* Code: https://github.com/InvestmentSystems/static-frame/commits/master"
   ],
   "metadata": {
    "slideshow": {
     "slide_type": "slide"
    }
   }
  },
  {
   "cell_type": "markdown",
   "source": [
    "# StaticFrame 0.9 Coming Soon\n",
    "\n",
    "Backward incompatible changes\n",
    "* Dissallow creating `Index` with `datetime64` arrays; require using `datetime64` `Index` types.\n",
    "* Change `Bus.__init__()` to no longer accept a Series but take internally managed components.\n",
    "* `Batch` no longer automatically promotes container types, must explicitly use `via_container`.\n",
    "* `*.from_overlay()` will be renamed `*.from_overlay_na()` to permit adding a `*.from_overlay_falsy()`."
   ],
   "metadata": {}
  },
  {
   "cell_type": "markdown",
   "source": [
    "## Overview of New Features\n",
    "\n",
    "### New features\n",
    "* `*.rank_*` methods.\n",
    "* Support for `falsy` in many places where `na`\n",
    "* Lots of new methods to ``via_dt`` interfaces.\n",
    "* String slicing with ``*.via_str[]``\n",
    "* Added ``Yarn``\n",
    "* Unpersisting on `Bus`, `Yarn`, `Quilt`.\n",
    "* NPZ, NPY formats for `Frame` and `Bus`. \n",
    "* `Quilt.sample()`\n",
    "* ``IndexHiearchy.relabel_at_depth()``\n",
    "\n",
    " \n",
    "### Extension to existing features\n",
    "* `sort_*` methods now take `ascending` as iterable of Booleans.\n",
    "* `*.count()` methods now have `skipfalsy` and `unique` parameters.\n",
    "* `*.equals()` methods distringuish between ``datetime64`` unit.\n",
    "* Added `dtypes` parameter to `Frame.from_pandas()`\n",
    "* `Frame.iter_group()` and `Frame.iter_group_items()` take a `drop` parameter.\n",
    "* `Frame.unset_index` works with `IndexHierarchy`\n",
    "* Improved `__repr__` for `Quilt`\n",
    "* Added `index_constructors` and `columns_constructors` to many interfaces.\n",
    "* Added `index_constructor` parameters to many interfaces. \n",
    "\n",
    "### Performance Enhancements\n",
    "* All `Bus` iteration when ``max_persist`` is greater than one.\n",
    "* `Bus` internal architecture enhancements.\n",
    "* `Bus` used weakrefs to avoid re-loading `Frame` already in-memory.\n",
    "* `Frame.iter_group()` and `Frame.iter_group_items()`\n",
    "* `Frame.pivot()`\n",
    "* `Frame.from_concat()`\n",
    "* `Frame.to_pandas()` creates ``pd.RangeIndex`` for ``IndexAutoFactory``-created indices.\n",
    "\n",
    "### Better Errors:\n",
    "* Incorrectly formed ``Batch`` iterables raise ``BatchIterableInvalid``\n",
    "\n",
    "### Linux (or WSL) only\n",
    "* Support for `VisiData` via `Frame.to_visidata()`, `Bus.to_visidata()`\n",
    "\n",
    "### Advanced Features\n",
    "* `FrameGO.via_fill_value()` works in `__setitem__()`\n",
    "* `IndexAutoFactory` takes a `size` parameter.\n",
    "* `IndexDefaultFactory` permits specifying ``name`` of default `Index`\n"
   ],
   "metadata": {
    "slideshow": {
     "slide_type": "slide"
    }
   }
  },
  {
   "cell_type": "markdown",
   "source": [
    "## Falsy v. Na\n",
    "\n",
    "The family of `*na*` functions, which process `None`, `np.nan`, `np.nat` now have corresponding `*falsy*` functions, which process `None`, `np.nan`, `np.nat`, `0`, `False`, and `\"\"`. \n",
    "\n",
    "> I know, `np.nan` is not Falsy\n",
    "\n",
    "### On Frame, Series\n",
    "\n",
    "* `*.isfalsy()`, \n",
    "* `*.notfalsy()`, \n",
    "* `*.dropfalsy()`, \n",
    "* `*.fillfalsy`.\n",
    "* `*.fillfalsy_forward()`\n",
    "* `*.fillfalsy_backward()`\n",
    "* `*.fillfalsy_leading()`\n",
    "* `*.fillfalsy_trailing()`\n",
    "\n"
   ],
   "metadata": {}
  },
  {
   "cell_type": "markdown",
   "source": [
    "## Index Constructor Arguments.\n",
    "\n",
    "Index constructor arguments are now available in (hopefully) all places where needed. \n",
    "\n",
    "\n",
    "Added `index_constructor`:\n",
    "\n",
    "* `*.from_concat_items()`\n",
    "* `apply`\n",
    "* `apply_pool`\n",
    "* `map_any`\n",
    "* `map_fill`\n",
    "* `map_all`\n",
    "\n",
    "\n",
    "Note that interfaces that hae `*_depth` arguments use `*_constructors` arguments, not `_constructor` arguments.\n",
    "\n",
    "* ``StoreConfig``\n",
    "* ``Frame.from_sql()``\n",
    "* ``Frame.from_structured_array()``\n",
    "* ``Frame.from_delimited()``\n",
    "* ``Frame.from_csv()``\n",
    "* ``Frame.from_clipboard``\n",
    "* ``Frame.from_tsv()``\n",
    "* ``Frame.from_xlsx()``\n",
    "* ``Frame.from_sqlite()``\n",
    "* ``Frame.from_hdf5()``\n",
    "* ``Frame.from_arrrow()``\n",
    "* ``Frame.from_parquet()``"
   ],
   "metadata": {}
  },
  {
   "cell_type": "markdown",
   "source": [
    "## Extension to `via_dt` interfaces\n",
    "\n",
    "All faster than using `datetime` objects.\n",
    "\n",
    "### New attributes:\n",
    "* ``hour``\n",
    "* ``minute``\n",
    "* ``second``\n",
    "\n",
    "### New methods:\n",
    "* ``is_month_start()``\n",
    "* ``is_month_end()``\n",
    "* ``is_year_start()``\n",
    "* ``is_year_end()``\n",
    "* ``is_quarter_start()``\n",
    "* ``is_quarter_end()`` \n",
    "* ``quarter()``"
   ],
   "metadata": {}
  },
  {
   "cell_type": "markdown",
   "source": [
    "## NPY and NPZ\n",
    "\n",
    "The `to_npz()` and `to_npy()` interfaces offer a `consolidate_blocks` parameter.\n",
    "\n",
    "### Frame interfaces\n",
    "\n",
    "* `Frame.to_npz()`\n",
    "* `Frame.from_npz()`\n",
    "* `Frame.to_npy()`\n",
    "* `Frame.from_npy()`\n",
    "* `Frame.from_npy_mmap()` (0.8.31)\n",
    "\n",
    "### Bus interfaces\n",
    "* ``Bus.to_zip_npz()``\n",
    "* ``Bus.from_zip_npz()``\n",
    "* ``Quilt.to_zip_npz()``\n",
    "* ``Quilt.from_zip_npz()``\n",
    "* ``Batch.to_zip_npz()``\n",
    "* ``Batch.from_zip_npz()``\n",
    "* ``Yarn.to_zip_npz()``\n",
    "\n"
   ],
   "metadata": {}
  },
  {
   "cell_type": "markdown",
   "source": [
    "## Unpersisting\n",
    "\n",
    "Force \"forgetting\" all loaded `Frame`, regardless of `max_persist` configuration.\n",
    "\n",
    "\n",
    "### Interfaces\n",
    "* `Bus.unpersist()`\n",
    "* `Yarn.unpersist()`\n",
    "* `Quilt.unpersist()`\n",
    "\n"
   ],
   "metadata": {}
  }
 ],
 "metadata": {
  "celltoolbar": "Slideshow",
  "kernelspec": {
   "display_name": "Python 3",
   "language": "python",
   "name": "python3"
  },
  "language_info": {
   "codemirror_mode": {
    "name": "ipython",
    "version": 3
   },
   "file_extension": ".py",
   "mimetype": "text/x-python",
   "name": "python",
   "nbconvert_exporter": "python",
   "pygments_lexer": "ipython3",
   "version": "3.7.4"
  }
 },
 "nbformat": 4,
 "nbformat_minor": 4
}