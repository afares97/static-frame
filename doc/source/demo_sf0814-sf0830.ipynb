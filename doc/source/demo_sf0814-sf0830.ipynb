{
 "cells": [
  {
   "cell_type": "markdown",
   "metadata": {
    "slideshow": {
     "slide_type": "slide"
    }
   },
   "source": [
    "# StaticFrame 0.8.14 to 0.8.30\n"
   ]
  },
  {
   "cell_type": "markdown",
   "metadata": {
    "slideshow": {
     "slide_type": "slide"
    }
   },
   "source": [
    "## Keeping up with StaticFrame\n",
    "\n",
    "* All major features and fixes are on \"micro\" releases (i.e.: 0.8.30 to 0.8.31)\n",
    "* Backward-incompatible releases (0.8 to 0.9) tend to focus just on API changes\n",
    "* Release Notes: https://github.com/InvestmentSystems/static-frame/releases\n",
    "* Code: https://github.com/InvestmentSystems/static-frame/commits/master\n",
    "\n",
    "### Tech Forum Presentation 12/16: \"A Reintroduction to StaticFrame\""
   ]
  },
  {
   "cell_type": "markdown",
   "metadata": {},
   "source": [
    "## StaticFrame 0.9 Coming Soon\n",
    "\n",
    "Backward-incompatible changes\n",
    "\n",
    "* Dissallow creating `Index` with `datetime64` arrays; require using `datetime64` `Index` types.\n",
    "* Change `Bus.__init__()` to no longer accept a Series but take internally managed components.\n",
    "* `Batch` no longer automatically promotes container types, must explicitly use `via_container`.\n",
    "* `*.from_overlay()` will be renamed `*.from_overlay_na()` to permit adding a `*.from_overlay_falsy()`."
   ]
  },
  {
   "cell_type": "markdown",
   "metadata": {
    "slideshow": {
     "slide_type": "slide"
    }
   },
   "source": [
    "## Overview of New Features\n",
    "\n",
    "### New features\n",
    "* `*.rank_*` methods.\n",
    "* Support for `falsy` in many places where we have `na`.\n",
    "* New functionality on ``via_dt`` interfaces.\n",
    "* String slicing with ``*.via_str[]``\n",
    "* Added ``Yarn``\n",
    "* Unpersisting on `Bus`, `Yarn`, `Quilt`.\n",
    "* NPZ, NPY formats for `Frame`, `Bus`, `Yarn`, `Quilt`, and `Batch`. \n",
    "* `Quilt.sample()`.\n",
    "* `IndexHiearchy.relabel_at_depth()`.\n",
    " \n",
    "### Extension to existing features\n",
    "* `sort_*` methods now take `ascending` as an iterable of Booleans.\n",
    "* `*.count()` methods now have `skipfalsy` and `unique` parameters.\n",
    "* `*.equals()` methods distringuish between ``datetime64`` unit.\n",
    "* Added `dtypes` parameter to `Frame.from_pandas()`\n",
    "* `Frame.iter_group()` and `Frame.iter_group_items()` take a `drop` parameter.\n",
    "* `Frame.unset_index` works with `IndexHierarchy`\n",
    "* Improved `__repr__` for `Quilt`\n",
    "* Added `index_constructors` and `columns_constructors` to many interfaces.\n",
    "\n",
    "### Performance Enhancements\n",
    "* Improvements to `Bus` iteration when ``max_persist`` is greater than one.\n",
    "* Enhancements to `Bus` internal architecture.\n",
    "* `Bus` now uses weakrefs to avoid re-loading `Frame` already in-memory.\n",
    "* `Frame.iter_group()` and `Frame.iter_group_items()`\n",
    "* `Frame.pivot()`\n",
    "* `Frame.from_concat()`\n",
    "* `Frame.to_pandas()` creates ``pd.RangeIndex`` for ``IndexAutoFactory``-created indices.\n",
    "\n",
    "### Better Errors:\n",
    "* Incorrectly formed ``Batch`` iterables raise ``BatchIterableInvalid``\n",
    "\n",
    "### Linux (or WSL) only\n",
    "* Support for `VisiData` via `Frame.to_visidata()`, `Bus.to_visidata()`\n",
    "\n",
    "### Advanced Features\n",
    "* `FrameGO.via_fill_value()` works with `__setitem__()`\n",
    "* `IndexAutoFactory` takes a `size` parameter.\n",
    "* `IndexDefaultFactory` permits specifying ``name`` of default index constructor.\n"
   ]
  },
  {
   "cell_type": "markdown",
   "metadata": {},
   "source": [
    "## The Five Ways to Rank\n",
    "\n",
    "Full implementation of all ranking methods after `scipy.stats.rankdata`.\n",
    "\n",
    "Each feature `skipna`, `ascending`, `start`, and `fill_value` parameters.\n",
    "\n",
    "All of Pandas `na_option` functionality (and more) can be handled by `skpina` and `fill_value` \n",
    "\n",
    "Start defaults to 0.\n",
    "\n",
    "On `Frame`, `Series`:\n",
    "\n",
    "* `*.rank_ordinal`\n",
    "* `*.rank_dense`\n",
    "* `*.rank_mean`\n",
    "* `*.rank_min`\n",
    "* `*.rank_max`"
   ]
  },
  {
   "cell_type": "code",
   "execution_count": 1,
   "metadata": {},
   "outputs": [
    {
     "data": {
      "text/html": [
       "<table><thead><tr><th></th><th>src</th><th>rank_ordinal</th><th>rank_dense</th><th>rank_mean</th><th>rank_min</th><th>rank_max</th></tr></thead><tbody><tr><th>a</th><td>0</td><td>0</td><td>0</td><td>0.5</td><td>0</td><td>1</td></tr><tr><th>b</th><td>0</td><td>1</td><td>0</td><td>0.5</td><td>0</td><td>1</td></tr><tr><th>c</th><td>1</td><td>2</td><td>1</td><td>2.0</td><td>2</td><td>2</td></tr></tbody></table>"
      ],
      "text/plain": [
       "<Frame>\n",
       "<Index> src     rank_ordinal rank_dense rank_mean rank_min rank_max <<U12>\n",
       "<Index>\n",
       "a       0       0            0          0.5       0        1\n",
       "b       0       1            0          0.5       0        1\n",
       "c       1       2            1          2.0       2        2\n",
       "<<U1>   <int64> <int64>      <int64>    <float64> <int64>  <int64>"
      ]
     },
     "execution_count": 1,
     "metadata": {},
     "output_type": "execute_result"
    }
   ],
   "source": [
    "from itertools import chain\n",
    "from IPython.display import display, Markdown, Latex\n",
    "import numpy as np\n",
    "import static_frame as sf\n",
    "\n",
    "s = sf.Series((0, 0, 1), index=('a', 'b', 'c'), name='src')\n",
    "methods = ('rank_ordinal', 'rank_dense', 'rank_mean', 'rank_min', 'rank_max')\n",
    "sf.Frame.from_concat(chain((s,), (getattr(s, m)().rename(m) for m in methods)), axis=1)\n",
    "              "
   ]
  },
  {
   "cell_type": "code",
   "execution_count": 2,
   "metadata": {},
   "outputs": [
    {
     "data": {
      "text/html": [
       "<table><thead><tr><th></th><th>{&#x27;skipna&#x27;: False}</th><th>{&#x27;skipna&#x27;: True}</th><th>{&#x27;skipna&#x27;: True, &#x27;fill_value&#x27;: -1}</th></tr></thead><tbody><tr><th>a</th><td>2.0</td><td>2.0</td><td>2.0</td></tr><tr><th>b</th><td>0.0</td><td>0.0</td><td>0.0</td></tr><tr><th>c</th><td>3.0</td><td>nan</td><td>-1.0</td></tr><tr><th>d</th><td>1.0</td><td>1.0</td><td>1.0</td></tr><tr><th>e</th><td>4.0</td><td>nan</td><td>-1.0</td></tr></tbody></table>"
      ],
      "text/plain": [
       "<Frame>\n",
       "<Index> {'skipna': False} {'skipna': True} {'skipna': True, ... <<U34>\n",
       "<Index>\n",
       "a       2.0               2.0              2.0\n",
       "b       0.0               0.0              0.0\n",
       "c       3.0               nan              -1.0\n",
       "d       1.0               1.0              1.0\n",
       "e       4.0               nan              -1.0\n",
       "<<U1>   <float64>         <float64>        <float64>"
      ]
     },
     "execution_count": 2,
     "metadata": {},
     "output_type": "execute_result"
    }
   ],
   "source": [
    "s = sf.Series((20, 3, np.nan, 5, np.nan), index=tuple('abcde'))\n",
    "params = (dict(skipna=False), dict(skipna=True), dict(skipna=True, fill_value=-1))\n",
    "sf.Frame.from_concat((s.rank_mean(**p).rename(str(p)) for p in params), axis=1)\n"
   ]
  },
  {
   "cell_type": "markdown",
   "metadata": {},
   "source": [
    "## Na Meet Falsy\n",
    "\n",
    "The family of `*na*` functions, which process `None`, `np.nan`, `np.nat` now have corresponding `*falsy*` functions, which process `None`, `np.nan`, `np.nat`, `0`, `False`, and `\"\"`. \n",
    "\n",
    "> I know `np.nan` is not Falsy, but practicality beats purity\n",
    "\n",
    "On `Frame`, `Series`:\n",
    "\n",
    "* `*.isfalsy()`, \n",
    "* `*.notfalsy()`, \n",
    "* `*.dropfalsy()`, \n",
    "* `*.fillfalsy`.\n",
    "* `*.fillfalsy_forward()`\n",
    "* `*.fillfalsy_backward()`\n",
    "* `*.fillfalsy_leading()`\n",
    "* `*.fillfalsy_trailing()`\n",
    "\n"
   ]
  },
  {
   "cell_type": "code",
   "execution_count": 3,
   "metadata": {},
   "outputs": [
    {
     "data": {
      "text/html": [
       "<table><thead><tr><th></th><th>src</th><th>isfalsy</th><th>notfalsy</th><th>dropfalsy</th></tr></thead><tbody><tr><th>0</th><td>foo</td><td>False</td><td>True</td><td>foo</td></tr><tr><th>1</th><td></td><td>True</td><td>False</td><td>nan</td></tr><tr><th>2</th><td>bar</td><td>False</td><td>True</td><td>bar</td></tr></tbody></table>"
      ],
      "text/plain": [
       "<Frame>\n",
       "<Index> src   isfalsy notfalsy dropfalsy <<U9>\n",
       "<Index>\n",
       "0       foo   False   True     foo\n",
       "1             True    False    nan\n",
       "2       bar   False   True     bar\n",
       "<int64> <<U3> <bool>  <bool>   <object>"
      ]
     },
     "execution_count": 3,
     "metadata": {},
     "output_type": "execute_result"
    }
   ],
   "source": [
    "s = sf.Series(('foo', '', 'bar')).rename('src')\n",
    "methods = ('isfalsy', 'notfalsy', 'dropfalsy')\n",
    "sf.Frame.from_concat(chain((s,), (getattr(s, m)().rename(m) for m in methods)), axis=1)"
   ]
  },
  {
   "cell_type": "code",
   "execution_count": 4,
   "metadata": {},
   "outputs": [
    {
     "data": {
      "text/markdown": [
       "src"
      ],
      "text/plain": [
       "<IPython.core.display.Markdown object>"
      ]
     },
     "metadata": {},
     "output_type": "display_data"
    },
    {
     "data": {
      "text/html": [
       "<table><thead><tr><th></th><th>0</th><th>1</th><th>2</th></tr></thead><tbody><tr><th>0</th><td></td><td></td><td></td></tr><tr><th>1</th><td></td><td>x</td><td></td></tr><tr><th>2</th><td></td><td></td><td></td></tr></tbody></table>"
      ],
      "text/plain": [
       "<Frame>\n",
       "<Index> 0     1     2     <int64>\n",
       "<Index>\n",
       "0\n",
       "1             x\n",
       "2\n",
       "<int64> <<U1> <<U1> <<U1>"
      ]
     },
     "metadata": {},
     "output_type": "display_data"
    },
    {
     "data": {
      "text/markdown": [
       "`fillfalsy_forward` axis 0"
      ],
      "text/plain": [
       "<IPython.core.display.Markdown object>"
      ]
     },
     "metadata": {},
     "output_type": "display_data"
    },
    {
     "data": {
      "text/html": [
       "<table><thead><tr><th></th><th>0</th><th>1</th><th>2</th></tr></thead><tbody><tr><th>0</th><td></td><td></td><td></td></tr><tr><th>1</th><td></td><td>x</td><td></td></tr><tr><th>2</th><td></td><td>x</td><td></td></tr></tbody></table>"
      ],
      "text/plain": [
       "<Frame>\n",
       "<Index> 0     1     2     <int64>\n",
       "<Index>\n",
       "0\n",
       "1             x\n",
       "2             x\n",
       "<int64> <<U1> <<U1> <<U1>"
      ]
     },
     "metadata": {},
     "output_type": "display_data"
    },
    {
     "data": {
      "text/markdown": [
       "`fillfalsy_forward` axis 1"
      ],
      "text/plain": [
       "<IPython.core.display.Markdown object>"
      ]
     },
     "metadata": {},
     "output_type": "display_data"
    },
    {
     "data": {
      "text/html": [
       "<table><thead><tr><th></th><th>0</th><th>1</th><th>2</th></tr></thead><tbody><tr><th>0</th><td></td><td></td><td></td></tr><tr><th>1</th><td></td><td>x</td><td>x</td></tr><tr><th>2</th><td></td><td></td><td></td></tr></tbody></table>"
      ],
      "text/plain": [
       "<Frame>\n",
       "<Index> 0     1     2     <int64>\n",
       "<Index>\n",
       "0\n",
       "1             x     x\n",
       "2\n",
       "<int64> <<U1> <<U1> <<U1>"
      ]
     },
     "metadata": {},
     "output_type": "display_data"
    },
    {
     "data": {
      "text/markdown": [
       "`fillfalsy_backward` axis 0"
      ],
      "text/plain": [
       "<IPython.core.display.Markdown object>"
      ]
     },
     "metadata": {},
     "output_type": "display_data"
    },
    {
     "data": {
      "text/html": [
       "<table><thead><tr><th></th><th>0</th><th>1</th><th>2</th></tr></thead><tbody><tr><th>0</th><td></td><td>x</td><td></td></tr><tr><th>1</th><td></td><td>x</td><td></td></tr><tr><th>2</th><td></td><td></td><td></td></tr></tbody></table>"
      ],
      "text/plain": [
       "<Frame>\n",
       "<Index> 0     1     2     <int64>\n",
       "<Index>\n",
       "0             x\n",
       "1             x\n",
       "2\n",
       "<int64> <<U1> <<U1> <<U1>"
      ]
     },
     "metadata": {},
     "output_type": "display_data"
    },
    {
     "data": {
      "text/markdown": [
       "`fillfalsy_backward` axis 1"
      ],
      "text/plain": [
       "<IPython.core.display.Markdown object>"
      ]
     },
     "metadata": {},
     "output_type": "display_data"
    },
    {
     "data": {
      "text/html": [
       "<table><thead><tr><th></th><th>0</th><th>1</th><th>2</th></tr></thead><tbody><tr><th>0</th><td></td><td></td><td></td></tr><tr><th>1</th><td>x</td><td>x</td><td></td></tr><tr><th>2</th><td></td><td></td><td></td></tr></tbody></table>"
      ],
      "text/plain": [
       "<Frame>\n",
       "<Index> 0     1     2     <int64>\n",
       "<Index>\n",
       "0\n",
       "1       x     x\n",
       "2\n",
       "<int64> <<U1> <<U1> <<U1>"
      ]
     },
     "metadata": {},
     "output_type": "display_data"
    }
   ],
   "source": [
    "from itertools import product\n",
    "f = sf.Frame.from_records((['', '', ''], ['', 'x', ''], ['', '', '']))\n",
    "display(Markdown('src'))\n",
    "display(f)\n",
    "methods = ('fillfalsy_forward', 'fillfalsy_backward')\n",
    "for m, axis in product(methods, (0, 1)):\n",
    "    display(Markdown(f'`{m}` axis {axis}'))\n",
    "    display(getattr(f, m)(axis=axis))\n"
   ]
  },
  {
   "cell_type": "code",
   "execution_count": 5,
   "metadata": {},
   "outputs": [
    {
     "data": {
      "text/markdown": [
       "src"
      ],
      "text/plain": [
       "<IPython.core.display.Markdown object>"
      ]
     },
     "metadata": {},
     "output_type": "display_data"
    },
    {
     "data": {
      "text/html": [
       "<table><thead><tr><th></th><th>0</th><th>1</th><th>2</th></tr></thead><tbody><tr><th>0</th><td></td><td></td><td></td></tr><tr><th>1</th><td></td><td>x</td><td></td></tr><tr><th>2</th><td></td><td></td><td></td></tr></tbody></table>"
      ],
      "text/plain": [
       "<Frame>\n",
       "<Index> 0     1     2     <int64>\n",
       "<Index>\n",
       "0\n",
       "1             x\n",
       "2\n",
       "<int64> <<U1> <<U1> <<U1>"
      ]
     },
     "metadata": {},
     "output_type": "display_data"
    },
    {
     "data": {
      "text/markdown": [
       "`fillfalsy_leading` axis 0"
      ],
      "text/plain": [
       "<IPython.core.display.Markdown object>"
      ]
     },
     "metadata": {},
     "output_type": "display_data"
    },
    {
     "data": {
      "text/html": [
       "<table><thead><tr><th></th><th>0</th><th>1</th><th>2</th></tr></thead><tbody><tr><th>0</th><td>o</td><td>o</td><td>o</td></tr><tr><th>1</th><td>o</td><td>x</td><td>o</td></tr><tr><th>2</th><td>o</td><td></td><td>o</td></tr></tbody></table>"
      ],
      "text/plain": [
       "<Frame>\n",
       "<Index> 0     1     2     <int64>\n",
       "<Index>\n",
       "0       o     o     o\n",
       "1       o     x     o\n",
       "2       o           o\n",
       "<int64> <<U1> <<U1> <<U1>"
      ]
     },
     "metadata": {},
     "output_type": "display_data"
    },
    {
     "data": {
      "text/markdown": [
       "`fillfalsy_leading` axis 1"
      ],
      "text/plain": [
       "<IPython.core.display.Markdown object>"
      ]
     },
     "metadata": {},
     "output_type": "display_data"
    },
    {
     "data": {
      "text/html": [
       "<table><thead><tr><th></th><th>0</th><th>1</th><th>2</th></tr></thead><tbody><tr><th>0</th><td>o</td><td>o</td><td>o</td></tr><tr><th>1</th><td>o</td><td>x</td><td></td></tr><tr><th>2</th><td>o</td><td>o</td><td>o</td></tr></tbody></table>"
      ],
      "text/plain": [
       "<Frame>\n",
       "<Index> 0     1     2     <int64>\n",
       "<Index>\n",
       "0       o     o     o\n",
       "1       o     x\n",
       "2       o     o     o\n",
       "<int64> <<U1> <<U1> <<U1>"
      ]
     },
     "metadata": {},
     "output_type": "display_data"
    },
    {
     "data": {
      "text/markdown": [
       "`fillfalsy_trailing` axis 0"
      ],
      "text/plain": [
       "<IPython.core.display.Markdown object>"
      ]
     },
     "metadata": {},
     "output_type": "display_data"
    },
    {
     "data": {
      "text/html": [
       "<table><thead><tr><th></th><th>0</th><th>1</th><th>2</th></tr></thead><tbody><tr><th>0</th><td>o</td><td></td><td>o</td></tr><tr><th>1</th><td>o</td><td>x</td><td>o</td></tr><tr><th>2</th><td>o</td><td>o</td><td>o</td></tr></tbody></table>"
      ],
      "text/plain": [
       "<Frame>\n",
       "<Index> 0     1     2     <int64>\n",
       "<Index>\n",
       "0       o           o\n",
       "1       o     x     o\n",
       "2       o     o     o\n",
       "<int64> <<U1> <<U1> <<U1>"
      ]
     },
     "metadata": {},
     "output_type": "display_data"
    },
    {
     "data": {
      "text/markdown": [
       "`fillfalsy_trailing` axis 1"
      ],
      "text/plain": [
       "<IPython.core.display.Markdown object>"
      ]
     },
     "metadata": {},
     "output_type": "display_data"
    },
    {
     "data": {
      "text/html": [
       "<table><thead><tr><th></th><th>0</th><th>1</th><th>2</th></tr></thead><tbody><tr><th>0</th><td>o</td><td>o</td><td>o</td></tr><tr><th>1</th><td></td><td>x</td><td>o</td></tr><tr><th>2</th><td>o</td><td>o</td><td>o</td></tr></tbody></table>"
      ],
      "text/plain": [
       "<Frame>\n",
       "<Index> 0     1     2     <int64>\n",
       "<Index>\n",
       "0       o     o     o\n",
       "1             x     o\n",
       "2       o     o     o\n",
       "<int64> <<U1> <<U1> <<U1>"
      ]
     },
     "metadata": {},
     "output_type": "display_data"
    }
   ],
   "source": [
    "from itertools import product\n",
    "f = sf.Frame.from_records((['', '', ''], ['', 'x', ''], ['', '', '']))\n",
    "display(Markdown('src'))\n",
    "display(f)\n",
    "methods = ('fillfalsy_leading', 'fillfalsy_trailing')\n",
    "for m, axis in product(methods, (0, 1)):\n",
    "    display(Markdown(f'`{m}` axis {axis}'))\n",
    "    display(getattr(f, m)('o', axis=axis))"
   ]
  },
  {
   "cell_type": "markdown",
   "metadata": {},
   "source": [
    "## More Features on `via_dt` Interfaces\n",
    "\n",
    "All faster than using `datetime` objects.\n",
    "\n",
    "### New attributes:\n",
    "* ``hour``\n",
    "* ``minute``\n",
    "* ``second``\n",
    "\n",
    "### New methods:\n",
    "* ``is_month_start()``\n",
    "* ``is_month_end()``\n",
    "* ``is_year_start()``\n",
    "* ``is_year_end()``\n",
    "* ``is_quarter_start()``\n",
    "* ``is_quarter_end()`` \n",
    "* ``quarter()``"
   ]
  },
  {
   "cell_type": "code",
   "execution_count": 6,
   "metadata": {},
   "outputs": [
    {
     "data": {
      "text/html": [
       "<table><thead><tr><th></th><th>src</th><th>is_month_start</th><th>is_month_end</th><th>is_year_start</th><th>is_year_end</th><th>is_quarter_start</th><th>is_quarter_end</th><th>quarter</th></tr></thead><tbody><tr><th>2020-12-30</th><td>2020-12-30</td><td>False</td><td>False</td><td>False</td><td>False</td><td>False</td><td>False</td><td>4</td></tr><tr><th>2020-12-31</th><td>2020-12-31</td><td>False</td><td>True</td><td>False</td><td>True</td><td>False</td><td>True</td><td>4</td></tr><tr><th>2021-01-01</th><td>2021-01-01</td><td>True</td><td>False</td><td>True</td><td>False</td><td>True</td><td>False</td><td>1</td></tr></tbody></table>"
      ],
      "text/plain": [
       "<Frame>\n",
       "<Index>         src             is_month_start is_month_end is_year_start is_year_end is_quarter_start is_quarter_end quarter <<U16>\n",
       "<IndexDate>\n",
       "2020-12-30      2020-12-30      False          False        False         False       False            False          4\n",
       "2020-12-31      2020-12-31      False          True         False         True        False            True           4\n",
       "2021-01-01      2021-01-01      True           False        True          False       True             False          1\n",
       "<datetime64[D]> <datetime64[D]> <bool>         <bool>       <bool>        <bool>      <bool>           <bool>         <int64>"
      ]
     },
     "execution_count": 6,
     "metadata": {},
     "output_type": "execute_result"
    }
   ],
   "source": [
    "index = sf.IndexDate.from_date_range('2020-12-30', '2021-01-01')\n",
    "s = sf.Series(index, index=index).rename('src')\n",
    "methods = ('is_month_start', \n",
    "           'is_month_end', \n",
    "           'is_year_start', \n",
    "           'is_year_end', \n",
    "           'is_quarter_start', \n",
    "           'is_quarter_end', \n",
    "           'quarter')\n",
    "sf.Frame.from_concat(\n",
    "        chain((s,), (getattr(s.via_dt, m)().rename(m) for m in methods)), \n",
    "        axis=1,\n",
    "        )"
   ]
  },
  {
   "cell_type": "markdown",
   "metadata": {},
   "source": [
    "## More Features on `via_str` Interfaces\n",
    "\n",
    "Access characters via `__getitem__` selection and slices\n",
    "\n",
    "Get the first character of all elements: `s.via_str[0]`\n",
    "\n",
    "Get the last two characters of all elemetns: `s.via_str[-2:]`\n"
   ]
  },
  {
   "cell_type": "code",
   "execution_count": 7,
   "metadata": {},
   "outputs": [
    {
     "data": {
      "text/html": [
       "<table><thead><tr><th></th><th>src</th><th>0</th><th>-1</th><th>slice(-2, None, None)</th></tr></thead><tbody><tr><th>0</th><td>USD</td><td>U</td><td>D</td><td>SD</td></tr><tr><th>1</th><td>AUD</td><td>A</td><td>D</td><td>UD</td></tr><tr><th>2</th><td>JPY</td><td>J</td><td>Y</td><td>PY</td></tr></tbody></table>"
      ],
      "text/plain": [
       "<Frame>\n",
       "<Index> src   0     -1    slice(-2, None, N... <<U21>\n",
       "<Index>\n",
       "0       USD   U     D     SD\n",
       "1       AUD   A     D     UD\n",
       "2       JPY   J     Y     PY\n",
       "<int64> <<U3> <<U1> <<U1> <<U2>"
      ]
     },
     "execution_count": 7,
     "metadata": {},
     "output_type": "execute_result"
    }
   ],
   "source": [
    "s = sf.Series(('USD', 'AUD', 'JPY')).rename('src')\n",
    "args = (0, -1, slice(-2, None))\n",
    "sf.Frame.from_concat(chain((s,), (s.via_str[a].rename(str(a)) for a in args)), axis=1)"
   ]
  },
  {
   "cell_type": "markdown",
   "metadata": {},
   "source": [
    "## NPY and NPZ\n",
    "\n",
    "A new serialization format that fully captures all `Frame` characteristcis and `dtype` and is faster than Parquet.\n",
    "\n",
    "NPZ is a zip archive; NPY is the same files in an directory for memory mapping.\n",
    "\n",
    "The `to_npz()` and `to_npy()` interfaces offer a `consolidate_blocks` parameter.\n",
    "\n",
    "### Frame interfaces\n",
    "\n",
    "* `Frame.to_npz()`\n",
    "* `Frame.from_npz()`\n",
    "* `Frame.to_npy()`\n",
    "* `Frame.from_npy()`\n",
    "* `Frame.from_npy_mmap()` (0.8.31)\n",
    "\n",
    "### Bus interfaces\n",
    "* ``Bus.to_zip_npz()``\n",
    "* ``Bus.from_zip_npz()``\n",
    "* ``Quilt.to_zip_npz()``\n",
    "* ``Quilt.from_zip_npz()``\n",
    "* ``Batch.to_zip_npz()``\n",
    "* ``Batch.from_zip_npz()``\n",
    "* ``Yarn.to_zip_npz()``\n",
    "\n"
   ]
  },
  {
   "cell_type": "markdown",
   "metadata": {},
   "source": [
    "## Unpersisting\n",
    "\n",
    "Force \"forgetting\" all loaded `Frame`, regardless of `max_persist` configuration.\n",
    "\n",
    "\n",
    "### Interfaces\n",
    "* `Bus.unpersist()`\n",
    "* `Yarn.unpersist()`\n",
    "* `Quilt.unpersist()`\n",
    "\n"
   ]
  },
  {
   "cell_type": "markdown",
   "metadata": {},
   "source": [
    "## Index Constructors Everywhere\n",
    "\n",
    "Index constructor arguments are now available in (hopefully) all places where needed. This is necessary for the 0.9 change disallowing `datetime64` in normal `Index`.\n",
    "\n",
    "### Intefaces now with `index_constructor`, and possibly `columns_constructor`:\n",
    "\n",
    "* `*.from_concat_items()`\n",
    "* `apply`\n",
    "* `apply_pool`\n",
    "* `map_any`\n",
    "* `map_fill`\n",
    "* `map_all`\n",
    "\n",
    "### Intefaces now with `index_constructors`, and possibly `columns_constructors`\n",
    "\n",
    "Note that interfaces that hae `*_depth` arguments use `*_constructors` arguments, not `_constructor` arguments to permit specifying per-depth `Index` types. Single constructor arguments are permitted.\n",
    "\n",
    "* ``StoreConfig``\n",
    "* ``Frame.from_sql()``\n",
    "* ``Frame.from_structured_array()``\n",
    "* ``Frame.from_delimited()``\n",
    "* ``Frame.from_csv()``\n",
    "* ``Frame.from_clipboard``\n",
    "* ``Frame.from_tsv()``\n",
    "* ``Frame.from_xlsx()``\n",
    "* ``Frame.from_sqlite()``\n",
    "* ``Frame.from_hdf5()``\n",
    "* ``Frame.from_arrrow()``\n",
    "* ``Frame.from_parquet()``"
   ]
  },
  {
   "cell_type": "markdown",
   "metadata": {},
   "source": [
    "## Stringing `Bus` together with `Yarn`\n",
    "\n",
    "A container of `Bus` that permits assigning an arbitrary `Index` over the virtual concatenation of all contained `Bus`.\n",
    "\n",
    "Each `Bus` retains its lazy-loading and (optionally) `max_persist` characteristics.\n",
    "\n",
    "\n"
   ]
  },
  {
   "cell_type": "code",
   "execution_count": 8,
   "metadata": {},
   "outputs": [
    {
     "data": {
      "text/plain": [
       "<Bus>\n",
       "<Index>\n",
       "a       Frame\n",
       "b       Frame\n",
       "<<U1>   <object>"
      ]
     },
     "execution_count": 8,
     "metadata": {},
     "output_type": "execute_result"
    }
   ],
   "source": [
    "import frame_fixtures as ff\n",
    "\n",
    "\n",
    "b1 = sf.Bus.from_frames((ff.parse('s(4,4)').rename('a'), ff.parse('s(4,4)').rename('b')))\n",
    "b1"
   ]
  },
  {
   "cell_type": "code",
   "execution_count": null,
   "metadata": {},
   "outputs": [],
   "source": []
  },
  {
   "cell_type": "code",
   "execution_count": null,
   "metadata": {},
   "outputs": [],
   "source": []
  },
  {
   "cell_type": "code",
   "execution_count": null,
   "metadata": {},
   "outputs": [],
   "source": []
  },
  {
   "cell_type": "code",
   "execution_count": null,
   "metadata": {},
   "outputs": [],
   "source": []
  },
  {
   "cell_type": "code",
   "execution_count": null,
   "metadata": {},
   "outputs": [],
   "source": []
  }
 ],
 "metadata": {
  "celltoolbar": "Slideshow",
  "interpreter": {
   "hash": "bc97d66360dcafb2e4f33e81bfe1a9d011017b7a99de3ed5b0523fa7fdb7f49c"
  },
  "kernelspec": {
   "display_name": "Python 3",
   "language": "python",
   "name": "python3"
  },
  "language_info": {
   "codemirror_mode": {
    "name": "ipython",
    "version": 3
   },
   "file_extension": ".py",
   "mimetype": "text/x-python",
   "name": "python",
   "nbconvert_exporter": "python",
   "pygments_lexer": "ipython3",
   "version": "3.8.12"
  }
 },
 "nbformat": 4,
 "nbformat_minor": 4
}
