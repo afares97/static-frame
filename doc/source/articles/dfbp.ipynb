{
 "cells": [
  {
   "cell_type": "markdown",
   "id": "0b449d32",
   "metadata": {},
   "source": [
    "\n",
    "# DataFrames Beyond Pandas: An Introduction to StaticFrame\n",
    "\n",
    "\n",
    "\n",
    "\n"
   ]
  },
  {
   "cell_type": "markdown",
   "id": "f6afd710",
   "metadata": {},
   "source": [
    "Back in 2017 I asked the question: \"is Pandas suitable for building production libraries?\". While Pandas is well-known for its utility in data science and ad-hoc research, I consistently found its ease of use and flexability a detriment in building long-lived library code for production systems. This led me to create StaticFrame, an alternative dataframe library built on an immutable data model. After years of development and use, I am confident that StaticFrame reduces opportunities for error and leads to more maintainable code. While not yet always more efficient than Pandas, in some areas StaticFrame's immutable data model offers very significant improvements in run time and memory usage. Beyond common functionality, StaticFrame offers a more explicit and consistent API, novel multi-Frame containers, and support for high-performance serialization throught the NPZ format."
   ]
  },
  {
   "cell_type": "markdown",
   "id": "00866bd7",
   "metadata": {},
   "source": [
    "\n",
    "* History\n",
    "    * Motivation\n",
    "        * Spooky actions at a distance\n",
    "            * Giving a 2D array to Frame\n",
    "        * Redundancies\n",
    "            * f.attr, f['attr']\n",
    "            * pivot, pivot_table\n",
    "        * Inconsistencies\n",
    "            * No DataFrame.name, but Index.name, Series.name\n",
    "        * NumPy types: datetime64, strings\n",
    "    * Development\n",
    "        * May of 2017 began implementation\n",
    "        * May of 2018 first public release\n",
    "    \n",
    "* Current State\n",
    "    * Code, Docs, Packages\n",
    "    * Quality & Test\n",
    "        * 100% test coverage\n",
    "        * CI on all platforms\n",
    "        * Full mypy, pylint quality checks\n",
    "    * Contributing\n",
    "    * 1.0\n",
    "        * Nearly feature complete\n",
    "        * C-extensions through ArrayKit\n",
    "\n",
    "* The Frame and the Series\n",
    "    * DataFrame as labelled arrays\n",
    "        * Labels stay with data\n",
    "        * Operations align on labels\n",
    "    * Focus on 2D and 1D containers\n",
    "    * nD via hierarchical indices, higher-order containers\n",
    "\n",
    "* Introspective containers\n",
    "    * The `interface` attributes\n",
    "    * Using the docs\n",
    "    \n",
    "* A more explicit interface\n",
    "    * Keyword-only arguments everywhere\n",
    "    * Relevant, orthogonal parameters\n",
    "    * Avoiding string parameters\n",
    "        * pd.rank v. sf.rank_ordinal()    \n",
    "    * Consitent, hierarchical naming\n",
    "        * relabel v. rename\n",
    "        * sf.Series.relabel, sf.Series.relabel_label_add\n",
    "        * iter_element().apply(), map_all(), map_fill(), map_any()\n",
    "\n",
    "* Immutability and \"no-copy\" operations\n",
    "    * Immutability reduces opportunities for errors\n",
    "    * Immutability means we can pass around views without defensive copies\n",
    "        * Renaming a `sf.Frame` is no-copy\n",
    "        * Horizontal concatenation of same-index copmonents is no-copy\n",
    "\n",
    "* Getting data in and out\n",
    "    * Consistent from / to naming on classes\n",
    "        * pd.read_parquet(), pd.Frame.to_parquet()\n",
    "        * sf.Frame.from_parquet(), sf.Frame.to_parquet()\n",
    "    * Explicit constructors to ensure parameter relevance and orthogonality\n",
    "        * sf.Series.from_element\n",
    "    * Broad support for all common formats\n",
    "        * TSV, XLSX, Parquet\n",
    "    * A new format: NPZ\n",
    "        * Often faster than parquet\n",
    "        * Full encodes all characteristics\n",
    "\n",
    "* More than one type of Frame\n",
    "    * Frame, FrameGO, FrameHE\n",
    "    * FrameGO: Grow-only: safer mutability\n",
    "    * FrameHE: A hashable Frame\n",
    "\n",
    "* More than one type of Index\n",
    "    * Index, IndexDate, IndexYear, etc.\n",
    "    * IndexHierarchy\n",
    "    \n",
    "* Selection\n",
    "    * More explicit than pandas\n",
    "        * sf.Frame[] is only a columns selector\n",
    "        * sf.Frame.iloc, sf.Frame.loc, sf.Frame.bloc\n",
    "        * sf.ILoc, sf.HLoc: embed iloc, hloc selection in a loc\n",
    "\n",
    "* Renaming, reindexing, and relabeling\n",
    "    * rename()\n",
    "    * reindex\n",
    "    * relabel\n",
    "\n",
    "* Iteration and function application\n",
    "    * sf.Frame.iter_element().apply()\n",
    "    * sf.Frame.iter_series(), iter_array(), iter_tuple()\n",
    "\n",
    "* Grouping and Windowing\n",
    "    * sf.Frame.iter_group()\n",
    "    * sf.Frame.iter_window()\n",
    "\n",
    "* `via` interfaces\n",
    "    * Consistent, hierarchical naming\n",
    "    * via_str, via_dt\n",
    "    * via_re\n",
    "    * via_T, via_fill_value\n",
    "    \n",
    "* Higher-Order Containers\n",
    "    * Bus: A Series of Frame\n",
    "        * Lazy loading, eager unloading\n",
    "        * Support for reading to, writing to archives\n",
    "    * Batch: composing operations on iterators of Frames\n",
    "        * A generalization of Pandas\n",
    "    * Yarn, Quilt\n",
    "    \n",
    "* Performance\n"
   ]
  },
  {
   "cell_type": "markdown",
   "id": "d30eadc7",
   "metadata": {},
   "source": [
    "# A Brief History of DataFrames\n",
    "\n",
    "* 1991: earliest implementation of a data frame in the S language\n",
    "* 2009: Pandas 0.1 released\n",
    "* 2018: StaticFrame 0.1 released\n",
    "\n"
   ]
  },
  {
   "cell_type": "markdown",
   "id": "5ee1ab20",
   "metadata": {},
   "source": [
    "# Another DataFrame Library?\n",
    "\n",
    "* Pandas prioritizes ease of use over explicit, strict interfaces\n",
    "* Pandas supports in-place mutation\n",
    "* Pandas API is riddled with inconsistencies\n",
    "* Pandas does not support all NumPy types (`<U`, `datetime64`)\n",
    "* Pandas abandoned multi-frame containers (i.e., removing the `pd.Panel`)"
   ]
  },
  {
   "cell_type": "markdown",
   "id": "0fd2c600",
   "metadata": {},
   "source": [
    "# StaticFrame Development Status\n",
    "* Releases\n",
    "    * Regular releases via PIP\n",
    "    * Stable API on minor releases (i.e., 0.9 will introduce backward incompatibilities on 0.8)\n",
    "* Quality & Test\n",
    "    * 100% test coverage\n",
    "    * Robust CI/CD with MyPy, Pylint, and test\n",
    "* Documentation\n",
    "    * Full code-based API documentation (https://static-frame.readthedocs.io)\n",
    "    * Every object exposes API via `interface` attribute\n",
    "* Core Dependencies\n",
    "    * NumPy\n",
    "    * team-maintained CPython extension libraries: `automap`, `arraykit`\n",
    "* 1.0\n",
    "    * Pending `arraykit` implementation of delimited file readers to fix known issues\n",
    "    * Maybe by end of 2022\n"
   ]
  },
  {
   "cell_type": "markdown",
   "id": "c38cda99",
   "metadata": {},
   "source": [
    "# Getting Data In and Out\n",
    "\n",
    "* Constructors live on containers\n",
    "    * `pd.read_csv()`, `pd.DataFrame.from_records()`\n",
    "    * `sf.Frame.from_csv()`, `sf.Frame.from_records()`\n",
    "* Narrow, explicit constructors\n",
    "    * `pd.DataFrame()` supports a single element, or a column of elements\n",
    "    * `sf.Frame.from_element()`, `sf.Frame.from_elements()`\n",
    "* Support for common serialization formats\n",
    "    * `pd.read_excel()`, `pd.read_csv()`, `pd.read_parquet()`\n",
    "    * `sf.Frame.from_xlsx()`, `sf.Frame.from_csv()`, `sf.Frame.from_parquet()`\n",
    "* Serialization unique to StaticFrame\n",
    "    * NPZ and NPY formats faster than parquet with comparable file sizes\n",
    "    * All `sf.Frame` characteristics encoded\n",
    "    * NPY supports memory mapping out-of-core data\n",
    "    * `sf.Frame.to_npz()`, `sf.Frame.from_npz()`"
   ]
  },
  {
   "cell_type": "markdown",
   "id": "fc2e3588",
   "metadata": {},
   "source": [
    "# The Frame & the Series\n",
    "* A `Series` is a 1D array (of a single type) with labels (an `index`)\n",
    "* A `Frame` is a 2D container (of one or more types) with row and column labels (an `index` and `columns`)\n",
    "* Higher-order containers\n",
    "    * Use hierarchical indices on a 2D container\n",
    "    * Use multi-`Frame` containers (i.e., the `Bus`)"
   ]
  },
  {
   "cell_type": "code",
   "execution_count": null,
   "id": "778ee5c3",
   "metadata": {},
   "outputs": [],
   "source": []
  },
  {
   "cell_type": "code",
   "execution_count": 13,
   "id": "ee520ec2",
   "metadata": {},
   "outputs": [
    {
     "ename": "TypeError",
     "evalue": "read_csv() missing 1 required positional argument: 'filepath_or_buffer'",
     "output_type": "error",
     "traceback": [
      "\u001b[0;31m---------------------------------------------------------------------------\u001b[0m",
      "\u001b[0;31mTypeError\u001b[0m                                 Traceback (most recent call last)",
      "\u001b[0;32m/var/folders/vx/nsxtvm515gl6mqk3jvqz2xfr0000gn/T/ipykernel_59705/2337035740.py\u001b[0m in \u001b[0;36m<module>\u001b[0;34m\u001b[0m\n\u001b[1;32m      1\u001b[0m \u001b[0;32mimport\u001b[0m \u001b[0mpandas\u001b[0m \u001b[0;32mas\u001b[0m \u001b[0mpd\u001b[0m\u001b[0;34m\u001b[0m\u001b[0;34m\u001b[0m\u001b[0m\n\u001b[1;32m      2\u001b[0m \u001b[0;32mimport\u001b[0m \u001b[0mnumpy\u001b[0m \u001b[0;32mas\u001b[0m \u001b[0mnp\u001b[0m\u001b[0;34m\u001b[0m\u001b[0;34m\u001b[0m\u001b[0m\n\u001b[0;32m----> 3\u001b[0;31m \u001b[0mpd\u001b[0m\u001b[0;34m.\u001b[0m\u001b[0mread_csv\u001b[0m\u001b[0;34m(\u001b[0m\u001b[0;34m)\u001b[0m\u001b[0;34m\u001b[0m\u001b[0;34m\u001b[0m\u001b[0m\n\u001b[0m",
      "\u001b[0;31mTypeError\u001b[0m: read_csv() missing 1 required positional argument: 'filepath_or_buffer'"
     ]
    }
   ],
   "source": [
    "import pandas as pd\n",
    "import numpy as np\n",
    "pd.read_csv()"
   ]
  }
 ],
 "metadata": {
  "kernelspec": {
   "display_name": "Python 3 (ipykernel)",
   "language": "python",
   "name": "python3"
  },
  "language_info": {
   "codemirror_mode": {
    "name": "ipython",
    "version": 3
   },
   "file_extension": ".py",
   "mimetype": "text/x-python",
   "name": "python",
   "nbconvert_exporter": "python",
   "pygments_lexer": "ipython3",
   "version": "3.9.5"
  }
 },
 "nbformat": 4,
 "nbformat_minor": 5
}
