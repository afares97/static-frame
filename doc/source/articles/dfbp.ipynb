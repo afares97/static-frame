{
 "cells": [
  {
   "cell_type": "markdown",
   "id": "5a043ee7",
   "metadata": {},
   "source": [
    "# StaticFrame from the Ground Up: Getting Started with Immutable DataFrames"
   ]
  },
  {
   "cell_type": "markdown",
   "id": "b37249b1",
   "metadata": {},
   "source": [
    "Back in 2017 I found myself frequently asking: \"is Pandas a suitable foundation for production library code?\" While Pandas is well-known for its utility in data science, I consistently found its flexibility a detriment in building library code for production systems.\n",
    "\n",
    "This led me to create StaticFrame, an alternative dataframe library built on an immutable data model. After years of development and use, I am confident that StaticFrame reduces opportunities for error and leads to more maintainable code. While not yet always more efficient than Pandas, in some areas StaticFrame offers very significant improvements in run time and memory usage. Beyond common functionality, StaticFrame offers a more explicit and consistent API, novel multi-Frame containers and processors, and support for high-performance serialization through the NPZ format.\n",
    "\n",
    "This notebook is designed as to provide a rapid, breadth-first survey of StaticFrame. Reference to how StaticFrame deviates from Pandas is highlighted."
   ]
  },
  {
   "cell_type": "markdown",
   "id": "2364378f",
   "metadata": {},
   "source": [
    "# What is a DataFrame?\n",
    "* A 2D table with labelled rows and columns\n",
    "    * Labels stay with data after selection\n",
    "    * Operations align on labels\n",
    "    * Can reindex based on labels\n",
    "* Distinct from a simple 2D array\n",
    "    * Labels can be any (hashable) type\n",
    "    * Support for hetergenous column types\n",
    "* A high-level language (Pyhon) can be used to implement dataframe functionality over a high-performance, low-level array library (NumPy)"
   ]
  },
  {
   "cell_type": "markdown",
   "id": "398c687a",
   "metadata": {},
   "source": [
    "# A Brief History of DataFrames\n",
    "\n",
    "* 1991: earliest implementation of a dataframe in the S language\n",
    "* 2009: Pandas 0.1 released\n",
    "* 2018: StaticFrame 0.1 released\n",
    "* Presently a number of dataframe libraries in Python and other languages\n"
   ]
  },
  {
   "cell_type": "markdown",
   "id": "7b49485a",
   "metadata": {},
   "source": [
    "# Why Not Just Use Pandas?\n",
    "\n",
    "* Pandas prioritizes ease of use over explicit, strict interfaces\n",
    "* Pandas API is riddled with inconsistencies\n",
    "* Many Pandas interfaces have non-orthogonal parameters\n",
    "* Pandas supports in-place mutation\n",
    "* Pandas only optionally supports unique indices (`verify_integrity` defaults to `False`)\n",
    "* Pandas does not support all NumPy types (Unicode, `datetime64`)\n",
    "* Pandas abandoned multi-frame containers (i.e., removing the `pd.Panel`)\n",
    "\n",
    "* See also: https://dev.to/flexatone/ten-reasons-to-use-staticframe-instead-of-pandas-4aad"
   ]
  },
  {
   "cell_type": "markdown",
   "id": "6921263c",
   "metadata": {},
   "source": [
    "# Learning StaticFrame from Pandas\n",
    "\n",
    "* Nearly everything you can do with Pandas you can do with StaticFrame\n",
    "    * No internal graphing / plotting support\n",
    "    * Few internal implementations of calculation available elsewhere (NumPy, SciPy)\n",
    "* Much of what you already know will directly translate\n",
    "    * Many interfaces and methods are identical\n",
    "    * StaticFrame has more numerous, more narrow interfaces with key-word only arguments\n",
    "    * StaticFrame follows hierarchical naming\n",
    "* You can go back and forth\n",
    "    * `Frame.to_pandas()`\n",
    "    * `Frame.from_pandas()`"
   ]
  },
  {
   "cell_type": "markdown",
   "id": "38af407c",
   "metadata": {},
   "source": [
    "# Learning StaticFrame from Examples\n",
    "* Examples used here are intentionally compact\n",
    "* Examples mostly on `sf.Frame`\n",
    "* Interfaces on `sf.Series` are often identical"
   ]
  },
  {
   "cell_type": "markdown",
   "id": "01df569c",
   "metadata": {},
   "source": [
    "# StaticFrame Development Status\n",
    "\n",
    "* Releases\n",
    "    * Regular releases via PIP\n",
    "    * Stable API on minor releases (i.e., 0.9 will introduce backward incompatibilities on 0.8)\n",
    "* Quality & Test\n",
    "    * 100% test coverage\n",
    "    * Robust CI/CD with MyPy, Pylint, and multiplatform test\n",
    "* Documentation\n",
    "    * Full code-based API documentation (https://static-frame.readthedocs.io)\n",
    "    * Every object exposes API via `interface` attribute\n",
    "* Core Dependencies\n",
    "    * NumPy\n",
    "    * Team-maintained CPython extension libraries: `automap`, `arraykit`\n",
    "* When will there be a 1.0?\n",
    "    * Pending `arraykit` implementation of delimited file readers to fix known issues\n",
    "    * Maybe by end of 2022\n"
   ]
  },
  {
   "cell_type": "markdown",
   "id": "7b07f997",
   "metadata": {},
   "source": [
    "# Installing & Importing\n",
    "\n",
    "* Available via pip, conda-forge\n",
    "* `import static_frame as sf`\n"
   ]
  },
  {
   "cell_type": "code",
   "execution_count": 2,
   "id": "50a50ac3",
   "metadata": {},
   "outputs": [],
   "source": [
    "import static_frame as sf\n",
    "import numpy as np"
   ]
  },
  {
   "cell_type": "markdown",
   "id": "f0184e23",
   "metadata": {},
   "source": [
    "# The Frame & the Series\n",
    "* A `Series` is a 1D array (of a single dtype) with labels \n",
    "* A `Frame` is a 2D container (of one or more columnar dtypes) with row and column labels\n",
    "* Support for higher-dimensional data\n",
    "    * Use hierarchical indices on a 2D container\n",
    "    * Use multi-`Frame` containers (i.e., the `Bus`)"
   ]
  },
  {
   "cell_type": "markdown",
   "id": "4a9b729b",
   "metadata": {},
   "source": [
    "# Anatomy of a Frame\n",
    "\n",
    "* A `sf.Frame` wraps 1D and 2D NumPy arrays\n",
    "* NumPy dtypes are unified by column\n",
    "* Each axis is labelled with an `sf.Index` (or subclass)\n",
    "    * Row labels via `sf.Frame.index`\n",
    "    * Column labels via `sf.Frame.columns`\n",
    "* Hashable metadata via `name` attributes on all containers\n",
    "    * `sf.Frame.name` (StaticFrame only)\n",
    "    * `sf.Frame.index.name`\n",
    "    * `sf.Frame.columns.name`"
   ]
  },
  {
   "cell_type": "markdown",
   "id": "03045292",
   "metadata": {},
   "source": [
    "# Getting Data In & Out: Constructors & Exporters\n",
    "\n",
    "* Constructors always live on containers\n",
    "    * `pd.read_csv()`, `pd.DataFrame.from_records()`\n",
    "    * `sf.Frame.from_csv()`, `sf.Frame.from_records()`\n",
    "* Explicit constructors with narrow functionality\n",
    "    * `pd.DataFrame()` supports a single element, or a column of elements\n",
    "    * `sf.Frame.from_element()`, `sf.Frame.from_elements()`\n",
    "* Support for common serialization formats\n",
    "    * `pd.read_excel()`, `pd.read_csv()`, `pd.read_parquet()`\n",
    "    * `sf.Frame.from_xlsx()`, `sf.Frame.from_csv()`, `sf.Frame.from_parquet()`\n",
    "* Serialization methods exclusive to StaticFrame\n",
    "    * NPZ and NPY formats faster than parquet with comparable file sizes\n",
    "    * Encodes all `sf.Frame` characteristics\n",
    "    * NPY supports memory mapping out-of-core data\n",
    "    * `sf.Frame.to_npz()`, `sf.Frame.from_npz()`"
   ]
  },
  {
   "cell_type": "code",
   "execution_count": 3,
   "id": "7dd279a9",
   "metadata": {
    "scrolled": true
   },
   "outputs": [
    {
     "name": "stdout",
     "output_type": "stream",
     "text": [
      "<Frame>\n",
      "<Index> 0      1       2          <int64>\n",
      "<Index>\n",
      "0       True   20      1954-11-02\n",
      "1       False  30      2020-04-28\n",
      "<int64> <bool> <int64> <<U10>\n"
     ]
    }
   ],
   "source": [
    "# Creating a Frame from row iterables\n",
    "f = sf.Frame.from_records(((True, 20, '1954-11-02'), (False, 30, '2020-04-28')))\n",
    "print(str(f))"
   ]
  },
  {
   "cell_type": "markdown",
   "id": "5e1bdcc4",
   "metadata": {},
   "source": [
    "# String Representations\n",
    "\n",
    "* `sf.Frame.__repr__()` provides more information than `pd.DataFrame.__repr__()`\n",
    "* Shows types of `Frame`, `.index`, and `.columns`\n",
    "* Shows NumPy dtypes of each column, `.index`, and `.columns`\n",
    "* In terminal environments can use colors for types, dtypes"
   ]
  },
  {
   "cell_type": "code",
   "execution_count": 4,
   "id": "3c8463eb",
   "metadata": {},
   "outputs": [
    {
     "name": "stdout",
     "output_type": "stream",
     "text": [
      "<FrameGO: records>\n",
      "<IndexGO>          A      B       C       <<U1>\n",
      "<IndexYear: year>\n",
      "1954               True   20      1954-11\n",
      "2020               False  30      2020-04\n",
      "<datetime64[Y]>    <bool> <int64> <<U7>\n"
     ]
    }
   ],
   "source": [
    "# Creating a Frame with Frame subclass, Index subclasses, name attributes\n",
    "f = sf.FrameGO.from_records(((True, 20, '1954-11'), (False, 30, '2020-04')), \n",
    "        index=sf.IndexYear(('1954', '2020'), name='year'),\n",
    "        columns=('A', 'B', 'C'),\n",
    "        name='records', \n",
    "        )\n",
    "print(str(f))"
   ]
  },
  {
   "cell_type": "markdown",
   "id": "7af14edd",
   "metadata": {},
   "source": [
    "# Representation in Jupyter Notebooks\n",
    "\n",
    "* An HTML table repsentation\n",
    "* Type / dtype information is hidden by default"
   ]
  },
  {
   "cell_type": "code",
   "execution_count": 5,
   "id": "744a162e",
   "metadata": {},
   "outputs": [
    {
     "data": {
      "text/html": [
       "<table><thead><tr><th></th><th>A</th><th>B</th><th>C</th></tr></thead><tbody><tr><th>x</th><td>True</td><td>20</td><td>1954-11-02</td></tr><tr><th>y</th><td>False</td><td>30</td><td>2020-04-28</td></tr></tbody></table>"
      ],
      "text/plain": [
       "<Frame>\n",
       "<Index> A      B       C          <<U1>\n",
       "<Index>\n",
       "x       True   20      1954-11-02\n",
       "y       False  30      2020-04-28\n",
       "<<U1>   <bool> <int64> <<U10>"
      ]
     },
     "execution_count": 5,
     "metadata": {},
     "output_type": "execute_result"
    }
   ],
   "source": [
    "f1 = sf.Frame.from_records(((True, 20, '1954-11-02'), (False, 30, '2020-04-28')), \n",
    "                            index=tuple('xy'), columns=tuple('ABC'))\n",
    "f1"
   ]
  },
  {
   "cell_type": "markdown",
   "id": "441eb55b",
   "metadata": {},
   "source": [
    "# Finding All Constructors\n",
    "\n",
    "* Every SF container has an `.interface` attribute\n",
    "* `.interface` returns a `sf.Frame` of the complete interface\n",
    "* The same representation is used to populate API overview: https://static-frame.readthedocs.io/en/latest/api_overview/frame.html\n"
   ]
  },
  {
   "cell_type": "code",
   "execution_count": 6,
   "id": "ae2e8699",
   "metadata": {},
   "outputs": [
    {
     "data": {
      "text/html": [
       "<table><thead><tr><th></th><th>cls_name</th><th>group</th><th>doc</th></tr></thead><tbody><tr><th>__init__(data, *, index, columns, ...)</th><td>Frame</td><td>Constructor</td><td>Initializer. Args: data: Default Frame initialization requires typed data such a...</td></tr><tr><th>from_arrow(value, *, index_depth, index_name_depth_level, ...)</th><td>Frame</td><td>Constructor</td><td>Realize a Frame from an Arrow Table. Args: value: A pyarrow.Table instance. inde...</td></tr><tr><th>from_clipboard(*, delimiter, index_depth, index_column_first, ...)</th><td>Frame</td><td>Constructor</td><td>Create a Frame from the contents of the clipboard (assuming a table is stored as...</td></tr><tr><th>from_concat(frames, *, axis, union, ...)</th><td>Frame</td><td>Constructor</td><td>Concatenate multiple Frames into a new Frame. If index or columns are provided a...</td></tr><tr><th>from_concat_items(items, *, axis, union, ...)</th><td>Frame</td><td>Constructor</td><td>Produce a Frame with a hierarchical index from an iterable of pairs of labels, F...</td></tr></tbody></table>"
      ],
      "text/plain": [
       "<Frame: Frame>\n",
       "<Index>                              cls_name group       doc                  <<U18>\n",
       "<Index: signature>\n",
       "__init__(data, *, index, columns,... Frame    Constructor Initializer. Args...\n",
       "from_arrow(value, *, index_depth,... Frame    Constructor Realize a Frame f...\n",
       "from_clipboard(*, delimiter, inde... Frame    Constructor Create a Frame fr...\n",
       "from_concat(frames, *, axis, unio... Frame    Constructor Concatenate multi...\n",
       "from_concat_items(items, *, axis,... Frame    Constructor Produce a Frame w...\n",
       "<<U94>                               <<U5>    <<U27>      <<U83>"
      ]
     },
     "execution_count": 6,
     "metadata": {},
     "output_type": "execute_result"
    }
   ],
   "source": [
    "# Using the interface attribute to show the signature of all constructors\n",
    "f = sf.Frame.interface\n",
    "f.loc[f['group'] == 'Constructor'].head()"
   ]
  },
  {
   "cell_type": "markdown",
   "id": "7e99303a",
   "metadata": {},
   "source": [
    "# Selection\n",
    "* StaticFrame exposes all types of NumPy and Pandas-style selection routines\n",
    "* StaticFrame interfaces are more narrow than Pandas\n",
    "* Selection interfaces\n",
    "    * `loc[]`: use lables\n",
    "    * `iloc[]`: use integer position (from zero)\n",
    "    * `bloc[]`: use Boolean indicator (StaticFrame only)\n",
    "* NumPy-style selection values \n",
    "    * A single label (a tuple is a single label)\n",
    "    * A list of labels (must be a list to distinguish from a tuple label)\n",
    "    * A slice of labels\n",
    "    * A 1D Boolean arary selecting labels\n"
   ]
  },
  {
   "cell_type": "markdown",
   "id": "70799228",
   "metadata": {},
   "source": [
    "# Selection Interfaces on `sf.Frame`\n",
    "    \n",
    "* `[]`: root `__getitem__` selection \n",
    "    * `pd.DataFrame[]` selects by column labels, or row and column labels, or by 2D Boolean array\n",
    "    * `sf.Frame[]` is exclusively column selection\n",
    "* `loc[]`: select rows, optionally columns, by label (same as Pandas)\n",
    "* `iloc[]`: select rows, optionally columns, by integer position (same as Pandas)\n",
    "* `bloc[]`: select with a 2D Boolean array (StaticFrame only)"
   ]
  },
  {
   "cell_type": "code",
   "execution_count": 7,
   "id": "2e7c11cd",
   "metadata": {},
   "outputs": [
    {
     "data": {
      "text/html": [
       "<table><thead><tr><th></th><th>A</th><th>B</th><th>C</th></tr></thead><tbody><tr><th>x</th><td>True</td><td>20</td><td>1954-11-02</td></tr><tr><th>y</th><td>False</td><td>30</td><td>2020-04-28</td></tr></tbody></table>"
      ],
      "text/plain": [
       "<Frame>\n",
       "<Index> A      B       C          <<U1>\n",
       "<Index>\n",
       "x       True   20      1954-11-02\n",
       "y       False  30      2020-04-28\n",
       "<<U1>   <bool> <int64> <<U10>"
      ]
     },
     "metadata": {},
     "output_type": "display_data"
    },
    {
     "data": {
      "text/html": [
       "<table><tbody><tr><th>x</th><td>20</td></tr><tr><th>y</th><td>30</td></tr></tbody></table>"
      ],
      "text/plain": [
       "<Series: B>\n",
       "<Index>\n",
       "x           20\n",
       "y           30\n",
       "<<U1>       <int64>"
      ]
     },
     "execution_count": 7,
     "metadata": {},
     "output_type": "execute_result"
    }
   ],
   "source": [
    "f1 = sf.Frame.from_records(((True, 20, '1954-11-02'), (False, 30, '2020-04-28')), \n",
    "                            index=tuple('xy'), columns=tuple('ABC'))\n",
    "display(f1)\n",
    "f1['B'] # Select a column with a single label"
   ]
  },
  {
   "cell_type": "code",
   "execution_count": 8,
   "id": "d4aeb2ef",
   "metadata": {},
   "outputs": [
    {
     "data": {
      "text/html": [
       "<table><thead><tr><th></th><th>C</th></tr></thead><tbody><tr><th>x</th><td>1954-11-02</td></tr><tr><th>y</th><td>2020-04-28</td></tr></tbody></table>"
      ],
      "text/plain": [
       "<Frame>\n",
       "<Index> C          <<U1>\n",
       "<Index>\n",
       "x       1954-11-02\n",
       "y       2020-04-28\n",
       "<<U1>   <<U10>"
      ]
     },
     "execution_count": 8,
     "metadata": {},
     "output_type": "execute_result"
    }
   ],
   "source": [
    "f1[f1.columns == 'C'] # Select columns with a Boolean indicator"
   ]
  },
  {
   "cell_type": "code",
   "execution_count": 9,
   "id": "a2f36914",
   "metadata": {},
   "outputs": [
    {
     "data": {
      "text/html": [
       "<table><thead><tr><th></th><th>A</th><th>C</th></tr></thead><tbody><tr><th>y</th><td>False</td><td>2020-04-28</td></tr></tbody></table>"
      ],
      "text/plain": [
       "<Frame>\n",
       "<Index> A      C          <<U1>\n",
       "<Index>\n",
       "y       False  2020-04-28\n",
       "<<U1>   <bool> <<U10>"
      ]
     },
     "execution_count": 9,
     "metadata": {},
     "output_type": "execute_result"
    }
   ],
   "source": [
    "f1.loc['y':, ['A', 'C']] # Select a row with a slice and list of labels"
   ]
  },
  {
   "cell_type": "code",
   "execution_count": 10,
   "id": "b699335c",
   "metadata": {},
   "outputs": [
    {
     "data": {
      "text/plain": [
       "'2020-04-28'"
      ]
     },
     "execution_count": 10,
     "metadata": {},
     "output_type": "execute_result"
    }
   ],
   "source": [
    "f1.iloc[-1, -1] # Select an element with iloc labels"
   ]
  },
  {
   "cell_type": "code",
   "execution_count": 11,
   "id": "7c9c3082",
   "metadata": {},
   "outputs": [
    {
     "data": {
      "text/html": [
       "<table><tbody><tr><th>(&#x27;y&#x27;, &#x27;B&#x27;)</th><td>30</td></tr><tr><th>(&#x27;y&#x27;, &#x27;C&#x27;)</th><td>2020-04-28</td></tr></tbody></table>"
      ],
      "text/plain": [
       "<Series>\n",
       "<Index>\n",
       "('y', 'B') 30\n",
       "('y', 'C') 2020-04-28\n",
       "<object>   <object>"
      ]
     },
     "execution_count": 11,
     "metadata": {},
     "output_type": "execute_result"
    }
   ],
   "source": [
    "f1.bloc[f1.isin([30, '2020-04-28'])] # Selcting non contiguous values"
   ]
  },
  {
   "cell_type": "markdown",
   "id": "6a4ce5cd",
   "metadata": {},
   "source": [
    "# Mixing `loc` and `iloc` Selection\n",
    "\n",
    "* `sf.ILoc` (StaticFrame only) permits embedding `iloc` selection in a `loc` selection\n",
    "* `sf.HLoc` (similar to `pd.IndexSlice`) permits embedding hierarchical selection in `loc` selection"
   ]
  },
  {
   "cell_type": "code",
   "execution_count": 12,
   "id": "344034db",
   "metadata": {},
   "outputs": [
    {
     "data": {
      "text/html": [
       "<table><thead><tr><th></th><th>A</th><th>B</th><th>C</th></tr></thead><tbody><tr><th>x</th><td>True</td><td>20</td><td>1954-11-02</td></tr><tr><th>y</th><td>False</td><td>30</td><td>2020-04-28</td></tr></tbody></table>"
      ],
      "text/plain": [
       "<Frame>\n",
       "<Index> A      B       C          <<U1>\n",
       "<Index>\n",
       "x       True   20      1954-11-02\n",
       "y       False  30      2020-04-28\n",
       "<<U1>   <bool> <int64> <<U10>"
      ]
     },
     "metadata": {},
     "output_type": "display_data"
    },
    {
     "data": {
      "text/html": [
       "<table><tbody><tr><th>A</th><td>False</td></tr><tr><th>C</th><td>2020-04-28</td></tr></tbody></table>"
      ],
      "text/plain": [
       "<Series: y>\n",
       "<Index>\n",
       "A           False\n",
       "C           2020-04-28\n",
       "<<U1>       <object>"
      ]
     },
     "execution_count": 12,
     "metadata": {},
     "output_type": "execute_result"
    }
   ],
   "source": [
    "display(f1)\n",
    "f1.loc[sf.ILoc[-1], ['A', 'C']] # Get the last row, columns A and C"
   ]
  },
  {
   "cell_type": "markdown",
   "id": "9df8110c",
   "metadata": {},
   "source": [
    "# Handling Missing Values\n",
    "* Missing values are `None` and `np.nan` (same as Pandas)\n",
    "* Boolean indicators (same as Pandas)\n",
    "    * `sf.Frame.isna()`\n",
    "    * `sf.Frame.notna()`\n",
    "* Replacing missing values with new containers (same as Pandas)\n",
    "    * `sf.Frame.dropna()`\n",
    "    * `sf.Frame.fillna()`"
   ]
  },
  {
   "cell_type": "markdown",
   "id": "97b93283",
   "metadata": {},
   "source": [
    "# Handling Falsy Values\n",
    "* Sometimes we want to treat `0` or `''` or `()` as missing\n",
    "* Functions corresponding to `*na` functions (StaticFrame only)\n",
    "    * `sf.Frame.isfalsy()`\n",
    "    * `sf.Frame.notfalsy()`\n",
    "    * `sf.Frame.dropfalsy()`\n",
    "    * `sf.Frame.fillfalsy()`"
   ]
  },
  {
   "cell_type": "markdown",
   "id": "26621b1f",
   "metadata": {},
   "source": [
    "# Fill Missing Values Along an Axis\n",
    "* Fill the first or last non-missing observation up to the `limit` parameter.\n",
    "    * Related functionaliy provided in `pd.DataFrame.fillna()`\n",
    "    * `sf.Frame.fillna_forward()`\n",
    "    * `sf.Frame.fillna_backward()`\n",
    "* Fill the leading or trailing missing values with a provided value\n",
    "    * StaticFrame only\n",
    "    * `sf.Frame.fillna_leading()`\n",
    "    * `sf.Frame.fillna_trailing()`"
   ]
  },
  {
   "cell_type": "markdown",
   "id": "7d1602f2",
   "metadata": {},
   "source": [
    "# Fill Falsy Values Along an Axis\n",
    "* StaticFrame only\n",
    "* Fill the first or last non-missing observation up to the `limit` parameter.\n",
    "    * `sf.Frame.fillfalsy_forward()`\n",
    "    * `sf.Frame.fillfalsy_backward()`\n",
    "* Fill the leading or trailing missing values with a provided value\n",
    "    * `sf.Frame.fillfalsy_leading()`\n",
    "    * `sf.Frame.fillfalsy_trailing()`"
   ]
  },
  {
   "cell_type": "markdown",
   "id": "81ca72d1",
   "metadata": {},
   "source": [
    "# Immutability and \"No-Copy\" Operations\n",
    "* Immutability reduces opportunities for errors \n",
    "* NumPy provides no-copy \"views\" of array data when possible\n",
    "* With immutabile arrays, we can pass around views without defensive copies\n",
    "* Examples:\n",
    "    * Renaming an `sf.Frame` is no-copy\n",
    "    * Relabelling `index` or `columns` does not copy underlying arrays\n",
    "    * Horizontal concatenation of same-index components is no-copy\n",
    "* Pandas support for mutation, combined with NumPy views, leads to commonly observed Pandas `SettingWithCopyWarning`"
   ]
  },
  {
   "cell_type": "markdown",
   "id": "5179b143",
   "metadata": {},
   "source": [
    "# Assignment with Immutable Frames\n",
    "* Pandas permits in-place assignment and mutationi to all types of selections\n",
    "    * `pd.DataFrame.loc['x', 'B':] = 1.0`\n",
    "* StaticFrame offers an `assign` interface that defines a selection that is then called with a value to assign\n",
    "* The value to assign can be an element or labelled data (`sf.Series`, `sf.Frame`)\n",
    "* `sf.Frame.assign.loc['x', 'B':](1.0)`\n",
    "    * Returns a new container\n",
    "    * Unchanged columns will be views and re-used (no-copy)"
   ]
  },
  {
   "cell_type": "code",
   "execution_count": 13,
   "id": "d783f73b",
   "metadata": {},
   "outputs": [
    {
     "data": {
      "text/html": [
       "<table><thead><tr><th></th><th>A</th><th>B</th><th>C</th></tr></thead><tbody><tr><th>x</th><td>True</td><td>-1</td><td>-1</td></tr><tr><th>y</th><td>False</td><td>30</td><td>2020-04-28</td></tr></tbody></table>"
      ],
      "text/plain": [
       "<Frame>\n",
       "<Index> A      B       C          <<U1>\n",
       "<Index>\n",
       "x       True   -1      -1\n",
       "y       False  30      2020-04-28\n",
       "<<U1>   <bool> <int64> <object>"
      ]
     },
     "execution_count": 13,
     "metadata": {},
     "output_type": "execute_result"
    }
   ],
   "source": [
    "# Assigning a value to a slice in a single row\n",
    "f1.assign.loc['x', 'B':](-1)"
   ]
  },
  {
   "cell_type": "code",
   "execution_count": 14,
   "id": "4c398864",
   "metadata": {},
   "outputs": [
    {
     "data": {
      "text/html": [
       "<table><thead><tr><th></th><th>A</th><th>B</th><th>C</th></tr></thead><tbody><tr><th>x</th><td>True</td><td>x</td><td>1954-11-02</td></tr><tr><th>y</th><td>False</td><td>y</td><td>2020-04-28</td></tr></tbody></table>"
      ],
      "text/plain": [
       "<Frame>\n",
       "<Index> A      B     C          <<U1>\n",
       "<Index>\n",
       "x       True   x     1954-11-02\n",
       "y       False  y     2020-04-28\n",
       "<<U1>   <bool> <<U1> <<U10>"
      ]
     },
     "execution_count": 14,
     "metadata": {},
     "output_type": "execute_result"
    }
   ],
   "source": [
    "# Assigning a Series to a column, matching on label\n",
    "f1.assign['B'](sf.Series(('y', 'x'), index=('y', 'x')))"
   ]
  },
  {
   "cell_type": "markdown",
   "id": "4077de2e",
   "metadata": {},
   "source": [
    "# Grow-Only Mutation\n",
    "* Pandas permits growing a DataFrame by columns (efficient) and rows (very inefficient)\n",
    "* The `sf.FrameGO` permits grow-only column addition or whole-frame extension\n",
    "* While the container is muetable, underlying array data always remains immutable\n",
    "    * Going from an `sf.Frame` to an `sf.FrameGO` is a no-copy operations\n",
    "    * Often used within a narrow scope\n",
    "* Growing rows is never permitted (use `sf.Frame.from_concat()` with collected rows)"
   ]
  },
  {
   "cell_type": "code",
   "execution_count": 15,
   "id": "5b9b1770",
   "metadata": {},
   "outputs": [
    {
     "data": {
      "text/html": [
       "<table><thead><tr><th></th><th>A</th><th>B</th><th>C</th><th>D</th></tr></thead><tbody><tr><th>x</th><td>True</td><td>20</td><td>1954-11-02</td><td>34</td></tr><tr><th>y</th><td>False</td><td>30</td><td>2020-04-28</td><td>87</td></tr></tbody></table>"
      ],
      "text/plain": [
       "<FrameGO>\n",
       "<IndexGO> A      B       C          D       <<U1>\n",
       "<Index>\n",
       "x         True   20      1954-11-02 34\n",
       "y         False  30      2020-04-28 87\n",
       "<<U1>     <bool> <int64> <<U10>     <int64>"
      ]
     },
     "execution_count": 15,
     "metadata": {},
     "output_type": "execute_result"
    }
   ],
   "source": [
    "# Adding a column to a FrameGO\n",
    "f2 = f1.to_frame_go()\n",
    "f2['D'] = (34, 87)\n",
    "f2"
   ]
  },
  {
   "cell_type": "code",
   "execution_count": 16,
   "id": "2b43638f",
   "metadata": {},
   "outputs": [
    {
     "data": {
      "text/html": [
       "<table><thead><tr><th></th><th>A</th><th>B</th><th>C</th><th>D</th><th>a</th><th>b</th></tr></thead><tbody><tr><th>x</th><td>True</td><td>20</td><td>1954-11-02</td><td>34</td><td>100</td><td>2000</td></tr><tr><th>y</th><td>False</td><td>30</td><td>2020-04-28</td><td>87</td><td>0</td><td>3000</td></tr></tbody></table>"
      ],
      "text/plain": [
       "<FrameGO>\n",
       "<IndexGO> A      B       C          D       a       b       <<U1>\n",
       "<Index>\n",
       "x         True   20      1954-11-02 34      100     2000\n",
       "y         False  30      2020-04-28 87      0       3000\n",
       "<<U1>     <bool> <int64> <<U10>     <int64> <int64> <int64>"
      ]
     },
     "execution_count": 16,
     "metadata": {},
     "output_type": "execute_result"
    }
   ],
   "source": [
    "# Extending a FrameGO with another Frame\n",
    "f3 = (f1[['A', 'B']] * 100).relabel(columns=lambda l: l.lower())\n",
    "f2.extend(f3)\n",
    "f2"
   ]
  },
  {
   "cell_type": "markdown",
   "id": "15fa088b",
   "metadata": {},
   "source": [
    "# A Family of `sf.Frame`\n",
    "\n",
    "* Pandas has only one `DataFrame` class\n",
    "* StaticFrame has a family\n",
    "    * `sf.Frame`\n",
    "    * `sf.FrameGO`: a grow-only `sf.Frame`\n",
    "    * `sf.FrameHE`: a hashable `sf.Frame`\n",
    "        * HE for `__hash__` and `__eq__`, the methods implemented to support hashability\n",
    "        * Some hasing scenarios mare require a full values comparison for lookup\n",
    "* Methods exist to easily convert between all three (always a no-copy operation)\n",
    "    * `sf.Frame.to_frame_go()`\n",
    "    * `sf.FrameHE.to_frame()`\n"
   ]
  },
  {
   "cell_type": "code",
   "execution_count": 17,
   "id": "7daabc9c",
   "metadata": {},
   "outputs": [
    {
     "data": {
      "text/plain": [
       "True"
      ]
     },
     "execution_count": 17,
     "metadata": {},
     "output_type": "execute_result"
    }
   ],
   "source": [
    "f = sf.Frame(np.arange(4).reshape(2, 2)).to_frame_he()\n",
    "d = {f: True} # A Frame as a key in a dictionary\n",
    "f in d"
   ]
  },
  {
   "cell_type": "markdown",
   "id": "3f30d544",
   "metadata": {},
   "source": [
    "# Changing Columns Types\n",
    "\n",
    "* `sf.Frame.astype()` can be used to retype an entire Frame (sme as Pandas)\n",
    "* Can use column selection to isolate targets\n",
    "    * Similar to `sf.Frame.assign` interface\n",
    "    * `sf.Frame.astype[sf.columns.via_str.startwith('--')](int)`\n",
    "* Changing types will be no-copy for unaffected columns"
   ]
  },
  {
   "cell_type": "code",
   "execution_count": 18,
   "id": "1a7ecfa4",
   "metadata": {},
   "outputs": [
    {
     "data": {
      "text/html": [
       "<table><thead><tr><th></th><th>A</th><th>B</th><th>C</th></tr></thead><tbody><tr><th>x</th><td>1.0</td><td>20.0</td><td>1954-11-02</td></tr><tr><th>y</th><td>0.0</td><td>30.0</td><td>2020-04-28</td></tr></tbody></table>"
      ],
      "text/plain": [
       "<Frame>\n",
       "<Index> A         B         C          <<U1>\n",
       "<Index>\n",
       "x       1.0       20.0      1954-11-02\n",
       "y       0.0       30.0      2020-04-28\n",
       "<<U1>   <float64> <float64> <<U10>"
      ]
     },
     "execution_count": 18,
     "metadata": {},
     "output_type": "execute_result"
    }
   ],
   "source": [
    "f1.astype[['A', 'B']](float)"
   ]
  },
  {
   "cell_type": "markdown",
   "id": "7b60a71b",
   "metadata": {},
   "source": [
    "# Full Support for All NumPy Dtypes\n",
    "* NumPy is the foundation of StaticFrame and Pandas\n",
    "* Pandas only uses a subset of NumPy dtypes; StaticFrame supports all\n",
    "* NumPy's fixed-size Unicode arrays\n",
    "    * Optimal when elements are diverse and of similar size\n",
    "    * Pandas always converts these to object arrays of Python strings\n",
    "* NumPy's `datetime64` type\n",
    "    * Fast datetime representation with units for resolution (from year to attosecond)\n",
    "    * Pandas coerces any `datetime64` to nanosecond units\n",
    "    * StaticFrame permits using year, date, or any `datetime64` unit\n",
    "    * See also: https://www.youtube.com/watch?v=jdnr7sgxCQI"
   ]
  },
  {
   "cell_type": "code",
   "execution_count": 19,
   "id": "3193ccfb",
   "metadata": {},
   "outputs": [
    {
     "name": "stdout",
     "output_type": "stream",
     "text": [
      "<Frame>\n",
      "<Index> A      B       C          <<U1>\n",
      "<Index>\n",
      "x       True   20      1954-11-02\n",
      "y       False  30      2020-04-28\n",
      "<<U1>   <bool> <int64> <<U10>\n"
     ]
    },
    {
     "data": {
      "text/html": [
       "<table><tbody><tr><th>A</th><td>bool</td></tr><tr><th>B</th><td>int64</td></tr><tr><th>C</th><td>&lt;U10</td></tr></tbody></table>"
      ],
      "text/plain": [
       "<Series>\n",
       "<Index>\n",
       "A        bool\n",
       "B        int64\n",
       "C        <U10\n",
       "<<U1>    <object>"
      ]
     },
     "execution_count": 19,
     "metadata": {},
     "output_type": "execute_result"
    }
   ],
   "source": [
    "# By default, StaticFrame always shows all types and dtypes\n",
    "print(str(f1))\n",
    "# Can get a Series by column label\n",
    "f1.dtypes"
   ]
  },
  {
   "cell_type": "code",
   "execution_count": 20,
   "id": "197fda8e",
   "metadata": {},
   "outputs": [
    {
     "name": "stdout",
     "output_type": "stream",
     "text": [
      "<Frame>\n",
      "<Index> A      B       C          <<U1>\n",
      "<Index>\n",
      "x       True   20      1954-11-02\n",
      "y       False  30      2020-04-28\n",
      "<<U1>   <bool> <int64> <object>\n"
     ]
    }
   ],
   "source": [
    "# Can convert Unicode dtypes to Python string object\n",
    "print(str(f1.astype['C'](object)))"
   ]
  },
  {
   "cell_type": "code",
   "execution_count": 21,
   "id": "261d1fec",
   "metadata": {},
   "outputs": [
    {
     "name": "stdout",
     "output_type": "stream",
     "text": [
      "<Frame>\n",
      "<Index> A      B       C               <<U1>\n",
      "<Index>\n",
      "x       True   20      1954-11-02\n",
      "y       False  30      2020-04-28\n",
      "<<U1>   <bool> <int64> <datetime64[D]>\n"
     ]
    }
   ],
   "source": [
    "# Can convert strings NumPy datetime64 date objects\n",
    "print(str(f1.astype['C'](np.datetime64)))"
   ]
  },
  {
   "cell_type": "markdown",
   "id": "277f1e79",
   "metadata": {},
   "source": [
    "# A Family of `sf.Index`\n",
    "\n",
    "* To use `datetime64` as an index, use a `datetime64` `sf.Index` subclass\n",
    "    * `sf.IndexDate`, `sf.indexYearMonth`, etc.\n",
    "    * Provides robust translation from Python date / datetime objects\n",
    "    * Provides partial selection with less granular date units\n",
    "    * Provides alternative constructor for date ranges\n",
    "* Hierarchical indices with `sf.IndexHierarchy`\n",
    "* Many interfaces expose `index_constructor` arguments to specify what kind of index to make.\n",
    "    "
   ]
  },
  {
   "cell_type": "code",
   "execution_count": 49,
   "id": "54fefbef",
   "metadata": {},
   "outputs": [
    {
     "data": {
      "text/html": [
       "<table><thead><tr><th></th><th>A</th><th>B</th></tr></thead><tbody><tr><th>1954-11-02</th><td>True</td><td>20</td></tr><tr><th>2020-04-28</th><td>False</td><td>30</td></tr></tbody></table>"
      ],
      "text/plain": [
       "<Frame>\n",
       "<Index>         A      B       <<U1>\n",
       "<IndexDate: C>\n",
       "1954-11-02      True   20\n",
       "2020-04-28      False  30\n",
       "<datetime64[D]> <bool> <int64>"
      ]
     },
     "execution_count": 49,
     "metadata": {},
     "output_type": "execute_result"
    }
   ],
   "source": [
    "# Transfer a column to an index\n",
    "f4 = f1.set_index('C', drop=True, index_constructor=sf.IndexDate)\n",
    "f4"
   ]
  },
  {
   "cell_type": "code",
   "execution_count": 50,
   "id": "8389d799",
   "metadata": {},
   "outputs": [
    {
     "data": {
      "text/html": [
       "<table><thead><tr><th></th><th>A</th><th>B</th></tr></thead><tbody><tr><th>2020-04-28</th><td>False</td><td>30</td></tr></tbody></table>"
      ],
      "text/plain": [
       "<Frame>\n",
       "<Index>         A      B       <<U1>\n",
       "<IndexDate: C>\n",
       "2020-04-28      False  30\n",
       "<datetime64[D]> <bool> <int64>"
      ]
     },
     "execution_count": 50,
     "metadata": {},
     "output_type": "execute_result"
    }
   ],
   "source": [
    "# Selection with a less granular unit (year)\n",
    "f4.loc['2020']"
   ]
  },
  {
   "cell_type": "code",
   "execution_count": 51,
   "id": "2f6787a2",
   "metadata": {},
   "outputs": [
    {
     "data": {
      "text/html": [
       "<table><tbody><tr><th>A</th><td>True</td></tr><tr><th>B</th><td>20</td></tr></tbody></table>"
      ],
      "text/plain": [
       "<Series: 1954-11-02>\n",
       "<Index>\n",
       "A                    True\n",
       "B                    20\n",
       "<<U1>                <object>"
      ]
     },
     "execution_count": 51,
     "metadata": {},
     "output_type": "execute_result"
    }
   ],
   "source": [
    "# sf.IndexDate understands Python datetime objects\n",
    "import datetime\n",
    "f4.loc[datetime.date(1954, 11, 2)]"
   ]
  },
  {
   "cell_type": "code",
   "execution_count": 54,
   "id": "49a64693",
   "metadata": {},
   "outputs": [
    {
     "name": "stdout",
     "output_type": "stream",
     "text": [
      "<Frame>\n",
      "<Index> C               A      B       <<U1>\n",
      "<Index>\n",
      "0       1954-11-02      True   20\n",
      "1       2020-04-28      False  30\n",
      "<int64> <datetime64[D]> <bool> <int64>\n"
     ]
    }
   ],
   "source": [
    "print(str(f4.unset_index()))"
   ]
  },
  {
   "cell_type": "markdown",
   "id": "7226fc30",
   "metadata": {},
   "source": [
    "# Rename, Reindex, Relabel\n",
    "\n",
    "* `rename()` sets the `name` attribute on all containers\n",
    "    * `pd.DataFrame.rename()` relabels the axis, `pd.Series.rename()` sets the name of the container\n",
    "    * `sf.Frame.rename()`, `sf.Series.rename()` all do the same thing\n",
    "    * renaming is a no-copy operations\n",
    "* `reindex()` applies new index, aligning to the previous index\n",
    "    * Similar to `pd.DataFrame.reindex()`\n",
    "    * Matching labels will retain thier data\n",
    "    * New labels will introduce missing values (provided with a `fill_value`)\n",
    "* `relabel()` applies a new index, regardless of alignment to previous index\n",
    "    * Can map old to new with `dict`\n",
    "    * Can process old to new with a function\n",
    "    * Can replace with a new `sf.Index` or iterable"
   ]
  },
  {
   "cell_type": "code",
   "execution_count": null,
   "id": "717cba45",
   "metadata": {},
   "outputs": [],
   "source": []
  },
  {
   "cell_type": "markdown",
   "id": "aa432ae5",
   "metadata": {},
   "source": [
    "# Iteration\n",
    "* Iterating elements: `Frame.iter_elements()`\n",
    "* Iterating rows or columns:\n",
    "    * Specify axis=1 for rows, axis=0 for columns\n",
    "    * Choose what you want to get back\n",
    "        * `Frame.iter_series()`\n",
    "        * `Frame.iter_tuple()`\n",
    "        * `Frame.iter_array()`"
   ]
  },
  {
   "cell_type": "code",
   "execution_count": null,
   "id": "baf864c0",
   "metadata": {},
   "outputs": [],
   "source": []
  },
  {
   "cell_type": "markdown",
   "id": "7c2f484b",
   "metadata": {},
   "source": [
    "# Function & Mapping Application\n",
    "* Function application implies iteration\n",
    "* Choose what you want to iterate on and call `apply()`\n",
    "* Can multi-process / thread with `apply_pool()`\n",
    "* Can iterate through results with `apply_iter()`\n",
    "* Can map instead of apply\n",
    "    * `map_all()`: if value not mappable, raise\n",
    "    * `map_any()`: map what you can, leave the rest unchanged\n",
    "    * `map_fill()`: map what you can, provide `fill_value` for others"
   ]
  },
  {
   "cell_type": "code",
   "execution_count": null,
   "id": "2c171339",
   "metadata": {},
   "outputs": [],
   "source": []
  },
  {
   "cell_type": "markdown",
   "id": "d90b46a1",
   "metadata": {},
   "source": [
    "# Grouping & Windowing\n",
    "\n",
    "* `sf.Frame.iter_group()`\n",
    "    * Group by unique values in one or more columns (axis 0) or rows (axis 1)\n",
    "    * Can use `apply()` if reducing to an `sf.Series`\n",
    "    * Can use an `sf.Batch` for performing operations on sub-Frames like `pd.DataFrameGroupBy`\n",
    "* `sf.Frame.iter_window()`\n",
    "    * Can use an `sf.Batch` for performing operations on sub Frames like `pd.Rolling`"
   ]
  },
  {
   "cell_type": "code",
   "execution_count": null,
   "id": "107dc613",
   "metadata": {},
   "outputs": [],
   "source": []
  },
  {
   "cell_type": "markdown",
   "id": "8d69b100",
   "metadata": {},
   "source": [
    "# Interfaces for Working with Strings\n",
    "* `sf.Frame.via_str`, similar to `pd.Series.str`\n",
    "* Expose Python string object interface for application on all elements\n",
    "* https://static-frame.readthedocs.io/en/latest/api_overview/frame.html#frame-accessor-string"
   ]
  },
  {
   "cell_type": "code",
   "execution_count": 59,
   "id": "caf9d7b7",
   "metadata": {},
   "outputs": [
    {
     "data": {
      "text/html": [
       "<table><thead><tr><th></th><th>A</th><th>B</th><th>C</th></tr></thead><tbody><tr><th>x</th><td>TRUE</td><td>20</td><td>1954-11-02</td></tr><tr><th>y</th><td>FALSE</td><td>30</td><td>2020-04-28</td></tr></tbody></table>"
      ],
      "text/plain": [
       "<Frame>\n",
       "<Index> A     B      C          <<U1>\n",
       "<Index>\n",
       "x       TRUE  20     1954-11-02\n",
       "y       FALSE 30     2020-04-28\n",
       "<<U1>   <<U5> <<U21> <<U10>"
      ]
     },
     "execution_count": 59,
     "metadata": {},
     "output_type": "execute_result"
    }
   ],
   "source": [
    "f1.via_str.upper()"
   ]
  },
  {
   "cell_type": "code",
   "execution_count": 61,
   "id": "b75c30f4",
   "metadata": {},
   "outputs": [
    {
     "data": {
      "text/html": [
       "<table><thead><tr><th></th><th>A</th><th>B</th><th>C</th></tr></thead><tbody><tr><th>x</th><td>True</td><td>2+</td><td>1954-11-+2</td></tr><tr><th>y</th><td>False</td><td>3+</td><td>2+2+-+4-28</td></tr></tbody></table>"
      ],
      "text/plain": [
       "<Frame>\n",
       "<Index> A     B     C          <<U1>\n",
       "<Index>\n",
       "x       True  2+    1954-11-+2\n",
       "y       False 3+    2+2+-+4-28\n",
       "<<U1>   <<U5> <<U2> <<U10>"
      ]
     },
     "execution_count": 61,
     "metadata": {},
     "output_type": "execute_result"
    }
   ],
   "source": [
    "f1.via_str.replace('0', '+')"
   ]
  },
  {
   "cell_type": "markdown",
   "id": "3060ce31",
   "metadata": {},
   "source": [
    "# Interfaces for Working with Dates\n",
    "* `sf.Frame.via_dt`, similar to `pd.Series.dt`\n",
    "* Expose Python `date`, `datetime` interface for application on all elements\n",
    "* https://static-frame.readthedocs.io/en/latest/api_overview/frame.html#frame-accessor-datetime"
   ]
  },
  {
   "cell_type": "code",
   "execution_count": 63,
   "id": "a9ebb5f4",
   "metadata": {},
   "outputs": [
    {
     "data": {
      "text/html": [
       "<table><tbody><tr><th>x</th><td>11</td></tr><tr><th>y</th><td>4</td></tr></tbody></table>"
      ],
      "text/plain": [
       "<Series: C>\n",
       "<Index>\n",
       "x           11\n",
       "y           4\n",
       "<<U1>       <int64>"
      ]
     },
     "execution_count": 63,
     "metadata": {},
     "output_type": "execute_result"
    }
   ],
   "source": [
    "f1['C'].astype(np.datetime64).via_dt.month"
   ]
  },
  {
   "cell_type": "code",
   "execution_count": 64,
   "id": "ddc1ae22",
   "metadata": {},
   "outputs": [
    {
     "data": {
      "text/html": [
       "<table><tbody><tr><th>x</th><td>1954</td></tr><tr><th>y</th><td>2020</td></tr></tbody></table>"
      ],
      "text/plain": [
       "<Series: C>\n",
       "<Index>\n",
       "x           1954\n",
       "y           2020\n",
       "<<U1>       <int64>"
      ]
     },
     "execution_count": 64,
     "metadata": {},
     "output_type": "execute_result"
    }
   ],
   "source": [
    "f1['C'].astype(np.datetime64).via_dt.year"
   ]
  },
  {
   "cell_type": "code",
   "execution_count": 57,
   "id": "38aa3f94",
   "metadata": {},
   "outputs": [
    {
     "data": {
      "text/html": [
       "<table><tbody><tr><th>x</th><td>1</td></tr><tr><th>y</th><td>1</td></tr></tbody></table>"
      ],
      "text/plain": [
       "<Series: C>\n",
       "<Index>\n",
       "x           1\n",
       "y           1\n",
       "<<U1>       <int64>"
      ]
     },
     "execution_count": 57,
     "metadata": {},
     "output_type": "execute_result"
    }
   ],
   "source": [
    "f1['C'].astype(np.datetime64).via_dt.weekday()"
   ]
  },
  {
   "cell_type": "markdown",
   "id": "728f4d80",
   "metadata": {},
   "source": [
    "# Interfaces for Applying Regular Expressions\n",
    "* `sf.Frame.via_re` \n",
    "* Similar to `pd.Series.str.extract()`, but provides full interface from `re` module\n",
    "* https://static-frame.readthedocs.io/en/latest/api_overview/frame.html#frame-accessor-regular-expression"
   ]
  },
  {
   "cell_type": "code",
   "execution_count": 79,
   "id": "5d5c1bdb",
   "metadata": {},
   "outputs": [
    {
     "data": {
      "text/html": [
       "<table><thead><tr><th></th><th>A</th><th>B</th><th>C</th></tr></thead><tbody><tr><th>x</th><td>True</td><td>20</td><td>1954-11-02</td></tr><tr><th>y</th><td>False</td><td>30</td><td>2020-04-28</td></tr></tbody></table>"
      ],
      "text/plain": [
       "<Frame>\n",
       "<Index> A      B       C          <<U1>\n",
       "<Index>\n",
       "x       True   20      1954-11-02\n",
       "y       False  30      2020-04-28\n",
       "<<U1>   <bool> <int64> <<U10>"
      ]
     },
     "metadata": {},
     "output_type": "display_data"
    },
    {
     "data": {
      "text/html": [
       "<table><thead><tr><th></th><th>A</th><th>B</th><th>C</th></tr></thead><tbody><tr><th>x</th><td>False</td><td>True</td><td>True</td></tr><tr><th>y</th><td>True</td><td>False</td><td>True</td></tr></tbody></table>"
      ],
      "text/plain": [
       "<Frame>\n",
       "<Index> A      B      C      <<U1>\n",
       "<Index>\n",
       "x       False  True   True\n",
       "y       True   False  True\n",
       "<<U1>   <bool> <bool> <bool>"
      ]
     },
     "execution_count": 79,
     "metadata": {},
     "output_type": "execute_result"
    }
   ],
   "source": [
    "display(f1)\n",
    "f1.via_re('[2a]').search()"
   ]
  },
  {
   "cell_type": "markdown",
   "id": "f77dec8d",
   "metadata": {},
   "source": [
    "# Configuring `fill_value` in Operator Application\n",
    "\n",
    "* Operations on labelled containers force reindexing\n",
    "* `sf.Frame.via_fill_value()` permits providing a fill value"
   ]
  },
  {
   "cell_type": "code",
   "execution_count": 92,
   "id": "9723678a",
   "metadata": {},
   "outputs": [
    {
     "data": {
      "text/html": [
       "<table><thead><tr><th></th><th>A</th><th>B</th><th>C</th></tr></thead><tbody><tr><th>x</th><td>True</td><td>20</td><td>1954-11-02</td></tr><tr><th>y</th><td>False</td><td>30</td><td>2020-04-28</td></tr></tbody></table>"
      ],
      "text/plain": [
       "<Frame>\n",
       "<Index> A      B       C          <<U1>\n",
       "<Index>\n",
       "x       True   20      1954-11-02\n",
       "y       False  30      2020-04-28\n",
       "<<U1>   <bool> <int64> <<U10>"
      ]
     },
     "metadata": {},
     "output_type": "display_data"
    },
    {
     "data": {
      "text/html": [
       "<table><tbody><tr><th>x</th><td>0.02</td></tr><tr><th>y</th><td>30.0</td></tr><tr><th>z</th><td>nan</td></tr></tbody></table>"
      ],
      "text/plain": [
       "<Series>\n",
       "<Index>\n",
       "x        0.02\n",
       "y        30.0\n",
       "z        nan\n",
       "<<U1>    <float64>"
      ]
     },
     "execution_count": 92,
     "metadata": {},
     "output_type": "execute_result"
    }
   ],
   "source": [
    "display(f1)\n",
    "f1['B'] * sf.Series((1000, 1, .001), index=tuple('zyx'))"
   ]
  },
  {
   "cell_type": "code",
   "execution_count": 91,
   "id": "9a8a7bb8",
   "metadata": {},
   "outputs": [
    {
     "data": {
      "text/html": [
       "<table><tbody><tr><th>x</th><td>0.02</td></tr><tr><th>y</th><td>30.0</td></tr><tr><th>z</th><td>0.0</td></tr></tbody></table>"
      ],
      "text/plain": [
       "<Series>\n",
       "<Index>\n",
       "x        0.02\n",
       "y        30.0\n",
       "z        0.0\n",
       "<<U1>    <float64>"
      ]
     },
     "execution_count": 91,
     "metadata": {},
     "output_type": "execute_result"
    }
   ],
   "source": [
    "f1['B'].via_fill_value(0) * sf.Series((1000, 1, .001), index=tuple('zyx'))"
   ]
  },
  {
   "cell_type": "markdown",
   "id": "8372b378",
   "metadata": {},
   "source": [
    "# Virtual Transposition in Operator Application\n",
    "* Applying a 1D container on a 2D container applies to rows\n",
    "* `sf.Frame.via_T` presents 2d containers \"virtually\" transposed"
   ]
  },
  {
   "cell_type": "code",
   "execution_count": 109,
   "id": "77fe58f9",
   "metadata": {},
   "outputs": [
    {
     "data": {
      "text/html": [
       "<table><thead><tr><th></th><th>0</th><th>1</th><th>2</th><th>3</th></tr></thead><tbody><tr><th>x</th><td>0</td><td>1</td><td>2</td><td>3</td></tr><tr><th>y</th><td>4</td><td>5</td><td>6</td><td>7</td></tr></tbody></table>"
      ],
      "text/plain": [
       "<Frame>\n",
       "<Index> 0       1       2       3       <int64>\n",
       "<Index>\n",
       "x       0       1       2       3\n",
       "y       4       5       6       7\n",
       "<<U1>   <int64> <int64> <int64> <int64>"
      ]
     },
     "metadata": {},
     "output_type": "display_data"
    },
    {
     "data": {
      "text/html": [
       "<table><tbody><tr><th>x</th><td>20</td></tr><tr><th>y</th><td>30</td></tr></tbody></table>"
      ],
      "text/plain": [
       "<Series: B>\n",
       "<Index>\n",
       "x           20\n",
       "y           30\n",
       "<<U1>       <int64>"
      ]
     },
     "metadata": {},
     "output_type": "display_data"
    },
    {
     "data": {
      "text/html": [
       "<table><thead><tr><th></th><th>0</th><th>1</th><th>2</th><th>3</th><th>x</th><th>y</th></tr></thead><tbody><tr><th>x</th><td>nan</td><td>nan</td><td>nan</td><td>nan</td><td>nan</td><td>nan</td></tr><tr><th>y</th><td>nan</td><td>nan</td><td>nan</td><td>nan</td><td>nan</td><td>nan</td></tr></tbody></table>"
      ],
      "text/plain": [
       "<Frame>\n",
       "<Index> 0         1         2         3         x         y         <object>\n",
       "<Index>\n",
       "x       nan       nan       nan       nan       nan       nan\n",
       "y       nan       nan       nan       nan       nan       nan\n",
       "<<U1>   <float64> <float64> <float64> <float64> <float64> <float64>"
      ]
     },
     "execution_count": 109,
     "metadata": {},
     "output_type": "execute_result"
    }
   ],
   "source": [
    "# 2D to 1D assumes row-wise application\n",
    "display(sf.Frame(np.arange(8).reshape(2, 4), index=tuple('xy')))\n",
    "display(f1['B'])\n",
    "sf.Frame(np.arange(8).reshape(2, 4), index=tuple('xy')) * f1['B']"
   ]
  },
  {
   "cell_type": "code",
   "execution_count": 104,
   "id": "e378b560",
   "metadata": {},
   "outputs": [
    {
     "data": {
      "text/html": [
       "<table><thead><tr><th></th><th>0</th><th>1</th><th>2</th><th>3</th></tr></thead><tbody><tr><th>x</th><td>0</td><td>1</td><td>2</td><td>3</td></tr><tr><th>y</th><td>4</td><td>5</td><td>6</td><td>7</td></tr></tbody></table>"
      ],
      "text/plain": [
       "<Frame>\n",
       "<Index> 0       1       2       3       <int64>\n",
       "<Index>\n",
       "x       0       1       2       3\n",
       "y       4       5       6       7\n",
       "<<U1>   <int64> <int64> <int64> <int64>"
      ]
     },
     "metadata": {},
     "output_type": "display_data"
    },
    {
     "data": {
      "text/html": [
       "<table><tbody><tr><th>x</th><td>20</td></tr><tr><th>y</th><td>30</td></tr></tbody></table>"
      ],
      "text/plain": [
       "<Series: B>\n",
       "<Index>\n",
       "x           20\n",
       "y           30\n",
       "<<U1>       <int64>"
      ]
     },
     "metadata": {},
     "output_type": "display_data"
    },
    {
     "data": {
      "text/html": [
       "<table><thead><tr><th></th><th>0</th><th>1</th><th>2</th><th>3</th></tr></thead><tbody><tr><th>x</th><td>0</td><td>20</td><td>40</td><td>60</td></tr><tr><th>y</th><td>120</td><td>150</td><td>180</td><td>210</td></tr></tbody></table>"
      ],
      "text/plain": [
       "<Frame>\n",
       "<Index> 0       1       2       3       <int64>\n",
       "<Index>\n",
       "x       0       20      40      60\n",
       "y       120     150     180     210\n",
       "<<U1>   <int64> <int64> <int64> <int64>"
      ]
     },
     "execution_count": 104,
     "metadata": {},
     "output_type": "execute_result"
    }
   ],
   "source": [
    "# Using via_T, can apply column-wise application\n",
    "display(sf.Frame(np.arange(8).reshape(2, 4), index=tuple('xy')))\n",
    "display(f1['B'])\n",
    "sf.Frame(np.arange(8).reshape(2, 4), index=tuple('xy')).via_T * f1['B']\n"
   ]
  },
  {
   "cell_type": "markdown",
   "id": "02bd412d",
   "metadata": {},
   "source": [
    "# Working with Collections of Frames\n",
    "* Pandas deprecated the `pd.Panel` for 3D data\n",
    "* Hierarchical indices incur overhead and force loading all data at once\n",
    "* The `sf.Bus`\n",
    "    * Offers a Series-like interface to collections of Frames\n",
    "    * Can read to and write from multi-tabel storage formats\n",
    "        * XLSX, HDF5, SQLite\n",
    "        * Zipped archives of CSV, TSV, Parquet, and NPZ\n",
    "    * Reads lazily\n",
    "    * Optionally unloads eagerly"
   ]
  },
  {
   "cell_type": "code",
   "execution_count": null,
   "id": "0e90ae72",
   "metadata": {},
   "outputs": [],
   "source": []
  },
  {
   "cell_type": "markdown",
   "id": "4e3d026c",
   "metadata": {},
   "source": [
    "\n",
    "* A more explicit interface\n",
    "    * Keyword-only arguments everywhere\n",
    "    * Relevant, orthogonal parameters\n",
    "    * Avoiding string parameters\n",
    "        * pd.rank v. sf.rank_ordinal()    \n",
    "    * Consitent, hierarchical naming\n",
    "        * relabel v. rename\n",
    "        * sf.Series.relabel, sf.Series.relabel_label_add\n",
    "        * iter_element().apply(), map_all(), map_fill(), map_any()\n",
    "\n",
    "    \n",
    "* Higher-Order Containers\n",
    "    * Bus: A Series of Frame\n",
    "        * Lazy loading, eager unloading\n",
    "        * Support for reading to, writing to archives\n",
    "    * Batch: composing operations on iterators of Frames\n",
    "        * A generalization of Pandas\n",
    "    * Yarn, Quilt\n",
    "    \n",
    "* Performance\n"
   ]
  }
 ],
 "metadata": {
  "kernelspec": {
   "display_name": "Python 3 (ipykernel)",
   "language": "python",
   "name": "python3"
  },
  "language_info": {
   "codemirror_mode": {
    "name": "ipython",
    "version": 3
   },
   "file_extension": ".py",
   "mimetype": "text/x-python",
   "name": "python",
   "nbconvert_exporter": "python",
   "pygments_lexer": "ipython3",
   "version": "3.9.5"
  }
 },
 "nbformat": 4,
 "nbformat_minor": 5
}
