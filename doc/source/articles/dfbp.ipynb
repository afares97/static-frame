{
 "cells": [
  {
   "cell_type": "markdown",
   "id": "0186bba5",
   "metadata": {},
   "source": [
    "# StaticFrame from the Ground Up: Getting Started with Immutable DataFrames\n",
    "### Christopher Ariza"
   ]
  },
  {
   "cell_type": "markdown",
   "id": "f9321435",
   "metadata": {},
   "source": [
    "Back in 2017 I found myself frequently asking: \"is Pandas a suitable foundation for production library code?\" While Pandas is well-known for its utility in data science, I consistently found its flexibility a detriment in building library code for production systems.\n",
    "\n",
    "This led me to create StaticFrame, an alternative dataframe library built on an immutable data model. After years of development and use, I am confident that StaticFrame reduces opportunities for error and leads to more maintainable code. While not yet always more efficient than Pandas, in some areas StaticFrame offers very significant improvements in run time and memory usage. Beyond common functionality, StaticFrame offers a more explicit and consistent API, novel multi-Frame containers and processors, and support for high-performance serialization through the NPZ format.\n",
    "\n",
    "This notebook is designed as to provide a rapid, breadth-first survey of StaticFrame. Reference to how StaticFrame relates to Pandas is highlighted."
   ]
  },
  {
   "cell_type": "markdown",
   "id": "67118cb8",
   "metadata": {},
   "source": [
    "# What is a DataFrame?\n",
    "* A 2D table with labelled rows and columns\n",
    "    * Labels stay with data after selection\n",
    "    * Operations align on labels\n",
    "    * Can reindex based on labels\n",
    "* Distinct from a simple 2D array\n",
    "    * Labels can be any (hashable) type\n",
    "    * Support for hetergenous column types\n",
    "* Just like a 2D array, supports binary operators and broadcasting\n",
    "    * Can multiply a dataframe by constant, 1D, or 2D container\n",
    "    * All operations align on labels, not order\n",
    "* A high-level language (Python) can be used to implement dataframe functionality over a high-performance, low-level array library (NumPy)"
   ]
  },
  {
   "cell_type": "markdown",
   "id": "212c4664",
   "metadata": {},
   "source": [
    "# A Brief History of DataFrames\n",
    "\n",
    "* 1991: earliest implementation of a dataframe in the S language\n",
    "* 2009: Pandas 0.1 released\n",
    "* 2018: StaticFrame 0.1 released\n",
    "* There are presently a number of dataframe libraries in Python and other languages\n"
   ]
  },
  {
   "cell_type": "markdown",
   "id": "04f5c633",
   "metadata": {},
   "source": [
    "# Why Not Just Use Pandas?\n",
    "\n",
    "* Pandas prioritizes ease of use over explicit, strict interfaces\n",
    "* Pandas API has many inconsistencies\n",
    "* Many Pandas interfaces have non-orthogonal parameters\n",
    "* Pandas supports in-place mutation\n",
    "* Pandas only optionally supports unique indices (`verify_integrity` defaults to `False`)\n",
    "* Pandas does not support all NumPy types (Unicode, `datetime64`)\n",
    "* Pandas abandoned multi-frame containers (i.e., removing the `pd.Panel`)\n",
    "\n",
    "* See also: https://dev.to/flexatone/ten-reasons-to-use-staticframe-instead-of-pandas-4aad"
   ]
  },
  {
   "cell_type": "markdown",
   "id": "bc61b0d0",
   "metadata": {},
   "source": [
    "# Learning StaticFrame from Pandas\n",
    "\n",
    "* Nearly everything you can do with Pandas you can do with StaticFrame\n",
    "* Things Pandas does that StaticFrame does not\n",
    "    * No internal graphing / plotting support\n",
    "    * Few internal implementations of calculations available elsewhere (NumPy, SciPy)\n",
    "* Much of what you already know will directly translate\n",
    "    * Many interfaces and methods are identical\n",
    "    * StaticFrame has more numerous, more narrow interfaces with keyword only arguments\n",
    "    * StaticFrame follows hierarchical naming\n",
    "* You can go back and forth\n",
    "    * `Frame.to_pandas()`\n",
    "    * `Frame.from_pandas()`"
   ]
  },
  {
   "cell_type": "markdown",
   "id": "7d5596c1",
   "metadata": {},
   "source": [
    "# Learning StaticFrame from Examples\n",
    "* Examples used here are intentionally compact\n",
    "* Examples mostly on `sf.Frame`\n",
    "* Interfaces on `sf.Series` are often identical"
   ]
  },
  {
   "cell_type": "markdown",
   "id": "5640e0bc",
   "metadata": {},
   "source": [
    "# StaticFrame Development\n",
    "\n",
    "* Development\n",
    "    * Code contributions from a small pool of developers\n",
    "    * Feature and design contributions from multiple internal teams\n",
    "    * New contributors are welcome!\n",
    "* Releases\n",
    "    * Regular releases via PIP\n",
    "    * Stable API on minor releases (i.e., 0.9 will introduce backward incompatibilities on 0.8)\n",
    "* Quality & Test\n",
    "    * 100% test coverage\n",
    "    * Robust CI/CD with MyPy, Pylint, and multiplatform test\n",
    "* Documentation\n",
    "    * Fully code-generated API documentation (https://static-frame.readthedocs.io)\n",
    "    * Every object exposes API via `interface` attribute\n",
    "* Core Dependencies\n",
    "    * NumPy\n",
    "    * Team-maintained CPython extension libraries: `automap`, `arraykit`\n",
    "* When will there be a 1.0?\n",
    "    * Pending `arraykit` implementation of delimited file readers to fix known issues\n",
    "    * Maybe by end of 2022\n"
   ]
  },
  {
   "cell_type": "markdown",
   "id": "355ca673",
   "metadata": {},
   "source": [
    "# Installing & Importing\n",
    "\n",
    "* Available via pip, conda-forge\n",
    "* `import static_frame as sf`\n"
   ]
  },
  {
   "cell_type": "code",
   "execution_count": 2,
   "id": "5c46906b",
   "metadata": {},
   "outputs": [],
   "source": [
    "import static_frame as sf\n",
    "import numpy as np"
   ]
  },
  {
   "cell_type": "markdown",
   "id": "c5163bc4",
   "metadata": {},
   "source": [
    "# The Frame & the Series\n",
    "* A `Series` is a 1D array (of a single dtype) with labels \n",
    "* A `Frame` is a 2D container (of one or more columnar dtypes) with row and column labels\n",
    "* When extracting a row or column from a `Frame`, we get a `Series`.\n",
    "* Support for higher-dimensional data\n",
    "    * Use hierarchical indices on a 2D container\n",
    "    * Use multi-`Frame` containers (i.e., the `Bus`)"
   ]
  },
  {
   "cell_type": "markdown",
   "id": "e92c19df",
   "metadata": {},
   "source": [
    "# Anatomy of a Frame\n",
    "\n",
    "* A `sf.Frame` wraps 1D and 2D NumPy arrays\n",
    "* NumPy dtypes are unified by column\n",
    "* Each axis is labelled with an `sf.Index` (or subclass)\n",
    "    * Row labels via `sf.Frame.index`\n",
    "    * Column labels via `sf.Frame.columns`\n",
    "* Hashable metadata via `name` attributes on all containers\n",
    "    * `sf.Frame.name` (StaticFrame only)\n",
    "    * `sf.Frame.index.name`\n",
    "    * `sf.Frame.columns.name`"
   ]
  },
  {
   "cell_type": "markdown",
   "id": "ee5e8975",
   "metadata": {},
   "source": [
    "# Getting Data In & Out: Constructors & Exporters\n",
    "\n",
    "* Constructors always live on containers (i.e., `sf.Frame`)\n",
    "    * `pd.read_csv()`, `pd.DataFrame.from_records()`\n",
    "    * `sf.Frame.from_csv()`, `sf.Frame.from_records()`\n",
    "* Explicit constructors with narrow functionality\n",
    "    * `pd.DataFrame()` supports a single element, or a column of elements\n",
    "    * `sf.Frame.from_element()`, `sf.Frame.from_elements()`\n",
    "* Support for common serialization formats\n",
    "    * `pd.read_excel()`, `pd.read_csv()`, `pd.read_parquet()`\n",
    "    * `sf.Frame.from_xlsx()`, `sf.Frame.from_csv()`, `sf.Frame.from_parquet()`\n",
    "* Serialization methods exclusive to StaticFrame\n",
    "    * NPZ and NPY formats faster than parquet with comparable file sizes\n",
    "    * Encodes all `sf.Frame` characteristics\n",
    "    * NPY supports memory mapping out-of-core data\n",
    "    * `sf.Frame.to_npz()`, `sf.Frame.from_npz()`"
   ]
  },
  {
   "cell_type": "code",
   "execution_count": 9,
   "id": "9633f630",
   "metadata": {
    "scrolled": true
   },
   "outputs": [
    {
     "name": "stdout",
     "output_type": "stream",
     "text": [
      "<Frame>\n",
      "<Index> 0      1       2          <int64>\n",
      "<Index>\n",
      "0       True   20      1954-11-02\n",
      "1       False  30      2020-04-28\n",
      "<int64> <bool> <int64> <<U10>\n"
     ]
    }
   ],
   "source": [
    "# Creating a Frame from row iterables\n",
    "f = sf.Frame.from_records(((True, 20, '1954-11-02'), (False, 30, '2020-04-28')))\n",
    "# Force a string representation \n",
    "print(str(f))"
   ]
  },
  {
   "cell_type": "markdown",
   "id": "1d6d6e1d",
   "metadata": {},
   "source": [
    "# String Representations\n",
    "\n",
    "* `sf.Frame.__repr__()` provides more information than `pd.DataFrame.__repr__()`\n",
    "* Shows types of `Frame`, `.index`, and `.columns`\n",
    "* Shows NumPy dtypes of each column, `.index`, and `.columns`\n",
    "* In terminal environments can use colors for types, dtypes"
   ]
  },
  {
   "cell_type": "code",
   "execution_count": 4,
   "id": "a18530a3",
   "metadata": {},
   "outputs": [
    {
     "name": "stdout",
     "output_type": "stream",
     "text": [
      "<FrameGO: records>\n",
      "<IndexGO>          A      B       C       <<U1>\n",
      "<IndexYear: year>\n",
      "1954               True   20      1954-11\n",
      "2020               False  30      2020-04\n",
      "<datetime64[Y]>    <bool> <int64> <<U7>\n"
     ]
    }
   ],
   "source": [
    "# Creating a Frame with Frame subclass, Index subclasses, name attributes\n",
    "f = sf.FrameGO.from_records(((True, 20, '1954-11'), (False, 30, '2020-04')), \n",
    "        index=sf.IndexYear(('1954', '2020'), name='year'),\n",
    "        columns=('A', 'B', 'C'),\n",
    "        name='records', \n",
    "        )\n",
    "print(str(f))"
   ]
  },
  {
   "cell_type": "markdown",
   "id": "2f43f3ab",
   "metadata": {},
   "source": [
    "# Representation in Jupyter Notebooks\n",
    "\n",
    "* An HTML table repsentation\n",
    "* name attributes, type, and dtype information is hidden by default"
   ]
  },
  {
   "cell_type": "code",
   "execution_count": 4,
   "id": "1651f8fa",
   "metadata": {},
   "outputs": [
    {
     "data": {
      "text/html": [
       "<table><thead><tr><th></th><th>A</th><th>B</th><th>C</th></tr></thead><tbody><tr><th>x</th><td>True</td><td>20</td><td>1954-11-02</td></tr><tr><th>y</th><td>False</td><td>30</td><td>2020-04-28</td></tr></tbody></table>"
      ],
      "text/plain": [
       "<Frame>\n",
       "<Index> A      B       C          <<U1>\n",
       "<Index>\n",
       "x       True   20      1954-11-02\n",
       "y       False  30      2020-04-28\n",
       "<<U1>   <bool> <int64> <<U10>"
      ]
     },
     "execution_count": 4,
     "metadata": {},
     "output_type": "execute_result"
    }
   ],
   "source": [
    "f1 = sf.Frame.from_records(((True, 20, '1954-11-02'), (False, 30, '2020-04-28')), \n",
    "                            index=tuple('xy'), columns=tuple('ABC'))\n",
    "f1"
   ]
  },
  {
   "cell_type": "markdown",
   "id": "ab1621be",
   "metadata": {},
   "source": [
    "# Finding All Constructors\n",
    "\n",
    "* Every SF container has an `.interface` attribute\n",
    "* `.interface` returns a `sf.Frame` of the complete interface\n",
    "* The same representation is used to populate API overview: https://static-frame.readthedocs.io/en/latest/api_overview/frame.html\n"
   ]
  },
  {
   "cell_type": "code",
   "execution_count": 6,
   "id": "89298a9e",
   "metadata": {},
   "outputs": [
    {
     "data": {
      "text/html": [
       "<table><thead><tr><th></th><th>cls_name</th><th>group</th><th>doc</th></tr></thead><tbody><tr><th>__init__(data, *, index, columns, ...)</th><td>Frame</td><td>Constructor</td><td>Initializer. Args: data: Default Frame initialization requires typed data such a...</td></tr><tr><th>from_arrow(value, *, index_depth, index_name_depth_level, ...)</th><td>Frame</td><td>Constructor</td><td>Realize a Frame from an Arrow Table. Args: value: A pyarrow.Table instance. inde...</td></tr><tr><th>from_clipboard(*, delimiter, index_depth, index_column_first, ...)</th><td>Frame</td><td>Constructor</td><td>Create a Frame from the contents of the clipboard (assuming a table is stored as...</td></tr><tr><th>from_concat(frames, *, axis, union, ...)</th><td>Frame</td><td>Constructor</td><td>Concatenate multiple Frames into a new Frame. If index or columns are provided a...</td></tr><tr><th>from_concat_items(items, *, axis, union, ...)</th><td>Frame</td><td>Constructor</td><td>Produce a Frame with a hierarchical index from an iterable of pairs of labels, F...</td></tr></tbody></table>"
      ],
      "text/plain": [
       "<Frame: Frame>\n",
       "<Index>                              cls_name group       doc                  <<U18>\n",
       "<Index: signature>\n",
       "__init__(data, *, index, columns,... Frame    Constructor Initializer. Args...\n",
       "from_arrow(value, *, index_depth,... Frame    Constructor Realize a Frame f...\n",
       "from_clipboard(*, delimiter, inde... Frame    Constructor Create a Frame fr...\n",
       "from_concat(frames, *, axis, unio... Frame    Constructor Concatenate multi...\n",
       "from_concat_items(items, *, axis,... Frame    Constructor Produce a Frame w...\n",
       "<<U94>                               <<U5>    <<U27>      <<U83>"
      ]
     },
     "execution_count": 6,
     "metadata": {},
     "output_type": "execute_result"
    }
   ],
   "source": [
    "# Using the interface attribute to show the signature of all constructors\n",
    "f = sf.Frame.interface\n",
    "f.loc[f['group'] == 'Constructor'].head()"
   ]
  },
  {
   "cell_type": "markdown",
   "id": "ec05e8b4",
   "metadata": {},
   "source": [
    "# Constructors Are Class Methods\n",
    "* Pandas places some constructors on the `pd` name space\n",
    "* All StaticFrame constructors are class methods on classes\n",
    "* Creating a Frame from concatenation \n",
    "    * Pandas: `pd.concat()`\n",
    "    * StaticFrame: `sf.Frame.from_concat()`, `sf.Frame.from_concat_items()`\n",
    "* Creating a Frame from other Frames by overlaying on missing values\n",
    "    * Pandas: `pd.DataFrame.combine_first()` # instance method for combining one Frame\n",
    "    * StaticFrame: `sf.Frame.from_overlay()` # class method for combining one or more Frame"
   ]
  },
  {
   "cell_type": "markdown",
   "id": "99a51790",
   "metadata": {},
   "source": [
    "# Selection\n",
    "* StaticFrame exposes all types of NumPy and Pandas-style selection routines\n",
    "* StaticFrame interfaces are more narrow than Pandas\n",
    "* Selection interfaces\n",
    "    * `loc[]`: use lables\n",
    "    * `iloc[]`: use integer position (from zero)\n",
    "    * `bloc[]`: use Boolean indicator (StaticFrame only)\n",
    "* NumPy-style selection values \n",
    "    * A single label (a tuple is a single label)\n",
    "    * A list of labels (must be a list to distinguish from a tuple label)\n",
    "    * A slice of labels\n",
    "    * A 1D Boolean arary selecting labels\n"
   ]
  },
  {
   "cell_type": "markdown",
   "id": "fc3416de",
   "metadata": {},
   "source": [
    "# Selection Interfaces on `sf.Frame`\n",
    "    \n",
    "* `[]`: root `__getitem__` selection \n",
    "    * `pd.DataFrame[]` selects by column labels, or row and column labels, or by 2D Boolean array\n",
    "    * `sf.Frame[]` is exclusively column selection\n",
    "* `loc[]`: select rows, optionally columns, by label (same as Pandas)\n",
    "* `iloc[]`: select rows, optionally columns, by integer position (same as Pandas)\n",
    "* `bloc[]`: select with a 2D Boolean array (StaticFrame only)"
   ]
  },
  {
   "cell_type": "code",
   "execution_count": 7,
   "id": "6acae71d",
   "metadata": {},
   "outputs": [
    {
     "data": {
      "text/html": [
       "<table><thead><tr><th></th><th>A</th><th>B</th><th>C</th></tr></thead><tbody><tr><th>x</th><td>True</td><td>20</td><td>1954-11-02</td></tr><tr><th>y</th><td>False</td><td>30</td><td>2020-04-28</td></tr></tbody></table>"
      ],
      "text/plain": [
       "<Frame>\n",
       "<Index> A      B       C          <<U1>\n",
       "<Index>\n",
       "x       True   20      1954-11-02\n",
       "y       False  30      2020-04-28\n",
       "<<U1>   <bool> <int64> <<U10>"
      ]
     },
     "metadata": {},
     "output_type": "display_data"
    },
    {
     "data": {
      "text/html": [
       "<table><tbody><tr><th>x</th><td>20</td></tr><tr><th>y</th><td>30</td></tr></tbody></table>"
      ],
      "text/plain": [
       "<Series: B>\n",
       "<Index>\n",
       "x           20\n",
       "y           30\n",
       "<<U1>       <int64>"
      ]
     },
     "execution_count": 7,
     "metadata": {},
     "output_type": "execute_result"
    }
   ],
   "source": [
    "f1 = sf.Frame.from_records(((True, 20, '1954-11-02'), (False, 30, '2020-04-28')), \n",
    "                            index=tuple('xy'), columns=tuple('ABC'))\n",
    "display(f1)\n",
    "f1['B'] # Select a column with a single label"
   ]
  },
  {
   "cell_type": "code",
   "execution_count": 8,
   "id": "42a16312",
   "metadata": {},
   "outputs": [
    {
     "data": {
      "text/plain": [
       "array([False, False,  True])"
      ]
     },
     "metadata": {},
     "output_type": "display_data"
    },
    {
     "data": {
      "text/html": [
       "<table><thead><tr><th></th><th>C</th></tr></thead><tbody><tr><th>x</th><td>1954-11-02</td></tr><tr><th>y</th><td>2020-04-28</td></tr></tbody></table>"
      ],
      "text/plain": [
       "<Frame>\n",
       "<Index> C          <<U1>\n",
       "<Index>\n",
       "x       1954-11-02\n",
       "y       2020-04-28\n",
       "<<U1>   <<U10>"
      ]
     },
     "execution_count": 8,
     "metadata": {},
     "output_type": "execute_result"
    }
   ],
   "source": [
    "display(f1.columns == 'C')\n",
    "# Select columns with a Boolean indicator\n",
    "f1[f1.columns == 'C'] "
   ]
  },
  {
   "cell_type": "code",
   "execution_count": 9,
   "id": "25cfca73",
   "metadata": {},
   "outputs": [
    {
     "data": {
      "text/html": [
       "<table><thead><tr><th></th><th>A</th><th>C</th></tr></thead><tbody><tr><th>y</th><td>False</td><td>2020-04-28</td></tr></tbody></table>"
      ],
      "text/plain": [
       "<Frame>\n",
       "<Index> A      C          <<U1>\n",
       "<Index>\n",
       "y       False  2020-04-28\n",
       "<<U1>   <bool> <<U10>"
      ]
     },
     "execution_count": 9,
     "metadata": {},
     "output_type": "execute_result"
    }
   ],
   "source": [
    "f1.loc['y':, ['A', 'C']] # Select a row with a slice and list of labels"
   ]
  },
  {
   "cell_type": "code",
   "execution_count": 10,
   "id": "806d12ab",
   "metadata": {},
   "outputs": [
    {
     "data": {
      "text/plain": [
       "'2020-04-28'"
      ]
     },
     "execution_count": 10,
     "metadata": {},
     "output_type": "execute_result"
    }
   ],
   "source": [
    "f1.iloc[-1, -1] # Select an element with iloc labels"
   ]
  },
  {
   "cell_type": "code",
   "execution_count": 11,
   "id": "d6fa125d",
   "metadata": {},
   "outputs": [
    {
     "data": {
      "text/html": [
       "<table><tbody><tr><th>(&#x27;y&#x27;, &#x27;B&#x27;)</th><td>30</td></tr><tr><th>(&#x27;y&#x27;, &#x27;C&#x27;)</th><td>2020-04-28</td></tr></tbody></table>"
      ],
      "text/plain": [
       "<Series>\n",
       "<Index>\n",
       "('y', 'B') 30\n",
       "('y', 'C') 2020-04-28\n",
       "<object>   <object>"
      ]
     },
     "execution_count": 11,
     "metadata": {},
     "output_type": "execute_result"
    }
   ],
   "source": [
    "f1.bloc[f1.isin([30, '2020-04-28'])] # Selcting non contiguous values"
   ]
  },
  {
   "cell_type": "markdown",
   "id": "403b9dfd",
   "metadata": {},
   "source": [
    "# Mixing `loc` and `iloc` Selection\n",
    "\n",
    "* `sf.ILoc` (StaticFrame only) permits embedding `iloc` selection in a `loc` selection\n",
    "* `sf.HLoc` (similar to `pd.IndexSlice`) permits embedding hierarchical selection in `loc` selection"
   ]
  },
  {
   "cell_type": "code",
   "execution_count": 12,
   "id": "29d646a1",
   "metadata": {},
   "outputs": [
    {
     "data": {
      "text/html": [
       "<table><thead><tr><th></th><th>A</th><th>B</th><th>C</th></tr></thead><tbody><tr><th>x</th><td>True</td><td>20</td><td>1954-11-02</td></tr><tr><th>y</th><td>False</td><td>30</td><td>2020-04-28</td></tr></tbody></table>"
      ],
      "text/plain": [
       "<Frame>\n",
       "<Index> A      B       C          <<U1>\n",
       "<Index>\n",
       "x       True   20      1954-11-02\n",
       "y       False  30      2020-04-28\n",
       "<<U1>   <bool> <int64> <<U10>"
      ]
     },
     "metadata": {},
     "output_type": "display_data"
    },
    {
     "data": {
      "text/html": [
       "<table><tbody><tr><th>A</th><td>False</td></tr><tr><th>C</th><td>2020-04-28</td></tr></tbody></table>"
      ],
      "text/plain": [
       "<Series: y>\n",
       "<Index>\n",
       "A           False\n",
       "C           2020-04-28\n",
       "<<U1>       <object>"
      ]
     },
     "execution_count": 12,
     "metadata": {},
     "output_type": "execute_result"
    }
   ],
   "source": [
    "display(f1)\n",
    "f1.loc[sf.ILoc[-1], ['A', 'C']] # Get the last row, columns A and C"
   ]
  },
  {
   "cell_type": "markdown",
   "id": "7a76cb7e",
   "metadata": {},
   "source": [
    "# Handling Missing Values\n",
    "* Missing values are `None` and `np.nan` (same as Pandas)\n",
    "* Boolean indicators (same as Pandas)\n",
    "    * `sf.Frame.isna()`\n",
    "    * `sf.Frame.notna()`\n",
    "* Replacing missing values with new containers (same as Pandas)\n",
    "    * `sf.Frame.dropna()`\n",
    "    * `sf.Frame.fillna()`"
   ]
  },
  {
   "cell_type": "markdown",
   "id": "11636d22",
   "metadata": {},
   "source": [
    "# Handling Falsy Values\n",
    "* Sometimes we want to treat `0` or `''` or `()` as missing\n",
    "* Functions corresponding to `*na` functions (StaticFrame only)\n",
    "    * `sf.Frame.isfalsy()`\n",
    "    * `sf.Frame.notfalsy()`\n",
    "    * `sf.Frame.dropfalsy()`\n",
    "    * `sf.Frame.fillfalsy()`"
   ]
  },
  {
   "cell_type": "markdown",
   "id": "03085f0f",
   "metadata": {},
   "source": [
    "# Fill Missing Values Along an Axis\n",
    "* Fill the first or last non-missing observation up to the `limit` parameter.\n",
    "    * Related functionaliy provided in `pd.DataFrame.fillna()`\n",
    "    * `sf.Frame.fillna_forward()`\n",
    "    * `sf.Frame.fillna_backward()`\n",
    "* Fill the leading or trailing missing values with a provided value\n",
    "    * StaticFrame only\n",
    "    * `sf.Frame.fillna_leading()`\n",
    "    * `sf.Frame.fillna_trailing()`"
   ]
  },
  {
   "cell_type": "markdown",
   "id": "4fa67102",
   "metadata": {},
   "source": [
    "# Fill Falsy Values Along an Axis\n",
    "* StaticFrame only\n",
    "* Fill the first or last non-missing observation up to the `limit` parameter.\n",
    "    * `sf.Frame.fillfalsy_forward()`\n",
    "    * `sf.Frame.fillfalsy_backward()`\n",
    "* Fill the leading or trailing missing values with a provided value\n",
    "    * `sf.Frame.fillfalsy_leading()`\n",
    "    * `sf.Frame.fillfalsy_trailing()`"
   ]
  },
  {
   "cell_type": "markdown",
   "id": "d32e6eac",
   "metadata": {},
   "source": [
    "# Immutability and \"No-Copy\" Operations\n",
    "* Immutability reduces opportunities for errors \n",
    "* NumPy provides no-copy \"views\" of array data when possible\n",
    "* With immutabile arrays, we can pass around views without defensive copies\n",
    "* Examples:\n",
    "    * Renaming an `sf.Frame` is no-copy\n",
    "    * Relabelling `index` or `columns` does not copy underlying arrays\n",
    "    * Horizontal concatenation of same-index components is no-copy\n",
    "* Pandas support for mutation, combined with NumPy views, leads to commonly observed Pandas `SettingWithCopyWarning`"
   ]
  },
  {
   "cell_type": "markdown",
   "id": "7851040d",
   "metadata": {},
   "source": [
    "# Assignment with Immutable Frames\n",
    "* Pandas permits in-place assignment and mutationi to all types of selections\n",
    "    * `pd.DataFrame.loc['x', 'B':] = 1.0`\n",
    "* StaticFrame offers an `assign` interface that defines a selection that is then called with a value to assign\n",
    "* The value to assign can be an element or labelled data (`sf.Series`, `sf.Frame`)\n",
    "* `sf.Frame.assign.loc['x', 'B':](1.0)`\n",
    "    * Returns a new container\n",
    "    * Unchanged columns will be views and re-used (no-copy)"
   ]
  },
  {
   "cell_type": "code",
   "execution_count": 13,
   "id": "394760d8",
   "metadata": {},
   "outputs": [
    {
     "data": {
      "text/html": [
       "<table><thead><tr><th></th><th>A</th><th>B</th><th>C</th></tr></thead><tbody><tr><th>x</th><td>True</td><td>-1</td><td>-1</td></tr><tr><th>y</th><td>False</td><td>30</td><td>2020-04-28</td></tr></tbody></table>"
      ],
      "text/plain": [
       "<Frame>\n",
       "<Index> A      B       C          <<U1>\n",
       "<Index>\n",
       "x       True   -1      -1\n",
       "y       False  30      2020-04-28\n",
       "<<U1>   <bool> <int64> <object>"
      ]
     },
     "execution_count": 13,
     "metadata": {},
     "output_type": "execute_result"
    }
   ],
   "source": [
    "# Assigning a value to a slice in a single row\n",
    "f1.assign.loc['x', 'B':](-1)"
   ]
  },
  {
   "cell_type": "code",
   "execution_count": 14,
   "id": "9c0278ed",
   "metadata": {},
   "outputs": [
    {
     "data": {
      "text/html": [
       "<table><thead><tr><th></th><th>A</th><th>B</th><th>C</th></tr></thead><tbody><tr><th>x</th><td>True</td><td>x</td><td>1954-11-02</td></tr><tr><th>y</th><td>False</td><td>y</td><td>2020-04-28</td></tr></tbody></table>"
      ],
      "text/plain": [
       "<Frame>\n",
       "<Index> A      B     C          <<U1>\n",
       "<Index>\n",
       "x       True   x     1954-11-02\n",
       "y       False  y     2020-04-28\n",
       "<<U1>   <bool> <<U1> <<U10>"
      ]
     },
     "execution_count": 14,
     "metadata": {},
     "output_type": "execute_result"
    }
   ],
   "source": [
    "# Assigning a Series to a column, matching on label\n",
    "f1.assign['B'](sf.Series(('y', 'x'), index=('y', 'x')))"
   ]
  },
  {
   "cell_type": "markdown",
   "id": "86695d16",
   "metadata": {},
   "source": [
    "# Grow-Only Mutation\n",
    "* Pandas permits growing a DataFrame by columns (efficient) and rows (very inefficient)\n",
    "* The `sf.FrameGO` permits grow-only column addition or whole-frame extension\n",
    "* While the container is muetable, underlying array data always remains immutable\n",
    "    * Going from an `sf.Frame` to an `sf.FrameGO` is a no-copy operations\n",
    "    * Often used within a narrow scope\n",
    "* Growing rows is never permitted (use `sf.Frame.from_concat()` with collected rows)"
   ]
  },
  {
   "cell_type": "code",
   "execution_count": 13,
   "id": "ec4623d9",
   "metadata": {},
   "outputs": [
    {
     "data": {
      "text/html": [
       "<table><thead><tr><th></th><th>A</th><th>B</th><th>C</th><th>D</th></tr></thead><tbody><tr><th>x</th><td>True</td><td>20</td><td>1954-11-02</td><td>34</td></tr><tr><th>y</th><td>False</td><td>30</td><td>2020-04-28</td><td>87</td></tr></tbody></table>"
      ],
      "text/plain": [
       "<FrameGO>\n",
       "<IndexGO> A      B       C          D       <<U1>\n",
       "<Index>\n",
       "x         True   20      1954-11-02 34\n",
       "y         False  30      2020-04-28 87\n",
       "<<U1>     <bool> <int64> <<U10>     <int64>"
      ]
     },
     "execution_count": 13,
     "metadata": {},
     "output_type": "execute_result"
    }
   ],
   "source": [
    "# Adding a column to a FrameGO\n",
    "f2 = f1.to_frame_go()\n",
    "f2['D'] = (34, 87)\n",
    "f2"
   ]
  },
  {
   "cell_type": "code",
   "execution_count": 14,
   "id": "9b68b596",
   "metadata": {},
   "outputs": [
    {
     "data": {
      "text/html": [
       "<table><thead><tr><th></th><th>A</th><th>B</th><th>C</th><th>D</th><th>a</th><th>b</th></tr></thead><tbody><tr><th>x</th><td>True</td><td>20</td><td>1954-11-02</td><td>34</td><td>100</td><td>2000</td></tr><tr><th>y</th><td>False</td><td>30</td><td>2020-04-28</td><td>87</td><td>0</td><td>3000</td></tr></tbody></table>"
      ],
      "text/plain": [
       "<FrameGO>\n",
       "<IndexGO> A      B       C          D       a       b       <<U1>\n",
       "<Index>\n",
       "x         True   20      1954-11-02 34      100     2000\n",
       "y         False  30      2020-04-28 87      0       3000\n",
       "<<U1>     <bool> <int64> <<U10>     <int64> <int64> <int64>"
      ]
     },
     "execution_count": 14,
     "metadata": {},
     "output_type": "execute_result"
    }
   ],
   "source": [
    "# Extending a FrameGO with another Frame\n",
    "# On aligned indices this is a no-copy operation\n",
    "f3 = (f1[['A', 'B']] * 100).relabel(columns=lambda l: l.lower())\n",
    "f2.extend(f3)\n",
    "f2"
   ]
  },
  {
   "cell_type": "markdown",
   "id": "6af78f6d",
   "metadata": {},
   "source": [
    "# A Family of `sf.Frame`\n",
    "\n",
    "* Pandas has only one `DataFrame` class\n",
    "* StaticFrame has a family\n",
    "    * `sf.Frame`\n",
    "    * `sf.FrameGO`: a grow-only `sf.Frame`\n",
    "    * `sf.FrameHE`: a hashable `sf.Frame`\n",
    "        * HE for `__hash__` and `__eq__`, the methods implemented to support hashability\n",
    "        * Some hasing scenarios mare require a full values comparison for lookup\n",
    "* Methods exist to easily convert between all three (always a no-copy operation)\n",
    "    * `sf.Frame.to_frame_go()`\n",
    "    * `sf.Frame.to_frame_he()`\n",
    "    * `sf.FrameGO.to_frame()`\n",
    "    * `sf.FrameGO.to_frame_he()`\n",
    "    * `sf.FrameHE.to_frame()`\n",
    "    * `sf.FrameHE.to_frame_go()`\n"
   ]
  },
  {
   "cell_type": "code",
   "execution_count": 15,
   "id": "f89bfbe8",
   "metadata": {},
   "outputs": [
    {
     "data": {
      "text/plain": [
       "True"
      ]
     },
     "execution_count": 15,
     "metadata": {},
     "output_type": "execute_result"
    }
   ],
   "source": [
    "# A Frame as a key in a dictionary\n",
    "f = sf.Frame(np.arange(4).reshape(2, 2)).to_frame_he()\n",
    "d = {f: True} \n",
    "f in d"
   ]
  },
  {
   "cell_type": "markdown",
   "id": "0d7d16e1",
   "metadata": {},
   "source": [
    "# Changing Columnar dtypes\n",
    "\n",
    "* `sf.Frame.astype()` can be used to retype an entire Frame (sme as Pandas)\n",
    "* Can use column selection to isolate targets\n",
    "    * Similar to `sf.Frame.assign` interface\n",
    "    * `sf.Frame.astype[sf.columns.via_str.startwith('--')](int)`\n",
    "* Changing types will be no-copy for unaffected columns"
   ]
  },
  {
   "cell_type": "code",
   "execution_count": 18,
   "id": "0043badf",
   "metadata": {},
   "outputs": [
    {
     "data": {
      "text/html": [
       "<table><thead><tr><th></th><th>A</th><th>B</th><th>C</th></tr></thead><tbody><tr><th>x</th><td>1.0</td><td>20.0</td><td>1954-11-02</td></tr><tr><th>y</th><td>0.0</td><td>30.0</td><td>2020-04-28</td></tr></tbody></table>"
      ],
      "text/plain": [
       "<Frame>\n",
       "<Index> A         B         C          <<U1>\n",
       "<Index>\n",
       "x       1.0       20.0      1954-11-02\n",
       "y       0.0       30.0      2020-04-28\n",
       "<<U1>   <float64> <float64> <<U10>"
      ]
     },
     "execution_count": 18,
     "metadata": {},
     "output_type": "execute_result"
    }
   ],
   "source": [
    "f1.astype[['A', 'B']](float)"
   ]
  },
  {
   "cell_type": "markdown",
   "id": "a6a60477",
   "metadata": {},
   "source": [
    "# Full Support for All NumPy dtypes\n",
    "* NumPy is the foundation of StaticFrame and Pandas\n",
    "* Pandas only uses a subset of NumPy dtypes; StaticFrame supports all\n",
    "* NumPy's fixed-size Unicode arrays\n",
    "    * Optimal when elements are diverse and of similar size\n",
    "    * Pandas always converts these to object arrays of Python strings\n",
    "* NumPy's `datetime64` type\n",
    "    * Fast datetime representation with units for resolution (from year to attosecond)\n",
    "    * Pandas coerces any `datetime64` to nanosecond units\n",
    "    * StaticFrame permits using year, date, or any `datetime64` unit\n",
    "    * See also: https://www.youtube.com/watch?v=jdnr7sgxCQI"
   ]
  },
  {
   "cell_type": "code",
   "execution_count": 16,
   "id": "2a626b30",
   "metadata": {},
   "outputs": [
    {
     "name": "stdout",
     "output_type": "stream",
     "text": [
      "<Frame>\n",
      "<Index> A      B       C          <<U1>\n",
      "<Index>\n",
      "x       True   20      1954-11-02\n",
      "y       False  30      2020-04-28\n",
      "<<U1>   <bool> <int64> <<U10>\n"
     ]
    },
    {
     "data": {
      "text/html": [
       "<table><tbody><tr><th>A</th><td>bool</td></tr><tr><th>B</th><td>int64</td></tr><tr><th>C</th><td>&lt;U10</td></tr></tbody></table>"
      ],
      "text/plain": [
       "<Series>\n",
       "<Index>\n",
       "A        bool\n",
       "B        int64\n",
       "C        <U10\n",
       "<<U1>    <object>"
      ]
     },
     "execution_count": 16,
     "metadata": {},
     "output_type": "execute_result"
    }
   ],
   "source": [
    "# By default, StaticFrame always shows all types and dtypes\n",
    "print(str(f1))\n",
    "# Can get a Series by column label\n",
    "f1.dtypes"
   ]
  },
  {
   "cell_type": "code",
   "execution_count": 20,
   "id": "c72737cf",
   "metadata": {},
   "outputs": [
    {
     "name": "stdout",
     "output_type": "stream",
     "text": [
      "<Frame>\n",
      "<Index> A      B       C          <<U1>\n",
      "<Index>\n",
      "x       True   20      1954-11-02\n",
      "y       False  30      2020-04-28\n",
      "<<U1>   <bool> <int64> <object>\n"
     ]
    }
   ],
   "source": [
    "# Can convert Unicode dtypes to Python string object\n",
    "print(str(f1.astype['C'](object)))"
   ]
  },
  {
   "cell_type": "code",
   "execution_count": 21,
   "id": "a6bfb5f8",
   "metadata": {},
   "outputs": [
    {
     "name": "stdout",
     "output_type": "stream",
     "text": [
      "<Frame>\n",
      "<Index> A      B       C               <<U1>\n",
      "<Index>\n",
      "x       True   20      1954-11-02\n",
      "y       False  30      2020-04-28\n",
      "<<U1>   <bool> <int64> <datetime64[D]>\n"
     ]
    }
   ],
   "source": [
    "# Can convert strings NumPy datetime64 date objects\n",
    "print(str(f1.astype['C'](np.datetime64)))"
   ]
  },
  {
   "cell_type": "markdown",
   "id": "d14590ed",
   "metadata": {},
   "source": [
    "# A Family of `sf.Index`\n",
    "\n",
    "* To use `datetime64` as an index, use a `datetime64` `sf.Index` subclass\n",
    "    * `sf.IndexDate`, `sf.indexYearMonth`, etc.\n",
    "    * Provides robust translation from Python date / datetime objects\n",
    "    * Provides partial selection with less granular date units\n",
    "    * Provides alternative constructor for date ranges\n",
    "* Hierarchical indices with `sf.IndexHierarchy`\n",
    "* Many interfaces expose `index_constructor` arguments to specify what kind of index to make.\n",
    "    "
   ]
  },
  {
   "cell_type": "code",
   "execution_count": 49,
   "id": "5b87be20",
   "metadata": {},
   "outputs": [
    {
     "data": {
      "text/html": [
       "<table><thead><tr><th></th><th>A</th><th>B</th></tr></thead><tbody><tr><th>1954-11-02</th><td>True</td><td>20</td></tr><tr><th>2020-04-28</th><td>False</td><td>30</td></tr></tbody></table>"
      ],
      "text/plain": [
       "<Frame>\n",
       "<Index>         A      B       <<U1>\n",
       "<IndexDate: C>\n",
       "1954-11-02      True   20\n",
       "2020-04-28      False  30\n",
       "<datetime64[D]> <bool> <int64>"
      ]
     },
     "execution_count": 49,
     "metadata": {},
     "output_type": "execute_result"
    }
   ],
   "source": [
    "# Transfer a column to an index\n",
    "f4 = f1.set_index('C', drop=True, index_constructor=sf.IndexDate)\n",
    "f4"
   ]
  },
  {
   "cell_type": "code",
   "execution_count": 50,
   "id": "677a679c",
   "metadata": {},
   "outputs": [
    {
     "data": {
      "text/html": [
       "<table><thead><tr><th></th><th>A</th><th>B</th></tr></thead><tbody><tr><th>2020-04-28</th><td>False</td><td>30</td></tr></tbody></table>"
      ],
      "text/plain": [
       "<Frame>\n",
       "<Index>         A      B       <<U1>\n",
       "<IndexDate: C>\n",
       "2020-04-28      False  30\n",
       "<datetime64[D]> <bool> <int64>"
      ]
     },
     "execution_count": 50,
     "metadata": {},
     "output_type": "execute_result"
    }
   ],
   "source": [
    "# Selection with a less granular unit (year)\n",
    "f4.loc['2020']"
   ]
  },
  {
   "cell_type": "code",
   "execution_count": 51,
   "id": "635d117c",
   "metadata": {},
   "outputs": [
    {
     "data": {
      "text/html": [
       "<table><tbody><tr><th>A</th><td>True</td></tr><tr><th>B</th><td>20</td></tr></tbody></table>"
      ],
      "text/plain": [
       "<Series: 1954-11-02>\n",
       "<Index>\n",
       "A                    True\n",
       "B                    20\n",
       "<<U1>                <object>"
      ]
     },
     "execution_count": 51,
     "metadata": {},
     "output_type": "execute_result"
    }
   ],
   "source": [
    "# sf.IndexDate understands Python datetime objects\n",
    "import datetime\n",
    "f4.loc[datetime.date(1954, 11, 2)]"
   ]
  },
  {
   "cell_type": "code",
   "execution_count": 54,
   "id": "9026acf5",
   "metadata": {},
   "outputs": [
    {
     "name": "stdout",
     "output_type": "stream",
     "text": [
      "<Frame>\n",
      "<Index> C               A      B       <<U1>\n",
      "<Index>\n",
      "0       1954-11-02      True   20\n",
      "1       2020-04-28      False  30\n",
      "<int64> <datetime64[D]> <bool> <int64>\n"
     ]
    }
   ],
   "source": [
    "# Removing an index (pd.DataFrame.reset_index()\n",
    "print(str(f4.unset_index()))"
   ]
  },
  {
   "cell_type": "markdown",
   "id": "15234032",
   "metadata": {},
   "source": [
    "# Rename, Reindex, Relabel\n",
    "\n",
    "* `rename()` sets the `name` attribute on all containers\n",
    "    * `pd.DataFrame.rename()` relabels the axis, `pd.Series.rename()` sets the name of the container\n",
    "    * `sf.Frame.rename()`, `sf.Series.rename()` all do the same thing\n",
    "    * renaming is a no-copy operations\n",
    "* `reindex()` applies new index, aligning to the previous index\n",
    "    * Similar to `pd.DataFrame.reindex()`\n",
    "    * Matching labels will retain thier data\n",
    "    * New labels will introduce missing values (provided with a `fill_value`)\n",
    "* `relabel()` applies a new index, regardless of alignment to previous index\n",
    "    * Can map old to new with `dict`\n",
    "    * Can process old to new with a function\n",
    "    * Can replace with a new `sf.Index` or iterable"
   ]
  },
  {
   "cell_type": "markdown",
   "id": "ff3c321c",
   "metadata": {},
   "source": [
    "# Iteration\n",
    "* Iterating elements: `Frame.iter_elements()`\n",
    "* Iterating rows or columns:\n",
    "    * Specify axis=1 for rows, axis=0 for columns\n",
    "    * Choose what you want to get back\n",
    "        * `Frame.iter_series()`\n",
    "        * `Frame.iter_tuple()`\n",
    "        * `Frame.iter_array()`"
   ]
  },
  {
   "cell_type": "code",
   "execution_count": 32,
   "id": "6d3085d9",
   "metadata": {},
   "outputs": [
    {
     "data": {
      "text/html": [
       "<table><thead><tr><th></th><th>A</th><th>B</th><th>C</th><th>D</th></tr></thead><tbody><tr><th>0</th><td>0</td><td>1</td><td>2</td><td>a</td></tr><tr><th>1</th><td>3</td><td>4</td><td>5</td><td>b</td></tr><tr><th>2</th><td>6</td><td>7</td><td>8</td><td>b</td></tr><tr><th>3</th><td>9</td><td>10</td><td>11</td><td>a</td></tr><tr><th>4</th><td>12</td><td>13</td><td>14</td><td>c</td></tr><tr><th>5</th><td>15</td><td>16</td><td>17</td><td>c</td></tr></tbody></table>"
      ],
      "text/plain": [
       "<FrameGO>\n",
       "<IndexGO> A       B       C       D     <<U1>\n",
       "<Index>\n",
       "0         0       1       2       a\n",
       "1         3       4       5       b\n",
       "2         6       7       8       b\n",
       "3         9       10      11      a\n",
       "4         12      13      14      c\n",
       "5         15      16      17      c\n",
       "<int64>   <int64> <int64> <int64> <<U1>"
      ]
     },
     "execution_count": 32,
     "metadata": {},
     "output_type": "execute_result"
    }
   ],
   "source": [
    "f5 = sf.FrameGO(np.arange(18).reshape(6,3), columns=tuple('ABC'))\n",
    "f5['D'] = tuple('abbacc')\n",
    "f5"
   ]
  },
  {
   "cell_type": "code",
   "execution_count": 30,
   "id": "319a5a16",
   "metadata": {},
   "outputs": [
    {
     "data": {
      "text/html": [
       "<table><tbody><tr><th>A</th><td>0</td></tr><tr><th>B</th><td>1</td></tr><tr><th>C</th><td>2</td></tr><tr><th>D</th><td>a</td></tr></tbody></table>"
      ],
      "text/plain": [
       "<Series: 0>\n",
       "<Index>\n",
       "A           0\n",
       "B           1\n",
       "C           2\n",
       "D           a\n",
       "<<U1>       <object>"
      ]
     },
     "metadata": {},
     "output_type": "display_data"
    },
    {
     "data": {
      "text/plain": [
       "array([0, 1, 2, 'a'], dtype=object)"
      ]
     },
     "execution_count": 30,
     "metadata": {},
     "output_type": "execute_result"
    }
   ],
   "source": [
    "# Axis 1 iterates rows; next() gets the first\n",
    "display(next(iter(f5.iter_series(axis=1))))\n",
    "next(iter(f5.iter_array(axis=1)))"
   ]
  },
  {
   "cell_type": "code",
   "execution_count": 31,
   "id": "a3cf4896",
   "metadata": {},
   "outputs": [
    {
     "data": {
      "text/html": [
       "<table><tbody><tr><th>0</th><td>0</td></tr><tr><th>1</th><td>3</td></tr><tr><th>2</th><td>6</td></tr><tr><th>3</th><td>9</td></tr><tr><th>4</th><td>12</td></tr><tr><th>5</th><td>15</td></tr></tbody></table>"
      ],
      "text/plain": [
       "<Series: A>\n",
       "<Index>\n",
       "0           0\n",
       "1           3\n",
       "2           6\n",
       "3           9\n",
       "4           12\n",
       "5           15\n",
       "<int64>     <int64>"
      ]
     },
     "metadata": {},
     "output_type": "display_data"
    },
    {
     "data": {
      "text/plain": [
       "array([ 0,  3,  6,  9, 12, 15])"
      ]
     },
     "execution_count": 31,
     "metadata": {},
     "output_type": "execute_result"
    }
   ],
   "source": [
    "# Axis 0 iterates columns, next() gets the first\n",
    "display(next(iter(f5.iter_series(axis=0))))\n",
    "next(iter(f5.iter_array(axis=0)))"
   ]
  },
  {
   "cell_type": "markdown",
   "id": "f9fe4b02",
   "metadata": {},
   "source": [
    "# Function & Mapping Application\n",
    "* Function application implies iteration\n",
    "* Choose what you want to iterate on and call `apply()`\n",
    "    * Always returns an `sf.Series`\n",
    "* Can multi-process / thread with `apply_pool()`\n",
    "* Can iterate through results with `apply_iter()`\n",
    "* Can map instead of apply\n",
    "    * `map_all()`: if value not mappable, raise\n",
    "    * `map_any()`: map what you can, leave the rest unchanged\n",
    "    * `map_fill()`: map what you can, provide `fill_value` for others"
   ]
  },
  {
   "cell_type": "code",
   "execution_count": null,
   "id": "4612af52",
   "metadata": {},
   "outputs": [],
   "source": []
  },
  {
   "cell_type": "markdown",
   "id": "6ff56e77",
   "metadata": {},
   "source": [
    "# Grouping & Windowing\n",
    "\n",
    "* `sf.Frame.iter_group()`\n",
    "    * Group by unique values in one or more columns (axis 0) or rows (axis 1)\n",
    "    * Can use `apply()` if reducing to an `sf.Series`\n",
    "    * Can use an `sf.Batch` for performing operations on sub-Frames like `pd.DataFrameGroupBy`\n",
    "* `sf.Frame.iter_window()`\n",
    "    * Can use an `sf.Batch` for performing operations on sub Frames like `pd.Rolling`"
   ]
  },
  {
   "cell_type": "code",
   "execution_count": null,
   "id": "43217335",
   "metadata": {},
   "outputs": [],
   "source": []
  },
  {
   "cell_type": "markdown",
   "id": "531b0ed0",
   "metadata": {},
   "source": [
    "# Working with Collections of Frames\n",
    "* Pandas deprecated the `pd.Panel` for 3D data\n",
    "* Hierarchical indices incur overhead and force loading all data at once\n",
    "* The `sf.Bus`\n",
    "    * Offers a Series-like interface to collections of Frames\n",
    "    * Can read to and write from multi-tabel storage formats\n",
    "        * XLSX, HDF5, SQLite\n",
    "            * XLSX authoring similar to Pandas `pd.ExcelWriter`\n",
    "            * HDF5 authoring similar to Panas `pd.HDFStore`\n",
    "        * Zipped archives of CSV, TSV, Parquet, and NPZ\n",
    "    * Reads lazily\n",
    "    * Optionally unloads eagerly with `max_persist` argument\n",
    "    "
   ]
  },
  {
   "cell_type": "markdown",
   "id": "6f0dd99e",
   "metadata": {},
   "source": [
    "# Interfaces for Working with Strings\n",
    "* `sf.Frame.via_str`, similar to `pd.Series.str`\n",
    "* Expose Python string object interface for application on all elements\n",
    "* https://static-frame.readthedocs.io/en/latest/api_overview/frame.html#frame-accessor-string"
   ]
  },
  {
   "cell_type": "code",
   "execution_count": 59,
   "id": "96764662",
   "metadata": {},
   "outputs": [
    {
     "data": {
      "text/html": [
       "<table><thead><tr><th></th><th>A</th><th>B</th><th>C</th></tr></thead><tbody><tr><th>x</th><td>TRUE</td><td>20</td><td>1954-11-02</td></tr><tr><th>y</th><td>FALSE</td><td>30</td><td>2020-04-28</td></tr></tbody></table>"
      ],
      "text/plain": [
       "<Frame>\n",
       "<Index> A     B      C          <<U1>\n",
       "<Index>\n",
       "x       TRUE  20     1954-11-02\n",
       "y       FALSE 30     2020-04-28\n",
       "<<U1>   <<U5> <<U21> <<U10>"
      ]
     },
     "execution_count": 59,
     "metadata": {},
     "output_type": "execute_result"
    }
   ],
   "source": [
    "f1.via_str.upper()"
   ]
  },
  {
   "cell_type": "code",
   "execution_count": 61,
   "id": "1178d92d",
   "metadata": {},
   "outputs": [
    {
     "data": {
      "text/html": [
       "<table><thead><tr><th></th><th>A</th><th>B</th><th>C</th></tr></thead><tbody><tr><th>x</th><td>True</td><td>2+</td><td>1954-11-+2</td></tr><tr><th>y</th><td>False</td><td>3+</td><td>2+2+-+4-28</td></tr></tbody></table>"
      ],
      "text/plain": [
       "<Frame>\n",
       "<Index> A     B     C          <<U1>\n",
       "<Index>\n",
       "x       True  2+    1954-11-+2\n",
       "y       False 3+    2+2+-+4-28\n",
       "<<U1>   <<U5> <<U2> <<U10>"
      ]
     },
     "execution_count": 61,
     "metadata": {},
     "output_type": "execute_result"
    }
   ],
   "source": [
    "f1.via_str.replace('0', '+')"
   ]
  },
  {
   "cell_type": "markdown",
   "id": "3d2b3f72",
   "metadata": {},
   "source": [
    "# Interfaces for Working with Dates\n",
    "* `sf.Frame.via_dt`, similar to `pd.Series.dt`\n",
    "* Expose Python `date`, `datetime` interface for application on all elements\n",
    "* https://static-frame.readthedocs.io/en/latest/api_overview/frame.html#frame-accessor-datetime"
   ]
  },
  {
   "cell_type": "code",
   "execution_count": 63,
   "id": "ea769be7",
   "metadata": {},
   "outputs": [
    {
     "data": {
      "text/html": [
       "<table><tbody><tr><th>x</th><td>11</td></tr><tr><th>y</th><td>4</td></tr></tbody></table>"
      ],
      "text/plain": [
       "<Series: C>\n",
       "<Index>\n",
       "x           11\n",
       "y           4\n",
       "<<U1>       <int64>"
      ]
     },
     "execution_count": 63,
     "metadata": {},
     "output_type": "execute_result"
    }
   ],
   "source": [
    "f1['C'].astype(np.datetime64).via_dt.month"
   ]
  },
  {
   "cell_type": "code",
   "execution_count": 64,
   "id": "59bb5439",
   "metadata": {},
   "outputs": [
    {
     "data": {
      "text/html": [
       "<table><tbody><tr><th>x</th><td>1954</td></tr><tr><th>y</th><td>2020</td></tr></tbody></table>"
      ],
      "text/plain": [
       "<Series: C>\n",
       "<Index>\n",
       "x           1954\n",
       "y           2020\n",
       "<<U1>       <int64>"
      ]
     },
     "execution_count": 64,
     "metadata": {},
     "output_type": "execute_result"
    }
   ],
   "source": [
    "f1['C'].astype(np.datetime64).via_dt.year"
   ]
  },
  {
   "cell_type": "code",
   "execution_count": 57,
   "id": "1f3fa07c",
   "metadata": {},
   "outputs": [
    {
     "data": {
      "text/html": [
       "<table><tbody><tr><th>x</th><td>1</td></tr><tr><th>y</th><td>1</td></tr></tbody></table>"
      ],
      "text/plain": [
       "<Series: C>\n",
       "<Index>\n",
       "x           1\n",
       "y           1\n",
       "<<U1>       <int64>"
      ]
     },
     "execution_count": 57,
     "metadata": {},
     "output_type": "execute_result"
    }
   ],
   "source": [
    "f1['C'].astype(np.datetime64).via_dt.weekday()"
   ]
  },
  {
   "cell_type": "markdown",
   "id": "21f949b0",
   "metadata": {},
   "source": [
    "# Interfaces for Applying Regular Expressions\n",
    "* `sf.Frame.via_re` \n",
    "* Similar to `pd.Series.str.extract()`, but provides full interface from `re` module\n",
    "* https://static-frame.readthedocs.io/en/latest/api_overview/frame.html#frame-accessor-regular-expression"
   ]
  },
  {
   "cell_type": "code",
   "execution_count": 79,
   "id": "9e2e5f46",
   "metadata": {},
   "outputs": [
    {
     "data": {
      "text/html": [
       "<table><thead><tr><th></th><th>A</th><th>B</th><th>C</th></tr></thead><tbody><tr><th>x</th><td>True</td><td>20</td><td>1954-11-02</td></tr><tr><th>y</th><td>False</td><td>30</td><td>2020-04-28</td></tr></tbody></table>"
      ],
      "text/plain": [
       "<Frame>\n",
       "<Index> A      B       C          <<U1>\n",
       "<Index>\n",
       "x       True   20      1954-11-02\n",
       "y       False  30      2020-04-28\n",
       "<<U1>   <bool> <int64> <<U10>"
      ]
     },
     "metadata": {},
     "output_type": "display_data"
    },
    {
     "data": {
      "text/html": [
       "<table><thead><tr><th></th><th>A</th><th>B</th><th>C</th></tr></thead><tbody><tr><th>x</th><td>False</td><td>True</td><td>True</td></tr><tr><th>y</th><td>True</td><td>False</td><td>True</td></tr></tbody></table>"
      ],
      "text/plain": [
       "<Frame>\n",
       "<Index> A      B      C      <<U1>\n",
       "<Index>\n",
       "x       False  True   True\n",
       "y       True   False  True\n",
       "<<U1>   <bool> <bool> <bool>"
      ]
     },
     "execution_count": 79,
     "metadata": {},
     "output_type": "execute_result"
    }
   ],
   "source": [
    "display(f1)\n",
    "f1.via_re('[2a]').search()"
   ]
  },
  {
   "cell_type": "markdown",
   "id": "0004c2ef",
   "metadata": {},
   "source": [
    "# Configuring `fill_value` in Operator Application\n",
    "\n",
    "* Operations on labelled containers force reindexing\n",
    "* `sf.Frame.via_fill_value()` permits providing a fill value\n",
    "* Pandas offers related functionality with `pd.DataFrame.add()`, `pd.DataFrame.sub()`, `pd.DataFrame.mul()`, etc., methods."
   ]
  },
  {
   "cell_type": "code",
   "execution_count": 5,
   "id": "9271e6b2",
   "metadata": {},
   "outputs": [
    {
     "data": {
      "text/html": [
       "<table><thead><tr><th></th><th>A</th><th>B</th><th>C</th></tr></thead><tbody><tr><th>x</th><td>True</td><td>20</td><td>1954-11-02</td></tr><tr><th>y</th><td>False</td><td>30</td><td>2020-04-28</td></tr></tbody></table>"
      ],
      "text/plain": [
       "<Frame>\n",
       "<Index> A      B       C          <<U1>\n",
       "<Index>\n",
       "x       True   20      1954-11-02\n",
       "y       False  30      2020-04-28\n",
       "<<U1>   <bool> <int64> <<U10>"
      ]
     },
     "metadata": {},
     "output_type": "display_data"
    },
    {
     "data": {
      "text/html": [
       "<table><tbody><tr><th>x</th><td>0.02</td></tr><tr><th>y</th><td>30.0</td></tr><tr><th>z</th><td>nan</td></tr></tbody></table>"
      ],
      "text/plain": [
       "<Series>\n",
       "<Index>\n",
       "x        0.02\n",
       "y        30.0\n",
       "z        nan\n",
       "<<U1>    <float64>"
      ]
     },
     "execution_count": 5,
     "metadata": {},
     "output_type": "execute_result"
    }
   ],
   "source": [
    "display(f1)\n",
    "# Default binary operator application takes the union index and uses `nan` as a fill value\n",
    "f1['B'] * sf.Series((1000, 1, .001), index=tuple('zyx'))"
   ]
  },
  {
   "cell_type": "code",
   "execution_count": 6,
   "id": "f0263fb4",
   "metadata": {},
   "outputs": [
    {
     "data": {
      "text/html": [
       "<table><tbody><tr><th>x</th><td>0.02</td></tr><tr><th>y</th><td>30.0</td></tr><tr><th>z</th><td>0.0</td></tr></tbody></table>"
      ],
      "text/plain": [
       "<Series>\n",
       "<Index>\n",
       "x        0.02\n",
       "y        30.0\n",
       "z        0.0\n",
       "<<U1>    <float64>"
      ]
     },
     "execution_count": 6,
     "metadata": {},
     "output_type": "execute_result"
    }
   ],
   "source": [
    "# Using `via_fill_value` a fill value can be specified\n",
    "f1['B'].via_fill_value(0) * sf.Series((1000, 1, .001), index=tuple('zyx'))"
   ]
  },
  {
   "cell_type": "markdown",
   "id": "cb43cbef",
   "metadata": {},
   "source": [
    "# Virtual Transposition in Operator Application\n",
    "* Applying a 1D container on a 2D container applies to rows\n",
    "* `sf.Frame.via_T` presents 2D containers \"virtually\" transposed\n",
    "* Useful for applying a 1D container to the columns of a 2D container\n",
    "* Pandas offers related functionality with `pd.DataFrame.add()`, `pd.DataFrame.sub()`, `pd.DataFrame.mul()`, etc., methods."
   ]
  },
  {
   "cell_type": "code",
   "execution_count": 109,
   "id": "1a8388b5",
   "metadata": {},
   "outputs": [
    {
     "data": {
      "text/html": [
       "<table><thead><tr><th></th><th>0</th><th>1</th><th>2</th><th>3</th></tr></thead><tbody><tr><th>x</th><td>0</td><td>1</td><td>2</td><td>3</td></tr><tr><th>y</th><td>4</td><td>5</td><td>6</td><td>7</td></tr></tbody></table>"
      ],
      "text/plain": [
       "<Frame>\n",
       "<Index> 0       1       2       3       <int64>\n",
       "<Index>\n",
       "x       0       1       2       3\n",
       "y       4       5       6       7\n",
       "<<U1>   <int64> <int64> <int64> <int64>"
      ]
     },
     "metadata": {},
     "output_type": "display_data"
    },
    {
     "data": {
      "text/html": [
       "<table><tbody><tr><th>x</th><td>20</td></tr><tr><th>y</th><td>30</td></tr></tbody></table>"
      ],
      "text/plain": [
       "<Series: B>\n",
       "<Index>\n",
       "x           20\n",
       "y           30\n",
       "<<U1>       <int64>"
      ]
     },
     "metadata": {},
     "output_type": "display_data"
    },
    {
     "data": {
      "text/html": [
       "<table><thead><tr><th></th><th>0</th><th>1</th><th>2</th><th>3</th><th>x</th><th>y</th></tr></thead><tbody><tr><th>x</th><td>nan</td><td>nan</td><td>nan</td><td>nan</td><td>nan</td><td>nan</td></tr><tr><th>y</th><td>nan</td><td>nan</td><td>nan</td><td>nan</td><td>nan</td><td>nan</td></tr></tbody></table>"
      ],
      "text/plain": [
       "<Frame>\n",
       "<Index> 0         1         2         3         x         y         <object>\n",
       "<Index>\n",
       "x       nan       nan       nan       nan       nan       nan\n",
       "y       nan       nan       nan       nan       nan       nan\n",
       "<<U1>   <float64> <float64> <float64> <float64> <float64> <float64>"
      ]
     },
     "execution_count": 109,
     "metadata": {},
     "output_type": "execute_result"
    }
   ],
   "source": [
    "# 2D to 1D assumes row-wise application\n",
    "display(sf.Frame(np.arange(8).reshape(2, 4), index=tuple('xy')))\n",
    "display(f1['B'])\n",
    "sf.Frame(np.arange(8).reshape(2, 4), index=tuple('xy')) * f1['B']"
   ]
  },
  {
   "cell_type": "code",
   "execution_count": 104,
   "id": "6b963db7",
   "metadata": {},
   "outputs": [
    {
     "data": {
      "text/html": [
       "<table><thead><tr><th></th><th>0</th><th>1</th><th>2</th><th>3</th></tr></thead><tbody><tr><th>x</th><td>0</td><td>1</td><td>2</td><td>3</td></tr><tr><th>y</th><td>4</td><td>5</td><td>6</td><td>7</td></tr></tbody></table>"
      ],
      "text/plain": [
       "<Frame>\n",
       "<Index> 0       1       2       3       <int64>\n",
       "<Index>\n",
       "x       0       1       2       3\n",
       "y       4       5       6       7\n",
       "<<U1>   <int64> <int64> <int64> <int64>"
      ]
     },
     "metadata": {},
     "output_type": "display_data"
    },
    {
     "data": {
      "text/html": [
       "<table><tbody><tr><th>x</th><td>20</td></tr><tr><th>y</th><td>30</td></tr></tbody></table>"
      ],
      "text/plain": [
       "<Series: B>\n",
       "<Index>\n",
       "x           20\n",
       "y           30\n",
       "<<U1>       <int64>"
      ]
     },
     "metadata": {},
     "output_type": "display_data"
    },
    {
     "data": {
      "text/html": [
       "<table><thead><tr><th></th><th>0</th><th>1</th><th>2</th><th>3</th></tr></thead><tbody><tr><th>x</th><td>0</td><td>20</td><td>40</td><td>60</td></tr><tr><th>y</th><td>120</td><td>150</td><td>180</td><td>210</td></tr></tbody></table>"
      ],
      "text/plain": [
       "<Frame>\n",
       "<Index> 0       1       2       3       <int64>\n",
       "<Index>\n",
       "x       0       20      40      60\n",
       "y       120     150     180     210\n",
       "<<U1>   <int64> <int64> <int64> <int64>"
      ]
     },
     "execution_count": 104,
     "metadata": {},
     "output_type": "execute_result"
    }
   ],
   "source": [
    "# Using via_T, can apply column-wise application\n",
    "display(sf.Frame(np.arange(8).reshape(2, 4), index=tuple('xy')))\n",
    "display(f1['B'])\n",
    "sf.Frame(np.arange(8).reshape(2, 4), index=tuple('xy')).via_T * f1['B']\n"
   ]
  },
  {
   "cell_type": "markdown",
   "id": "5f1933ae",
   "metadata": {},
   "source": [
    "# All the Rest\n",
    "\n",
    "* Complete API best viewed through docs: https://static-frame.readthedocs.io/en/latest/api_overview/frame.html\n",
    "        "
   ]
  },
  {
   "cell_type": "markdown",
   "id": "710e8238",
   "metadata": {},
   "source": [
    "# All the Rest: NumPy-Style Interfaces\n",
    "\n",
    "* StaticFrame supports common NumPy interfaces and methods (Same as Pandas)\n",
    "* Attributes:\n",
    "    * `sf.Frame.shape`\n",
    "    * `sf.Frame.ndim`\n",
    "    * `sf.Frame.size`\n",
    "    * `sf.Frame.nbytes`\n",
    "    * `sf.Frame.T`\n",
    "* Logical operations (by axis):\n",
    "    * `sf.Frame.all()`\n",
    "    * `sf.Frame.any()`\n",
    "* Mathematical operations (by axis):\n",
    "    * `sf.Frame.sum()`\n",
    "    * `sf.Frame.min()`\n",
    "    * `sf.Frame.max()`\n",
    "    * `sf.Frame.mean()`\n",
    "    * `sf.Frame.median()`\n",
    "    * `sf.Frame.std()`\n",
    "    * `sf.Frame.var()`\n",
    "    * `sf.Frame.prod()`\n",
    "    * `sf.Frame.cumsum()`\n",
    "    * `sf.Frame.cumprod()`\n",
    "    "
   ]
  },
  {
   "cell_type": "markdown",
   "id": "fce6dde8",
   "metadata": {},
   "source": [
    "# All the Rest: Joins\n",
    "* Pandas: `pd.DataFrame.join()` with a `how` parameter (‘left’, ‘right’, ‘outer’, ‘inner’)\n",
    "* StaticFrame:\n",
    "    * `sf.Frame.join_left()`\n",
    "    * `sf.Frame.join_right()`\n",
    "    * `sf.Frame.join_outer()`\n",
    "    * `sf.Frame.join_inner()`    "
   ]
  },
  {
   "cell_type": "markdown",
   "id": "fa51d393",
   "metadata": {},
   "source": [
    "# All the Rest: Ranking\n",
    "* Pandas: `pd.DataFrame.rank` with a `method` parameter of (‘average’, ‘min’, ‘max’, ‘first’, ‘dense’)\n",
    "* StaticFrame:\n",
    "    * `sf.Frame.rank_mean`, `sf.Frame.rank_min()`, `sf.Freame.rank_max()`, `sf.Frame.rank_ordinal()`, `sf.Frame.rank_dense()`"
   ]
  },
  {
   "cell_type": "markdown",
   "id": "575eff9c",
   "metadata": {},
   "source": [
    "# All the Rest: Pivot\n",
    "* Pivoting\n",
    "    * Pandas: `pd.DataFrame.pivot()`, `pd.DataFrame.pivot_table()`\n",
    "    * StaticFrame: `sf.Frame.pivot()`\n",
    "* Stacking & unstacking\n",
    "    * Pandas: `pd.DataFrame.stack()`, `pd.DataFrame.unstack()`\n",
    "    * StaticFrame: `sf.Frame.pivot_stack()`, `sf.Frame.pivot_unstack()`\n"
   ]
  },
  {
   "cell_type": "markdown",
   "id": "e56d5f1b",
   "metadata": {},
   "source": [
    "# Performance\n",
    "* In many situations StaticFrame can lead to more efficient systems\n",
    "* Code can be more efficient with memory\n",
    "    * Can reuse immutable views\n",
    "    * No need for defensive copies\n",
    "* Focus of current development is performance\n",
    "    * Profiling with `cprofile`, `pyinstrument`, `line-profiler` and `gprof2dot` (for call graph analysis)\n",
    "    * C-extensions in ArrayKit\n",
    "    "
   ]
  },
  {
   "cell_type": "markdown",
   "id": "2dc8be09",
   "metadata": {},
   "source": [
    "# Performance: Sample Measures\n",
    "\n",
    "* Current metrics under study\n",
    "* Native is StaticFrame, Reference is Pandas\n",
    "* When StaticFrame is faster, it tends to be a lot faster\n",
    "* Out of 50 test, StaticFrame out-performs in 32\n",
    "\n",
    "### python:3.8.12|numpy:1.17.4|pandas:1.3.5|static_frame:0.8.34\n",
    "\n",
    "\n",
    "|name                                                             |iterations |Native |Reference |n/r    |r/n     |win                 |\n",
    "|-----------------------------------------------------------------|-----------|-------|----------|-------|--------|--------------------|\n",
    "|IndexIterLabelApply.index_int                     |200.0      |0.0228 |0.049     |0.466  |2.146   |True   |\n",
    "|IndexIterLabelApply.index_int_dtype               |200.0      |0.0108 |0.0469    |0.2306 |4.3371  |True   |\n",
    "|SeriesIsNa.bool_index_auto                        |10000.0    |0.0386 |0.4357    |0.0885 |11.2971 |True   |\n",
    "|SeriesIsNa.float_index_auto                       |10000.0    |0.0304 |0.4442    |0.0685 |14.5922 |True   |\n",
    "|SeriesIsNa.object_index_auto                      |10000.0    |0.7061 |0.849     |0.8317 |1.2023  |True   |\n",
    "|SeriesDropNa.bool_index_auto                      |200.0      |0.0003 |0.0052    |0.0663 |15.0853 |True   |\n",
    "|SeriesDropNa.bool_index_str                       |200.0      |0.0003 |0.0125    |0.0246 |40.5973 |True   |\n",
    "|SeriesDropNa.float_index_auto                     |200.0      |0.5844 |0.3402    |1.7177 |0.5822  |False|\n",
    "|SeriesDropNa.float_index_str                      |200.0      |2.0477 |1.0093    |2.0288 |0.4929  |False|\n",
    "|SeriesDropNa.object_index_auto                    |200.0      |2.2168 |1.2578    |1.7624 |0.5674  |False|\n",
    "|SeriesDropNa.object_index_str                     |200.0      |3.8207 |2.0625    |1.8524 |0.5398  |False|\n",
    "|SeriesFillNa.float_index_str                      |100.0      |0.02   |0.0344    |0.5814 |1.7199  |True   |\n",
    "|SeriesFillNa.object_index_str                     |100.0      |0.7479 |0.4065    |1.8397 |0.5436  |False|\n",
    "|SeriesDropDuplicated.bool_index_str               |500.0      |0.0193 |0.03      |0.6427 |1.5559  |True   |\n",
    "|SeriesDropDuplicated.float_index_str              |500.0      |0.075  |0.0493    |1.5191 |0.6583  |False|\n",
    "|SeriesDropDuplicated.object_index_str             |500.0      |0.1217 |0.4774    |0.2549 |3.9226  |True   |\n",
    "|SeriesIterElementApply.bool_index_str             |500.0      |0.3462 |0.1436    |2.4118 |0.4146  |False|\n",
    "|SeriesIterElementApply.float_index_str            |500.0      |0.3526 |0.2661    |1.3253 |0.7546  |False|\n",
    "|SeriesIterElementApply.object_index_str           |500.0      |0.312  |0.2341    |1.333  |0.7502  |False|\n",
    "|FrameDropNa.float_index_auto_column               |100.0      |0.0134 |0.1052    |0.1273 |7.8532  |True   |\n",
    "|FrameDropNa.float_index_auto_row                  |100.0      |0.0079 |0.0751    |0.1057 |9.4644  |True   |\n",
    "|FrameDropNa.float_index_str_column                |100.0      |0.0158 |0.1031    |0.1533 |6.5251  |True   |\n",
    "|FrameDropNa.float_index_str_row                   |100.0      |0.0081 |0.0742    |0.1086 |9.2069  |True   |\n",
    "|FrameILoc.element_index_auto                      |100000.0   |0.1713 |1.9643    |0.0872 |11.4639 |True   |\n",
    "|FrameILoc.element_index_str                       |100000.0   |0.172  |2.0113    |0.0855 |11.6921 |True   |\n",
    "|FrameLoc.element_index_auto                       |100000.0   |0.2638 |0.5898    |0.4473 |2.2358  |True   |\n",
    "|FrameLoc.element_index_str                        |100000.0   |0.3851 |0.5571    |0.6912 |1.4467  |True   |\n",
    "|FrameIterSeriesApply.float_index_str_column       |50.0       |2.48   |4.3301    |0.5727 |1.746   |True   |\n",
    "|FrameIterSeriesApply.float_index_str_column_dtype |50.0       |2.134  |4.2312    |0.5044 |1.9827  |True   |\n",
    "|FrameIterSeriesApply.float_index_str_row          |50.0       |2.1213 |2.9716    |0.7139 |1.4008  |True   |\n",
    "|FrameIterSeriesApply.float_index_str_row_dtype    |50.0       |1.9963 |2.9624    |0.6739 |1.484   |True   |\n",
    "|FrameIterSeriesApply.mixed_index_str_column       |50.0       |0.1574 |1.1348    |0.1387 |7.2097  |True   |\n",
    "|FrameIterSeriesApply.mixed_index_str_column_dtype |50.0       |0.1599 |1.2063    |0.1326 |7.5424  |True   |\n",
    "|FrameIterSeriesApply.mixed_index_str_row          |50.0       |2.2708 |1.7064    |1.3307 |0.7515  |False|\n",
    "|FrameIterSeriesApply.mixed_index_str_row_dtype    |50.0       |2.3071 |1.6826    |1.3712 |0.7293  |False|\n",
    "|FrameIterGroupApply.int_index_str_double          |1000.0     |1.393  |0.8971    |1.5528 |0.644   |False|\n",
    "|FrameIterGroupApply.int_index_str_single          |1000.0     |0.578  |0.5381    |1.0741 |0.931   |False|\n",
    "|FrameIterGroupApply.str_index_str_double          |1000.0     |1.406  |0.9642    |1.4583 |0.6857  |False|\n",
    "|FrameIterGroupApply.str_index_str_single          |1000.0     |0.5893 |0.6984    |0.8438 |1.1852  |True   |\n",
    "|Pivot.index1_columns0_data2                       |150.0      |0.1941 |0.7838    |0.2477 |4.037   |True   |\n",
    "|Pivot.index1_columns1_data1                       |150.0      |7.5364 |0.9452    |7.9737 |0.1254  |False|\n",
    "|BusItemsZipPickle.int_index_str                   |1.0        |4.9487 |          |       |        |True   |\n",
    "|FrameToParquet.write_tall_mixed_index_str         |4.0        |0.0535 |0.0394    |1.3565 |0.7372  |False|\n",
    "|FrameToParquet.write_wide_mixed_index_str         |4.0        |2.0016 |2.6561    |0.7536 |1.327   |True   |\n",
    "|Group.tall_group_100                              |150.0      |3.1352 |0.7401    |4.2359 |0.2361  |False|\n",
    "|Group.wide_group_2                                |150.0      |2.3462 |1.6902    |1.3881 |0.7204  |False|\n",
    "|FrameFromConcat.tall_mixed_20                     |50.0       |0.2972 |0.7582    |0.392  |2.5508  |True   |\n",
    "|FrameFromConcat.tall_uniform_20                   |50.0       |0.1278 |0.1516    |0.843  |1.1862  |True   |\n",
    "|min                                               |           |0.0003 |0.0052    |0.0246 |0.1254  |                    |\n",
    "|max                                               |           |7.5364 |4.3301    |7.9737 |40.5973 |                    |\n",
    "|mean                                              |           |1.0298 |0.9428    |1.0114 |4.144   |                    |\n",
    "|median                                            |           |0.3356 |0.5898    |0.6912 |1.4467  |                    |\n",
    "|std                                               |           |1.4853 |1.0476    |1.2932 |6.6758  |                    |\n"
   ]
  },
  {
   "cell_type": "markdown",
   "id": "17e36f73",
   "metadata": {},
   "source": []
  }
 ],
 "metadata": {
  "kernelspec": {
   "display_name": "Python 3",
   "language": "python",
   "name": "python3"
  },
  "language_info": {
   "codemirror_mode": {
    "name": "ipython",
    "version": 3
   },
   "file_extension": ".py",
   "mimetype": "text/x-python",
   "name": "python",
   "nbconvert_exporter": "python",
   "pygments_lexer": "ipython3",
   "version": "3.8.12"
  }
 },
 "nbformat": 4,
 "nbformat_minor": 5
}
