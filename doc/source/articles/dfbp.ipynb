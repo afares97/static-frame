{
 "cells": [
  {
   "cell_type": "markdown",
   "id": "c665c3bb",
   "metadata": {},
   "source": [
    "# StaticFrame from the Ground Up: Getting Started with Immutable DataFrames"
   ]
  },
  {
   "cell_type": "markdown",
   "id": "f23705f3",
   "metadata": {},
   "source": [
    "Back in 2017 I found myself frequently asking: \"is Pandas a suitable foundation for production library code?\" While Pandas is well-known for its utility in data science, I consistently found its flexibility a detriment in building library code for production systems.\n",
    "\n",
    "This led me to create StaticFrame, an alternative dataframe library built on an immutable data model. After years of development and use, I am confident that StaticFrame reduces opportunities for error and leads to more maintainable code. While not yet always more efficient than Pandas, in some areas StaticFrame offers very significant improvements in run time and memory usage. Beyond common functionality, StaticFrame offers a more explicit and consistent API, novel multi-Frame containers and processors, and support for high-performance serialization through the NPZ format."
   ]
  },
  {
   "cell_type": "markdown",
   "id": "96dad944",
   "metadata": {},
   "source": [
    "# What is a DataFrame?\n",
    "* A 2D table with labelled rows and columns\n",
    "    * Labels stay with data after selection\n",
    "    * Operations align on labels\n",
    "    * Can reindex based on labels\n",
    "* Distinct from a simple 2D array\n",
    "    * Labels can be any (hashable) type\n",
    "    * Support for hetergenous column types\n",
    "* A high-level language (Pyhon) can be used to implement dataframe functionality over a high-performance, low-level array library (NumPy)"
   ]
  },
  {
   "cell_type": "markdown",
   "id": "5c59c948",
   "metadata": {},
   "source": [
    "# A Brief History of DataFrames\n",
    "\n",
    "* 1991: earliest implementation of a dataframe in the S language\n",
    "* 2009: Pandas 0.1 released\n",
    "* 2018: StaticFrame 0.1 released\n",
    "* Presently a number of dataframe libraries in Python and other languages\n"
   ]
  },
  {
   "cell_type": "markdown",
   "id": "2706efac",
   "metadata": {},
   "source": [
    "# Why Not Just Use Pandas?\n",
    "\n",
    "* Pandas prioritizes ease of use over explicit, strict interfaces\n",
    "* Pandas supports in-place mutation\n",
    "* Pandas only optionally supports unique indices (`verify_integrity` defaults to `False`)\n",
    "* Pandas API is riddled with inconsistencies\n",
    "* Many Pandas interfaces have non-orthogonal parameters\n",
    "* Pandas does not support all NumPy types (`<U`, `datetime64`)\n",
    "* Pandas abandoned multi-frame containers (i.e., removing the `pd.Panel`)\n",
    "\n",
    "* See also: https://dev.to/flexatone/ten-reasons-to-use-staticframe-instead-of-pandas-4aad"
   ]
  },
  {
   "cell_type": "markdown",
   "id": "68d99f65",
   "metadata": {},
   "source": [
    "# Learning StaticFrame from Pandas\n",
    "\n",
    "* Nearly everything you can do with Pandas you can do with StaticFrame\n",
    "    * No internal graphing / plotting support\n",
    "    * Few internal implementations of calculation available elsewhere (NumPy, SciPy)\n",
    "* Much of what you already know will directly translate\n",
    "    * Many interfaces and methods are identical\n",
    "    * StaticFrame has more numerous, more narrow interfaces with key-word only arguments\n",
    "    * StaticFrame follows hierarchical naming\n",
    "* You can go back and forth\n",
    "    * `Frame.to_pandas()`\n",
    "    * `Frame.from_pandas()`"
   ]
  },
  {
   "cell_type": "markdown",
   "id": "4a38ef41",
   "metadata": {},
   "source": [
    "# StaticFrame Development Status\n",
    "\n",
    "* Releases\n",
    "    * Regular releases via PIP\n",
    "    * Stable API on minor releases (i.e., 0.9 will introduce backward incompatibilities on 0.8)\n",
    "* Quality & Test\n",
    "    * 100% test coverage\n",
    "    * Robust CI/CD with MyPy, Pylint, and multiplatform test\n",
    "* Documentation\n",
    "    * Full code-based API documentation (https://static-frame.readthedocs.io)\n",
    "    * Every object exposes API via `interface` attribute\n",
    "* Core Dependencies\n",
    "    * NumPy\n",
    "    * Team-maintained CPython extension libraries: `automap`, `arraykit`\n",
    "* When will there be a 1.0?\n",
    "    * Pending `arraykit` implementation of delimited file readers to fix known issues\n",
    "    * Maybe by end of 2022\n"
   ]
  },
  {
   "cell_type": "markdown",
   "id": "c8f23746",
   "metadata": {},
   "source": [
    "# Installing & Importing\n",
    "\n",
    "* Available via pip, conda-forge\n",
    "* `import static_frame as sf`\n"
   ]
  },
  {
   "cell_type": "code",
   "execution_count": 2,
   "id": "41ac0a07",
   "metadata": {},
   "outputs": [],
   "source": [
    "import static_frame as sf"
   ]
  },
  {
   "cell_type": "markdown",
   "id": "bc31bef1",
   "metadata": {},
   "source": [
    "# The Frame & the Series\n",
    "* A `Series` is a 1D array (of a single dtype) with labels \n",
    "* A `Frame` is a 2D container (of one or more columnar dtypes) with row and column labels\n",
    "* Support for higher-dimensional data\n",
    "    * Use hierarchical indices on a 2D container\n",
    "    * Use multi-`Frame` containers (i.e., the `Bus`)"
   ]
  },
  {
   "cell_type": "markdown",
   "id": "a94c417b",
   "metadata": {},
   "source": [
    "# Anatomy of a Frame\n",
    "\n",
    "* A `sf.Frame` wraps 1D and 2D NumPy arrays\n",
    "* NumPy dtypes are unified by column\n",
    "* Each axis is labelled with an `sf.Index` (or subclass)\n",
    "    * Row labels via `sf.Frame.index`\n",
    "    * Column labels via `sf.Frame.columns`\n",
    "* Hashable metadata via `name` attributes\n",
    "    * `sf.Frame.name`\n",
    "    * `sf.Frame.index.name`\n",
    "    * `sf.Frame.columns.name`"
   ]
  },
  {
   "cell_type": "markdown",
   "id": "6183549b",
   "metadata": {},
   "source": [
    "# Getting Data In & Out: Constructors & Exporters\n",
    "\n",
    "* Constructors always live on containers\n",
    "    * `pd.read_csv()`, `pd.DataFrame.from_records()`\n",
    "    * `sf.Frame.from_csv()`, `sf.Frame.from_records()`\n",
    "* Explicit constructors with narrow functionality\n",
    "    * `pd.DataFrame()` supports a single element, or a column of elements\n",
    "    * `sf.Frame.from_element()`, `sf.Frame.from_elements()`\n",
    "* Support for common serialization formats\n",
    "    * `pd.read_excel()`, `pd.read_csv()`, `pd.read_parquet()`\n",
    "    * `sf.Frame.from_xlsx()`, `sf.Frame.from_csv()`, `sf.Frame.from_parquet()`\n",
    "* Serialization methods exclusive to StaticFrame\n",
    "    * NPZ and NPY formats faster than parquet with comparable file sizes\n",
    "    * Encodes all `sf.Frame` characteristics\n",
    "    * NPY supports memory mapping out-of-core data\n",
    "    * `sf.Frame.to_npz()`, `sf.Frame.from_npz()`"
   ]
  },
  {
   "cell_type": "code",
   "execution_count": 25,
   "id": "284a174b",
   "metadata": {
    "scrolled": true
   },
   "outputs": [
    {
     "name": "stdout",
     "output_type": "stream",
     "text": [
      "<Frame>\n",
      "<Index> 0      1       2       <int64>\n",
      "<Index>\n",
      "0       True   20      1954-11\n",
      "1       False  30      2020-04\n",
      "<int64> <bool> <int64> <<U7>\n"
     ]
    }
   ],
   "source": [
    "# Creating a Frame from row iterables\n",
    "f = sf.Frame.from_records(((True, 20, '1954-11'), (False, 30, '2020-04')))\n",
    "print(str(f))"
   ]
  },
  {
   "cell_type": "markdown",
   "id": "01182f4f",
   "metadata": {},
   "source": [
    "# String Representations\n",
    "\n",
    "* `sf.Frame.__repr__()` provides more information than `pd.DataFrame.__repr__()`\n",
    "* Shows types of `Frame`, `.index`, and `.columns`\n",
    "* Shows NumPy dtypes of each column, `.index`, and `.columns`\n",
    "* In terminal environments can use colors for types, dtypes"
   ]
  },
  {
   "cell_type": "code",
   "execution_count": 26,
   "id": "cbd7b9c8",
   "metadata": {},
   "outputs": [
    {
     "name": "stdout",
     "output_type": "stream",
     "text": [
      "<FrameGO: records>\n",
      "<IndexGO>          A      B       C       <<U1>\n",
      "<IndexDate: date>\n",
      "2021-04-03         True   20      1954-11\n",
      "2022-01-09         False  30      2020-04\n",
      "<datetime64[D]>    <bool> <int64> <<U7>\n"
     ]
    }
   ],
   "source": [
    "# Creating a Frame with Frame subclass, Index subclasses, name attributes\n",
    "f = sf.FrameGO.from_records(((True, 20, '1954-11'), (False, 30, '2020-04')), \n",
    "        index=sf.IndexDate(('2021-04-03', '2022-01-09'), name='date'),\n",
    "        columns=('A', 'B', 'C'),\n",
    "        name='records', \n",
    "        )\n",
    "print(str(f))"
   ]
  },
  {
   "cell_type": "markdown",
   "id": "3a524ab8",
   "metadata": {},
   "source": [
    "# Representation in Jupyter Notebooks\n",
    "\n",
    "* An HTML table repsentation\n",
    "* Type / dtype information is hidden by default"
   ]
  },
  {
   "cell_type": "code",
   "execution_count": 27,
   "id": "84a8a6a7",
   "metadata": {},
   "outputs": [
    {
     "data": {
      "text/html": [
       "<table><thead><tr><th></th><th>A</th><th>B</th><th>C</th></tr></thead><tbody><tr><th>x</th><td>True</td><td>20</td><td>1954-11</td></tr><tr><th>y</th><td>False</td><td>30</td><td>2020-04</td></tr></tbody></table>"
      ],
      "text/plain": [
       "<Frame>\n",
       "<Index> A      B       C       <<U1>\n",
       "<Index>\n",
       "x       True   20      1954-11\n",
       "y       False  30      2020-04\n",
       "<<U1>   <bool> <int64> <<U7>"
      ]
     },
     "execution_count": 27,
     "metadata": {},
     "output_type": "execute_result"
    }
   ],
   "source": [
    "f1 = sf.Frame.from_records(((True, 20, '1954-11'), (False, 30, '2020-04')), \n",
    "                            index=tuple('xy'), columns=tuple('ABC'))\n",
    "f1"
   ]
  },
  {
   "cell_type": "markdown",
   "id": "e5b1126a",
   "metadata": {},
   "source": [
    "# Finding All Constructors\n",
    "\n",
    "* Every SF container has an `.interface` attribute\n",
    "* `.interface` returns a `sf.Frame` of the complete interface\n",
    "* The same representation is used to populate API overview: https://static-frame.readthedocs.io/en/latest/api_overview/frame.html\n"
   ]
  },
  {
   "cell_type": "code",
   "execution_count": 28,
   "id": "552205fa",
   "metadata": {},
   "outputs": [
    {
     "data": {
      "text/html": [
       "<table><thead><tr><th></th><th>cls_name</th><th>group</th><th>doc</th></tr></thead><tbody><tr><th>__init__(data, *, index, columns, ...)</th><td>Frame</td><td>Constructor</td><td>Initializer. Args: data: Default Frame initialization requires typed data such a...</td></tr><tr><th>from_arrow(value, *, index_depth, index_name_depth_level, ...)</th><td>Frame</td><td>Constructor</td><td>Realize a Frame from an Arrow Table. Args: value: A pyarrow.Table instance. inde...</td></tr><tr><th>from_clipboard(*, delimiter, index_depth, index_column_first, ...)</th><td>Frame</td><td>Constructor</td><td>Create a Frame from the contents of the clipboard (assuming a table is stored as...</td></tr><tr><th>from_concat(frames, *, axis, union, ...)</th><td>Frame</td><td>Constructor</td><td>Concatenate multiple Frames into a new Frame. If index or columns are provided a...</td></tr><tr><th>from_concat_items(items, *, axis, union, ...)</th><td>Frame</td><td>Constructor</td><td>Produce a Frame with a hierarchical index from an iterable of pairs of labels, F...</td></tr></tbody></table>"
      ],
      "text/plain": [
       "<Frame: Frame>\n",
       "<Index>                              cls_name group       doc                  <<U18>\n",
       "<Index: signature>\n",
       "__init__(data, *, index, columns,... Frame    Constructor Initializer. Args...\n",
       "from_arrow(value, *, index_depth,... Frame    Constructor Realize a Frame f...\n",
       "from_clipboard(*, delimiter, inde... Frame    Constructor Create a Frame fr...\n",
       "from_concat(frames, *, axis, unio... Frame    Constructor Concatenate multi...\n",
       "from_concat_items(items, *, axis,... Frame    Constructor Produce a Frame w...\n",
       "<<U94>                               <<U5>    <<U27>      <<U83>"
      ]
     },
     "execution_count": 28,
     "metadata": {},
     "output_type": "execute_result"
    }
   ],
   "source": [
    "# Using the interface attribute to show the signature of all constructors\n",
    "f = sf.Frame.interface\n",
    "f.loc[f['group'] == 'Constructor'].head()"
   ]
  },
  {
   "cell_type": "markdown",
   "id": "7c2a304b",
   "metadata": {},
   "source": [
    "# Selection\n",
    "* StaticFrame exposes all types of NumPy and Pandas-style selection\n",
    "* StaticFrame interfaces are more narrow than Pandas\n",
    "* Selection interfaces\n",
    "    * `[]`: use labels\n",
    "    * `loc[]`: use lables\n",
    "    * `iloc[]`: use integer position (from zero)\n",
    "    * `bloc[]`: use Boolean indicator (StaticFrame only)\n",
    "* NumPy-style selection values \n",
    "    * A single label (a tuple is a single label)\n",
    "    * A list of labels (must be a list to distinguish from a tuple label)\n",
    "    * A slice of labels\n",
    "    * A 1D Boolean arary selecting labels\n"
   ]
  },
  {
   "cell_type": "markdown",
   "id": "6511f119",
   "metadata": {},
   "source": [
    "# Frame Selection Interfaces\n",
    "    \n",
    "* `[]`: root `__getitem__` selection \n",
    "    * `pd.DataFrame[]` selects by column labels, or row and column labels, or by 2D Boolean array\n",
    "    * `sf.Frame[]` is exclusively column selection\n",
    "* `loc[]`: select rows, optionally columns, by label (same as Pandas)\n",
    "* `iloc[]`: select rows, optionally columns, by integer position (same as Pandas)\n",
    "* `bloc[]`: select with a 2D Boolean array (StaticFrame only)"
   ]
  },
  {
   "cell_type": "code",
   "execution_count": 29,
   "id": "4b950b82",
   "metadata": {},
   "outputs": [
    {
     "data": {
      "text/html": [
       "<table><tbody><tr><th>x</th><td>20</td></tr><tr><th>y</th><td>30</td></tr></tbody></table>"
      ],
      "text/plain": [
       "<Series: B>\n",
       "<Index>\n",
       "x           20\n",
       "y           30\n",
       "<<U1>       <int64>"
      ]
     },
     "execution_count": 29,
     "metadata": {},
     "output_type": "execute_result"
    }
   ],
   "source": [
    "f1 = sf.Frame.from_records(((True, 20, '1954-11'), (False, 30, '2020-04')), \n",
    "                            index=tuple('xy'), columns=tuple('ABC'))\n",
    "f1['B'] # Single label"
   ]
  },
  {
   "cell_type": "code",
   "execution_count": 30,
   "id": "894a902d",
   "metadata": {},
   "outputs": [
    {
     "data": {
      "text/html": [
       "<table><thead><tr><th></th><th>C</th></tr></thead><tbody><tr><th>x</th><td>1954-11</td></tr><tr><th>y</th><td>2020-04</td></tr></tbody></table>"
      ],
      "text/plain": [
       "<Frame>\n",
       "<Index> C       <<U1>\n",
       "<Index>\n",
       "x       1954-11\n",
       "y       2020-04\n",
       "<<U1>   <<U7>"
      ]
     },
     "execution_count": 30,
     "metadata": {},
     "output_type": "execute_result"
    }
   ],
   "source": [
    "f1[f1.columns == 'C'] # Boolean indicator"
   ]
  },
  {
   "cell_type": "code",
   "execution_count": 31,
   "id": "cf48d7e0",
   "metadata": {},
   "outputs": [
    {
     "data": {
      "text/html": [
       "<table><thead><tr><th></th><th>A</th><th>C</th></tr></thead><tbody><tr><th>y</th><td>False</td><td>2020-04</td></tr></tbody></table>"
      ],
      "text/plain": [
       "<Frame>\n",
       "<Index> A      C       <<U1>\n",
       "<Index>\n",
       "y       False  2020-04\n",
       "<<U1>   <bool> <<U7>"
      ]
     },
     "execution_count": 31,
     "metadata": {},
     "output_type": "execute_result"
    }
   ],
   "source": [
    "f1.loc['y':, ['A', 'C']] # A slice and list of labels"
   ]
  },
  {
   "cell_type": "code",
   "execution_count": 32,
   "id": "6622d0fa",
   "metadata": {},
   "outputs": [
    {
     "data": {
      "text/plain": [
       "'2020-04'"
      ]
     },
     "execution_count": 32,
     "metadata": {},
     "output_type": "execute_result"
    }
   ],
   "source": [
    "f1.iloc[-1, -1]"
   ]
  },
  {
   "cell_type": "code",
   "execution_count": 34,
   "id": "81f137cd",
   "metadata": {},
   "outputs": [
    {
     "data": {
      "text/html": [
       "<table><tbody><tr><th>(&#x27;y&#x27;, &#x27;B&#x27;)</th><td>30</td></tr><tr><th>(&#x27;y&#x27;, &#x27;C&#x27;)</th><td>2020-04</td></tr></tbody></table>"
      ],
      "text/plain": [
       "<Series>\n",
       "<Index>\n",
       "('y', 'B') 30\n",
       "('y', 'C') 2020-04\n",
       "<object>   <object>"
      ]
     },
     "execution_count": 34,
     "metadata": {},
     "output_type": "execute_result"
    }
   ],
   "source": [
    "f1.bloc[f1.isin([30, '2020-04'])]"
   ]
  },
  {
   "cell_type": "markdown",
   "id": "a1e8c144",
   "metadata": {},
   "source": [
    "# Mixing `loc` and `iloc` Selection\n",
    "\n",
    "* `sf.ILoc` (StaticFrame only) permits embedding `iloc` selection in a `loc` selection\n",
    "* `sf.HLoc` (similar to `pd.IndexSlice`) permits embedding hierarchical selection in `loc` selection"
   ]
  },
  {
   "cell_type": "code",
   "execution_count": 35,
   "id": "4ddcf3fa",
   "metadata": {},
   "outputs": [
    {
     "data": {
      "text/html": [
       "<table><tbody><tr><th>A</th><td>False</td></tr><tr><th>C</th><td>2020-04</td></tr></tbody></table>"
      ],
      "text/plain": [
       "<Series: y>\n",
       "<Index>\n",
       "A           False\n",
       "C           2020-04\n",
       "<<U1>       <object>"
      ]
     },
     "execution_count": 35,
     "metadata": {},
     "output_type": "execute_result"
    }
   ],
   "source": [
    "f1.loc[sf.ILoc[-1], ['A', 'C']] # Get the last row, columns A and C"
   ]
  },
  {
   "cell_type": "markdown",
   "id": "b1256e0d",
   "metadata": {},
   "source": [
    "# Collection Inclusion\n",
    "\n",
    "* `sf.Frame.isin()` (same as Pandas)\n"
   ]
  },
  {
   "cell_type": "markdown",
   "id": "d509d6f6",
   "metadata": {},
   "source": [
    "# Handling Missing Values\n",
    "* Missing values are `None` and `np.nan` (same as Pandas)\n",
    "* Boolean indicators (same as Pandas)\n",
    "    * `sf.Frame.isna()`\n",
    "    * `sf.Frame.notna()`\n",
    "* Replacing missing values with new containers (same as Pandas)\n",
    "    * `sf.Frame.dropna()`\n",
    "    * `sf.Frame.fillna()`"
   ]
  },
  {
   "cell_type": "markdown",
   "id": "fb076988",
   "metadata": {},
   "source": [
    "# Handling Falsy Values\n",
    "* Sometimes we want to treat `0` or `''` or `()` as missing\n",
    "* Staticframe provides a family of functions\n",
    "    * `sf.Frame.isfalsy()`\n",
    "    * `sf.Frame.notfalsy()`\n",
    "    * `sf.Frame.dropfalsy()`\n",
    "    * `sf.Frame.fillfalsy()`"
   ]
  },
  {
   "cell_type": "markdown",
   "id": "63cc8f22",
   "metadata": {},
   "source": [
    "# Fill Missing Values Along an Axis\n",
    "* Fill the first or last non-missing observation up to the `limit` parameter.\n",
    "    * `sf.Frame.fillna_forward()`\n",
    "    * `sf.Frame.fillna_backward()`\n",
    "* Fill the leading or trailing missing values with a provided value\n",
    "    * `sf.Frame.fillna_leading()`\n",
    "    * `sf.Frame.fillna_trailing()`"
   ]
  },
  {
   "cell_type": "markdown",
   "id": "7a438d1f",
   "metadata": {},
   "source": [
    "# Fill Falsy Values Along an Axis\n",
    "* Fill the first or last non-missing observation up to the `limit` parameter.\n",
    "    * `sf.Frame.fillfalsy_forward()`\n",
    "    * `sf.Frame.fillfalsy_backward()`\n",
    "* Fill the leading or trailing missing values with a provided value\n",
    "    * `sf.Frame.fillfalsy_leading()`\n",
    "    * `sf.Frame.fillfalsy_trailing()`"
   ]
  },
  {
   "cell_type": "markdown",
   "id": "f650dfc7",
   "metadata": {},
   "source": [
    "# Immutability and \"No-Copy\" Operations\n",
    "* Immutability reduces opportunities for errors \n",
    "* NumPy provides no-copy \"views\" of array data when possible\n",
    "* With immutabile arrays, we can pass around views without defensive copies\n",
    "* Examples:\n",
    "    * Renaming a `sf.Frame` is no-copy\n",
    "    * Relabelling `index` or `columns` does not copy underlying arrays\n",
    "    * Horizontal concatenation of same-index components is no-copy"
   ]
  },
  {
   "cell_type": "markdown",
   "id": "5550bb00",
   "metadata": {},
   "source": [
    "# Assignment with Immutable Frames\n",
    "* Pandas permits in-place assignment and mutationi to all types of selections\n",
    "    * `pd.DataFrame.loc['x', 'B':] = 1.0`\n",
    "* StaticFrame offers an `assign` interface that defines a selection and is called with a value to assign\n",
    "* `sf.Frame.assign.loc['x', 'B':](1.0)`\n",
    "    * Returns a new container\n",
    "    * Unchanged columns will be views and re-used (no-copy)"
   ]
  },
  {
   "cell_type": "code",
   "execution_count": 36,
   "id": "4b1852d3",
   "metadata": {},
   "outputs": [
    {
     "data": {
      "text/html": [
       "<table><thead><tr><th></th><th>A</th><th>B</th><th>C</th></tr></thead><tbody><tr><th>x</th><td>True</td><td>-1</td><td>-1</td></tr><tr><th>y</th><td>False</td><td>30</td><td>2020-04</td></tr></tbody></table>"
      ],
      "text/plain": [
       "<Frame>\n",
       "<Index> A      B       C        <<U1>\n",
       "<Index>\n",
       "x       True   -1      -1\n",
       "y       False  30      2020-04\n",
       "<<U1>   <bool> <int64> <object>"
      ]
     },
     "execution_count": 36,
     "metadata": {},
     "output_type": "execute_result"
    }
   ],
   "source": [
    "# Assigning a value to a slice in a single row\n",
    "f1.assign.loc['x', 'B':](-1)"
   ]
  },
  {
   "cell_type": "code",
   "execution_count": 37,
   "id": "e08fae7e",
   "metadata": {},
   "outputs": [
    {
     "data": {
      "text/html": [
       "<table><thead><tr><th></th><th>A</th><th>B</th><th>C</th></tr></thead><tbody><tr><th>x</th><td>True</td><td>x</td><td>1954-11</td></tr><tr><th>y</th><td>False</td><td>y</td><td>2020-04</td></tr></tbody></table>"
      ],
      "text/plain": [
       "<Frame>\n",
       "<Index> A      B     C       <<U1>\n",
       "<Index>\n",
       "x       True   x     1954-11\n",
       "y       False  y     2020-04\n",
       "<<U1>   <bool> <<U1> <<U7>"
      ]
     },
     "execution_count": 37,
     "metadata": {},
     "output_type": "execute_result"
    }
   ],
   "source": [
    "# Assigning a Series to a column, matching on label\n",
    "f1.assign['B'](sf.Series(('y', 'x'), index=('y', 'x')))"
   ]
  },
  {
   "cell_type": "markdown",
   "id": "42a39047",
   "metadata": {},
   "source": [
    "# Grow-Only Mutation\n",
    "* Pandas permits growing a DataFrame by columns (efficient) and rows (very inefficient)\n",
    "* The `sf.FrameGO` permits grow-only column addition or whole-frame extension\n",
    "* While the container is mutated, underlying array data remains immutable \n",
    "* Growing rows is never permitted (use `sf.Frame.from_concat()` with collected rows)"
   ]
  },
  {
   "cell_type": "code",
   "execution_count": 55,
   "id": "a0378dce",
   "metadata": {},
   "outputs": [
    {
     "data": {
      "text/html": [
       "<table><thead><tr><th></th><th>A</th><th>B</th><th>C</th><th>D</th></tr></thead><tbody><tr><th>x</th><td>True</td><td>20</td><td>1954-11</td><td>34</td></tr><tr><th>y</th><td>False</td><td>30</td><td>2020-04</td><td>87</td></tr></tbody></table>"
      ],
      "text/plain": [
       "<FrameGO>\n",
       "<IndexGO> A      B       C       D       <<U1>\n",
       "<Index>\n",
       "x         True   20      1954-11 34\n",
       "y         False  30      2020-04 87\n",
       "<<U1>     <bool> <int64> <<U7>   <int64>"
      ]
     },
     "execution_count": 55,
     "metadata": {},
     "output_type": "execute_result"
    }
   ],
   "source": [
    "# Adding a column to a FrameGO\n",
    "f2 = f1.to_frame_go()\n",
    "f2['D'] = (34, 87)\n",
    "f2"
   ]
  },
  {
   "cell_type": "code",
   "execution_count": 54,
   "id": "4bef775a",
   "metadata": {},
   "outputs": [
    {
     "data": {
      "text/html": [
       "<table><thead><tr><th></th><th>A</th><th>B</th><th>C</th><th>D</th><th>a</th><th>b</th></tr></thead><tbody><tr><th>x</th><td>True</td><td>20</td><td>1954-11</td><td>34</td><td>100</td><td>2000</td></tr><tr><th>y</th><td>False</td><td>30</td><td>2020-04</td><td>87</td><td>0</td><td>3000</td></tr></tbody></table>"
      ],
      "text/plain": [
       "<FrameGO>\n",
       "<IndexGO> A      B       C       D       a       b       <<U1>\n",
       "<Index>\n",
       "x         True   20      1954-11 34      100     2000\n",
       "y         False  30      2020-04 87      0       3000\n",
       "<<U1>     <bool> <int64> <<U7>   <int64> <int64> <int64>"
      ]
     },
     "execution_count": 54,
     "metadata": {},
     "output_type": "execute_result"
    }
   ],
   "source": [
    "# Extending a FrameGO with another Frame\n",
    "f3 = (f1[['A', 'B']] * 100).relabel(columns=lambda l: l.lower())\n",
    "f2.extend(f3)\n",
    "f2"
   ]
  },
  {
   "cell_type": "markdown",
   "id": "e220686a",
   "metadata": {},
   "source": [
    "# A Family of `sf.Frame`\n",
    "\n",
    "* Pandas has only one `DataFrame` class\n",
    "* StaticFrame has a family\n",
    "    * `sf.Frame`\n",
    "    * `sf.FrameGO`: a grow-only `sf.Frame`\n",
    "    * `sf.FrameHE`: a hashable `sf.Frame`\n",
    "* Methods exist to easily convert between all three (always a no-copy operation)\n",
    "    * `sf.Frame.to_frame_go()`\n",
    "    * `sf.FrameHE.to_frame()`\n"
   ]
  },
  {
   "cell_type": "code",
   "execution_count": 11,
   "id": "39672a20",
   "metadata": {},
   "outputs": [],
   "source": [
    "# Example"
   ]
  },
  {
   "cell_type": "markdown",
   "id": "8832f9f3",
   "metadata": {},
   "source": [
    "# Full Support for All NumPy Dtypes\n",
    "* NumPy is the foundation of StaticFrame and Pandas\n",
    "* Pandas only uses a subset of NumPy dtypes; StaticFrame supports all\n",
    "* NumPy's fixed-size Unicode arrays\n",
    "    * Optimal when elements are diverse and of similar size\n",
    "    * Pandas always converts these to object arrays of Python strings\n",
    "* NumPy's `datetime64` type\n",
    "    * Fast datetime representation with units for resolution (from year to attosecond)\n",
    "    * Pandas coerces any `datetime64` to nanosecond units\n",
    "    * StaticFrame permits using year, date, or any `datetime64` unit\n",
    "    * See also: https://www.youtube.com/watch?v=jdnr7sgxCQI"
   ]
  },
  {
   "cell_type": "code",
   "execution_count": null,
   "id": "27f9ae48",
   "metadata": {},
   "outputs": [],
   "source": []
  },
  {
   "cell_type": "markdown",
   "id": "b54d71f2",
   "metadata": {},
   "source": [
    "# A Family of `sf.Index`\n",
    "\n",
    "* To use `datetime64` as an index, use a `datetime64` `sf.Index` subclass\n",
    "    * `sf.IndexDate`, `sf.indexYearMonth`, etc.\n",
    "    * Provides robust translation from Python date / datetime objects\n",
    "    * Provides partial selection with less granular date units\n",
    "    * Provides alternative constructor for date ranges\n",
    "* Hierarchical indices with `sf.IndexHierarchy`\n",
    "* Many interfaces expose `index_constructor` arguments to specify what kind of index to make.\n",
    "    "
   ]
  },
  {
   "cell_type": "code",
   "execution_count": null,
   "id": "8df6fc65",
   "metadata": {},
   "outputs": [],
   "source": []
  },
  {
   "cell_type": "markdown",
   "id": "ea91ff11",
   "metadata": {},
   "source": [
    "# Renaming, Reindexing, Relabeling\n",
    "\n",
    "* `rename()` sets the `name` attribute on all containers\n",
    "    * `pd.DataFrame.rename()` relabels the axis, `pd.Series.rename()` sets the name of the container\n",
    "    * `sf.Frame.rename()`, `sf.Series.rename()` all do the same thing\n",
    "    * renaming is a no-copy operations\n",
    "* `reindex()` applies new index, aligning to the previous index\n",
    "    * Similar to `pd.DataFrame.reindex()`\n",
    "    * Matching labels will retain thier data\n",
    "    * New labels will introduce missing values (provided with a `fill_value`)\n",
    "* `relabel()` applies a new index, regardless of alignment to previous index\n",
    "    * Can map old to new with `dict`\n",
    "    * Can process old to new with a function\n",
    "    * Can replace with a new `sf.Index` or iterable"
   ]
  },
  {
   "cell_type": "code",
   "execution_count": null,
   "id": "41430c91",
   "metadata": {},
   "outputs": [],
   "source": []
  },
  {
   "cell_type": "markdown",
   "id": "87e7fc2e",
   "metadata": {},
   "source": [
    "# Iteration\n",
    "* Iterating elements: `Frame.iter_elements()`\n",
    "* Iterating rows or columns:\n",
    "    * Specify axis=1 for rows, axis=0 for columns\n",
    "    * Choose what you want to get back\n",
    "        * `Frame.iter_series()`\n",
    "        * `Frame.iter_tuple()`\n",
    "        * `Frame.iter_array()`"
   ]
  },
  {
   "cell_type": "code",
   "execution_count": null,
   "id": "fcb6a7ed",
   "metadata": {},
   "outputs": [],
   "source": []
  },
  {
   "cell_type": "markdown",
   "id": "a1f3d1fd",
   "metadata": {},
   "source": [
    "# Function & Mapping Application\n",
    "* Function application implies iteration\n",
    "* Choose what you want to iterate on and call `apply()`\n",
    "* Can multi-process / thread with `apply_pool()`\n",
    "* Can iterate through results with `apply_iter()`\n",
    "* Can map instead of apply\n",
    "    * `map_all()`: if value not mappable, raise\n",
    "    * `map_any()`: map what you can, leave the rest unchanged\n",
    "    * `map_fill()`: map what you can, provide `fill_value` for others"
   ]
  },
  {
   "cell_type": "code",
   "execution_count": null,
   "id": "276cca4e",
   "metadata": {},
   "outputs": [],
   "source": []
  },
  {
   "cell_type": "markdown",
   "id": "022fd7c0",
   "metadata": {},
   "source": [
    "# Grouping & Windowing\n",
    "\n",
    "* `sf.Frame.iter_group()`\n",
    "    * Group by unique values in one or more columns (axis 0) or rows (axis 1)\n",
    "    * Can use `apply()` if reducing to an `sf.Series`\n",
    "    * Can use an `sf.Batch` for performing operations on sub-Frames like `pd.DataFrameGroupBy`\n",
    "* `sf.Frame.iter_window()`\n",
    "    * Can use an `sf.Batch` for performing operations on sub Frames like `pd.Rolling`"
   ]
  },
  {
   "cell_type": "code",
   "execution_count": null,
   "id": "8ccd5e6d",
   "metadata": {},
   "outputs": [],
   "source": []
  },
  {
   "cell_type": "markdown",
   "id": "800b95e0",
   "metadata": {},
   "source": [
    "# Interfaces for Working with Strings\n",
    "* `sf.Frame.via_str`, similar to `pd.Series.str`"
   ]
  },
  {
   "cell_type": "code",
   "execution_count": null,
   "id": "83b1654f",
   "metadata": {},
   "outputs": [],
   "source": []
  },
  {
   "cell_type": "markdown",
   "id": "0f0de251",
   "metadata": {},
   "source": [
    "# Interfaces for Working with Dates\n",
    "* `sf.Frame.via_dt`, similar to `pd.Series.dt`"
   ]
  },
  {
   "cell_type": "markdown",
   "id": "b7bf4edb",
   "metadata": {},
   "source": [
    "# Configuring `fill_value` in Operator Application\n",
    "\n",
    "* Operations on labelled containers force reindexing\n",
    "* `sf.Frame.via_fill_value()` permits providing a fill value"
   ]
  },
  {
   "cell_type": "code",
   "execution_count": null,
   "id": "417bfbc8",
   "metadata": {},
   "outputs": [],
   "source": []
  },
  {
   "cell_type": "markdown",
   "id": "ef9fb2a0",
   "metadata": {},
   "source": [
    "# Virtual Transposition in Operator Application\n",
    "* Applying a 1D container on a 2D container applies to rows\n",
    "* `sf.Frame.via_T` presents 2d containers \"virtually\" transposed"
   ]
  },
  {
   "cell_type": "code",
   "execution_count": null,
   "id": "6822eb6e",
   "metadata": {},
   "outputs": [],
   "source": []
  },
  {
   "cell_type": "markdown",
   "id": "0a233a9b",
   "metadata": {},
   "source": [
    "# Working with Collections of Frames\n",
    "* Pandas deprecated the `pd.Panel` for 3D data\n",
    "* Hierarchical indices incur overhead and force loading all data at once\n",
    "* The `sf.Bus`\n",
    "    * Offers a Series-like interface to collections of Frames\n",
    "    * Can read to and write from multi-tabel storage formats\n",
    "        * XLSX, HDF5, SQLite\n",
    "        * Zipped archives of CSV, TSV, Parquet, and NPZ\n",
    "    * Reads lazily\n",
    "    * Optionally unloads eagerly"
   ]
  },
  {
   "cell_type": "code",
   "execution_count": null,
   "id": "6259fc17",
   "metadata": {},
   "outputs": [],
   "source": []
  },
  {
   "cell_type": "markdown",
   "id": "c739e6a9",
   "metadata": {},
   "source": [
    "\n",
    "* A more explicit interface\n",
    "    * Keyword-only arguments everywhere\n",
    "    * Relevant, orthogonal parameters\n",
    "    * Avoiding string parameters\n",
    "        * pd.rank v. sf.rank_ordinal()    \n",
    "    * Consitent, hierarchical naming\n",
    "        * relabel v. rename\n",
    "        * sf.Series.relabel, sf.Series.relabel_label_add\n",
    "        * iter_element().apply(), map_all(), map_fill(), map_any()\n",
    "\n",
    "    \n",
    "* Higher-Order Containers\n",
    "    * Bus: A Series of Frame\n",
    "        * Lazy loading, eager unloading\n",
    "        * Support for reading to, writing to archives\n",
    "    * Batch: composing operations on iterators of Frames\n",
    "        * A generalization of Pandas\n",
    "    * Yarn, Quilt\n",
    "    \n",
    "* Performance\n"
   ]
  }
 ],
 "metadata": {
  "kernelspec": {
   "display_name": "Python 3 (ipykernel)",
   "language": "python",
   "name": "python3"
  },
  "language_info": {
   "codemirror_mode": {
    "name": "ipython",
    "version": 3
   },
   "file_extension": ".py",
   "mimetype": "text/x-python",
   "name": "python",
   "nbconvert_exporter": "python",
   "pygments_lexer": "ipython3",
   "version": "3.9.5"
  }
 },
 "nbformat": 4,
 "nbformat_minor": 5
}
