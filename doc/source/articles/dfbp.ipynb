{
 "cells": [
  {
   "cell_type": "markdown",
   "id": "0b449d32",
   "metadata": {},
   "source": [
    "## What is StaticFrame\n",
    "\n",
    "## DataFrames Beyond Pandas: An Introduction to StaticFrame\n",
    "\n",
    "## StaticFrame for Pandas Users\n",
    "\n"
   ]
  },
  {
   "cell_type": "markdown",
   "id": "00866bd7",
   "metadata": {},
   "source": [
    "\n",
    "* History\n",
    "    * Motivation\n",
    "        * Spooky actions at a distance\n",
    "        * Redundancies, inconsistencies\n",
    "        * NumPy datetime64, strings\n",
    "    * Development\n",
    "    \n",
    "* Current State\n",
    "    * Code, Docs, Packages\n",
    "    * Quality & Test\n",
    "    * Contributing\n",
    "\n",
    "* The Frame and the Series\n",
    "    * DataFrame as labelled arrays\n",
    "    * Focus on 2D and 1d\n",
    "    containers\n",
    "    * nD via hierarchical indices, higher-order containers\n",
    "\n",
    "* Introspective containers\n",
    "    * interface attrubutes\n",
    "    * Using the docs\n",
    "    \n",
    "* A more explicit interface\n",
    "    * keyword arguments everywhere\n",
    "    * Orthogonal parameters\n",
    "    * examples\n",
    "        * rank v. rank_ordinal\n",
    "        * join v. join_left\n",
    "        * rename, relabel\n",
    "        * iter_element().apply(), map_all(), map_fill(), map_any()\n",
    "\n",
    "* Immutability and \"no-copy\" operations\n",
    "    * Immutability reduces opportunities for errors\n",
    "    * Immutability means we can pass around views without defensive copies\n",
    "\n",
    "* Getting data in and out\n",
    "    * Consistent from / to naming\n",
    "    * From in-memory objects\n",
    "    * From files\n",
    "        * NPZ: fastest and most compatible\n",
    "\n",
    "* More than one type of Frame\n",
    "    * Frame, FrameGO, FrameHE\n",
    "\n",
    "* More than one type of Index\n",
    "    * Index, IndexDate, IndexYear, etc.\n",
    "    * IndexHierarchy\n",
    "\n",
    "* Renaming, reindexing, and relabeling\n",
    "    * name attributes\n",
    "    * reindexing\n",
    "    * relabeling\n",
    "\n",
    "* Iteration and function application\n",
    "\n",
    "* Grouping and Windowing\n",
    "\n",
    "* Higher-Order Containers\n",
    "\n",
    "* Performance\n",
    "\n",
    "\n"
   ]
  }
 ],
 "metadata": {
  "kernelspec": {
   "display_name": "Python 3 (ipykernel)",
   "language": "python",
   "name": "python3"
  },
  "language_info": {
   "codemirror_mode": {
    "name": "ipython",
    "version": 3
   },
   "file_extension": ".py",
   "mimetype": "text/x-python",
   "name": "python",
   "nbconvert_exporter": "python",
   "pygments_lexer": "ipython3",
   "version": "3.9.5"
  }
 },
 "nbformat": 4,
 "nbformat_minor": 5
}
