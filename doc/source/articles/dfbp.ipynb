{
 "cells": [
  {
   "cell_type": "markdown",
   "id": "0b449d32",
   "metadata": {},
   "source": [
    "\n",
    "* StaticFrame from the Ground Up\n",
    "* StaticFrame for Pandas Users\n",
    "* DataFrames Beyond Pandas: An Introduction to StaticFrame\n",
    "\n",
    "\n",
    "\n",
    "\n"
   ]
  },
  {
   "cell_type": "markdown",
   "id": "f6afd710",
   "metadata": {},
   "source": [
    "Back in 2017 I asked the question: \"is Pandas suitable for building production libraries?\". While Pandas is well-known for its utility in data science and ad-hoc research, I consistently found its ease of use and flexability a detriment in building long-lived library code for production systems. This led me to create StaticFrame, an alternative dataframe library built on an immutable data model. After years of development and use, I am confident that StaticFrame reduces opportunities for error and leads to more maintainable code. While not yet always more efficient than Pandas, in some areas StaticFrame's immutable data model offers very significant improvements in run time and memory usage. Beyond common functionality, StaticFrame offers a more explicit and consistent API, novel multi-Frame containers, and support for high-performance serialization throught the NPZ format."
   ]
  },
  {
   "cell_type": "markdown",
   "id": "00866bd7",
   "metadata": {},
   "source": [
    "\n",
    "* History\n",
    "    * Motivation\n",
    "        * Spooky actions at a distance\n",
    "            * Giving a 2D array to Frame\n",
    "        * Redundancies\n",
    "            * f.attr, f['attr']\n",
    "            * pivot, pivot_table\n",
    "        * Inconsistencies\n",
    "            * No DataFrame.name, but Index.name, Series.name\n",
    "        * NumPy types: datetime64, strings\n",
    "    * Development\n",
    "        * May of 2017 began implementation\n",
    "        * May of 2018 first public release\n",
    "    \n",
    "* Current State\n",
    "    * Code, Docs, Packages\n",
    "    * Quality & Test\n",
    "        * 100% test coverage\n",
    "        * CI on all platforms\n",
    "        * Full mypy, pylint quality checks\n",
    "    * Contributing\n",
    "    * 1.0\n",
    "        * Nearly feature complete\n",
    "        * C-extensions through ArrayKit\n",
    "\n",
    "* The Frame and the Series\n",
    "    * DataFrame as labelled arrays\n",
    "        * Labels stay with data\n",
    "        * Operations align on labels\n",
    "    * Focus on 2D and 1D containers\n",
    "    * nD via hierarchical indices, higher-order containers\n",
    "\n",
    "* Introspective containers\n",
    "    * The `interface` attributes\n",
    "    * Using the docs\n",
    "    \n",
    "* A more explicit interface\n",
    "    * Keyword-only arguments everywhere\n",
    "    * Relevant, orthogonal parameters\n",
    "    * Avoiding string parameters\n",
    "        * pd.rank v. sf.rank_ordinal()    \n",
    "    * Consitent, hierarchical naming\n",
    "        * relabel v. rename\n",
    "        * sf.Series.relabel, sf.Series.relabel_label_add\n",
    "        * iter_element().apply(), map_all(), map_fill(), map_any()\n",
    "\n",
    "* Immutability and \"no-copy\" operations\n",
    "    * Immutability reduces opportunities for errors\n",
    "    * Immutability means we can pass around views without defensive copies\n",
    "        * Renaming a `sf.Frame` is no-copy\n",
    "        * Horizontal concatenation of same-index copmonents is no-copy\n",
    "\n",
    "* Getting data in and out\n",
    "    * Consistent from / to naming on classes\n",
    "        * pd.read_parquet(), pd.Frame.to_parquet()\n",
    "        * sf.Frame.from_parquet(), sf.Frame.to_parquet()\n",
    "    * Explicit constructors to ensure parameter relevance and orthogonality\n",
    "        * sf.Series.from_element\n",
    "    * Broad support for all common formats\n",
    "        * TSV, XLSX, Parquet\n",
    "    * A new format: NPZ\n",
    "        * Often faster than parquet\n",
    "        * Full encodes all characteristics\n",
    "\n",
    "* More than one type of Frame\n",
    "    * Frame, FrameGO, FrameHE\n",
    "    * FrameGO: Grow-only: safer mutability\n",
    "    * FrameHE: A hashable Frame\n",
    "\n",
    "* More than one type of Index\n",
    "    * Index, IndexDate, IndexYear, etc.\n",
    "    * IndexHierarchy\n",
    "    \n",
    "* Selection\n",
    "    * More explicit than pandas\n",
    "        * sf.Frame[] is only a columns selector\n",
    "        * sf.Frame.iloc, sf.Frame.loc, sf.Frame.bloc\n",
    "        * sf.ILoc, sf.HLoc: embed iloc, hloc selection in a loc\n",
    "\n",
    "* Renaming, reindexing, and relabeling\n",
    "    * rename()\n",
    "    * reindex\n",
    "    * relabel\n",
    "\n",
    "* Iteration and function application\n",
    "    * sf.Frame.iter_element().apply()\n",
    "    * sf.Frame.iter_series(), iter_array(), iter_tuple()\n",
    "\n",
    "* Grouping and Windowing\n",
    "    * sf.Frame.iter_group()\n",
    "    * sf.Frame.iter_window()\n",
    "\n",
    "* `via` interfaces\n",
    "    * Consistent, hierarchical naming\n",
    "    * via_str, via_dt\n",
    "    * via_re\n",
    "    * via_T, via_fill_value\n",
    "    \n",
    "* Higher-Order Containers\n",
    "    * Bus: A Series of Frame\n",
    "        * Lazy loading, eager unloading\n",
    "        * Support for reading to, writing to archives\n",
    "    * Batch: composing operations on iterators of Frames\n",
    "        * A generalization of Pandas\n",
    "    * Yarn, Quilt\n",
    "    \n",
    "* Performance\n"
   ]
  },
  {
   "cell_type": "markdown",
   "id": "d30eadc7",
   "metadata": {},
   "source": [
    "# A Brief History of DataFrames\n",
    "\n",
    "* 1991: earliest implementation of a data frame in the S language\n",
    "* 2009: Pandas 0.1 released\n",
    "* 2018: StaticFrame 0.1 released\n",
    "\n"
   ]
  },
  {
   "cell_type": "markdown",
   "id": "5ee1ab20",
   "metadata": {},
   "source": [
    "# Why Use a Different DataFrame Library?\n",
    "\n",
    "* Pandas prioritizes ease of use over explicit, strict interfaces\n",
    "* Pandas supports in-place mutation\n",
    "* Pandas only optionally supports unique indices (`verify_integrity` defaults to `False`)\n",
    "* Pandas API is riddled with inconsistencies\n",
    "* Pandas does not support all NumPy types (`<U`, `datetime64`)\n",
    "* Pandas abandoned multi-frame containers (i.e., removing the `pd.Panel`)"
   ]
  },
  {
   "cell_type": "markdown",
   "id": "0fd2c600",
   "metadata": {},
   "source": [
    "# StaticFrame Development Status\n",
    "* Releases\n",
    "    * Regular releases via PIP\n",
    "    * Stable API on minor releases (i.e., 0.9 will introduce backward incompatibilities on 0.8)\n",
    "* Quality & Test\n",
    "    * 100% test coverage\n",
    "    * Robust CI/CD with MyPy, Pylint, and test\n",
    "* Documentation\n",
    "    * Full code-based API documentation (https://static-frame.readthedocs.io)\n",
    "    * Every object exposes API via `interface` attribute\n",
    "* Core Dependencies\n",
    "    * NumPy\n",
    "    * team-maintained CPython extension libraries: `automap`, `arraykit`\n",
    "* 1.0\n",
    "    * Pending `arraykit` implementation of delimited file readers to fix known issues\n",
    "    * Maybe by end of 2022\n"
   ]
  },
  {
   "cell_type": "markdown",
   "id": "805028b0",
   "metadata": {},
   "source": [
    "# Installing & Importing\n",
    "\n",
    "* Available via pip, conda-forge\n",
    "* `import static_frame as sf`\n"
   ]
  },
  {
   "cell_type": "code",
   "execution_count": 2,
   "id": "4f1eca75",
   "metadata": {},
   "outputs": [],
   "source": [
    "import static_frame as sf"
   ]
  },
  {
   "cell_type": "markdown",
   "id": "fc2e3588",
   "metadata": {},
   "source": [
    "# The Frame & the Series\n",
    "* A `Series` is a 1D array (of a single dtype) with labels \n",
    "* A `Frame` is a 2D container (of one or more columnar dtypes) with row and column labels\n",
    "* nD containers\n",
    "    * Use hierarchical indices on a 2D container\n",
    "    * Use multi-`Frame` containers (i.e., the `Bus`)"
   ]
  },
  {
   "cell_type": "markdown",
   "id": "b7a592d2",
   "metadata": {},
   "source": [
    "# Anatomy of a Frame\n",
    "\n",
    "* A `sf.Frame` wraps 1D and 2D NumPy arrays\n",
    "* NumPy dtypes are unified by column\n",
    "* Each axis is labelled with an `sf.Index` (or subclass)\n",
    "    * Row labels via `sf.Frame.index`\n",
    "    * Column labels via `sf.Frame.columns`\n",
    "* Hashable metadata via `name` attributes\n",
    "    * `sf.Frame.name`\n",
    "    * `sf.Frame.index.name`\n",
    "    * `sf.Frame.columns.name`"
   ]
  },
  {
   "cell_type": "markdown",
   "id": "c38cda99",
   "metadata": {},
   "source": [
    "# Getting Data In & Out with Constructors & Exporters\n",
    "\n",
    "* Constructors always live on containers\n",
    "    * `pd.read_csv()`, `pd.DataFrame.from_records()`\n",
    "    * `sf.Frame.from_csv()`, `sf.Frame.from_records()`\n",
    "* Explicit constructors with narrow functionality\n",
    "    * `pd.DataFrame()` supports a single element, or a column of elements\n",
    "    * `sf.Frame.from_element()`, `sf.Frame.from_elements()`\n",
    "* Support for common serialization formats\n",
    "    * `pd.read_excel()`, `pd.read_csv()`, `pd.read_parquet()`\n",
    "    * `sf.Frame.from_xlsx()`, `sf.Frame.from_csv()`, `sf.Frame.from_parquet()`\n",
    "* StaticFrame only serialization methods\n",
    "    * NPZ and NPY formats faster than parquet with comparable file sizes\n",
    "    * All `sf.Frame` characteristics encoded\n",
    "    * NPY supports memory mapping out-of-core data\n",
    "    * `sf.Frame.to_npz()`, `sf.Frame.from_npz()`"
   ]
  },
  {
   "cell_type": "code",
   "execution_count": 3,
   "id": "06f19599",
   "metadata": {
    "scrolled": true
   },
   "outputs": [
    {
     "name": "stdout",
     "output_type": "stream",
     "text": [
      "<Frame>\n",
      "<Index> 0      1       2       <int64>\n",
      "<Index>\n",
      "0       True   20      1954-11\n",
      "1       False  30      2020-04\n",
      "<int64> <bool> <int64> <<U7>\n"
     ]
    }
   ],
   "source": [
    "# Creating a Frame from row iterables\n",
    "f = sf.Frame.from_records(((True, 20, '1954-11'), (False, 30, '2020-04')))\n",
    "print(str(f))"
   ]
  },
  {
   "cell_type": "markdown",
   "id": "b18b654d",
   "metadata": {},
   "source": [
    "# The StaticFrame `__repr__()`\n",
    "\n",
    "* Shows types of `Frame`, `.index`, and `.columns`\n",
    "* Shows NumPy dtypes of each column, `.index`, and `.columns`"
   ]
  },
  {
   "cell_type": "code",
   "execution_count": 4,
   "id": "f06e596a",
   "metadata": {},
   "outputs": [
    {
     "name": "stdout",
     "output_type": "stream",
     "text": [
      "<FrameGO: records>\n",
      "<IndexGO>          A      B       C       <<U1>\n",
      "<IndexDate: date>\n",
      "2021-04-03         True   20      1954-11\n",
      "2022-01-09         False  30      2020-04\n",
      "<datetime64[D]>    <bool> <int64> <<U7>\n"
     ]
    }
   ],
   "source": [
    "# Creating a Frame with Frame, Index subclasses, name attributes\n",
    "f = sf.FrameGO.from_records(((True, 20, '1954-11'), (False, 30, '2020-04')), \n",
    "        index=sf.IndexDate(('2021-04-03', '2022-01-09'), name='date'),\n",
    "        columns=('A', 'B', 'C'),\n",
    "        name='records', \n",
    "        )\n",
    "print(str(f))"
   ]
  },
  {
   "cell_type": "markdown",
   "id": "1e22a1c7",
   "metadata": {},
   "source": [
    "# Representation in Jupyter Notebooks\n",
    "\n",
    "* An HTML table repsentation\n",
    "* Type / dtype information is hidden"
   ]
  },
  {
   "cell_type": "code",
   "execution_count": 6,
   "id": "6eee5901",
   "metadata": {},
   "outputs": [
    {
     "data": {
      "text/html": [
       "<table><thead><tr><th></th><th>A</th><th>B</th><th>C</th></tr></thead><tbody><tr><th>x</th><td>True</td><td>20</td><td>1954-11</td></tr><tr><th>y</th><td>False</td><td>30</td><td>2020-04</td></tr></tbody></table>"
      ],
      "text/plain": [
       "<Frame>\n",
       "<Index> A      B       C       <<U1>\n",
       "<Index>\n",
       "x       True   20      1954-11\n",
       "y       False  30      2020-04\n",
       "<<U1>   <bool> <int64> <<U7>"
      ]
     },
     "execution_count": 6,
     "metadata": {},
     "output_type": "execute_result"
    }
   ],
   "source": [
    "f = sf.Frame.from_records(((True, 20, '1954-11'), (False, 30, '2020-04')), index=tuple('xy'), columns=tuple('ABC'))\n",
    "f"
   ]
  },
  {
   "cell_type": "markdown",
   "id": "83b4599c",
   "metadata": {},
   "source": [
    "# Finding All Constructors\n",
    "\n",
    "* Every SF container has a `.interface` attribute\n",
    "* Returns a `sf.Frame` of complete ineterface\n"
   ]
  },
  {
   "cell_type": "code",
   "execution_count": 10,
   "id": "f6618d7e",
   "metadata": {},
   "outputs": [
    {
     "data": {
      "text/html": [
       "<table><thead><tr><th></th><th>cls_name</th><th>group</th><th>doc</th></tr></thead><tbody><tr><th>__init__(data, *, index, columns, ...)</th><td>Frame</td><td>Constructor</td><td>Initializer. Args: data: Default Frame initialization requires typed data such a...</td></tr><tr><th>from_arrow(value, *, index_depth, index_name_depth_level, ...)</th><td>Frame</td><td>Constructor</td><td>Realize a Frame from an Arrow Table. Args: value: A pyarrow.Table instance. inde...</td></tr><tr><th>from_clipboard(*, delimiter, index_depth, index_column_first, ...)</th><td>Frame</td><td>Constructor</td><td>Create a Frame from the contents of the clipboard (assuming a table is stored as...</td></tr><tr><th>from_concat(frames, *, axis, union, ...)</th><td>Frame</td><td>Constructor</td><td>Concatenate multiple Frames into a new Frame. If index or columns are provided a...</td></tr><tr><th>from_concat_items(items, *, axis, union, ...)</th><td>Frame</td><td>Constructor</td><td>Produce a Frame with a hierarchical index from an iterable of pairs of labels, F...</td></tr></tbody></table>"
      ],
      "text/plain": [
       "<Frame: Frame>\n",
       "<Index>                              cls_name group       doc                  <<U18>\n",
       "<Index: signature>\n",
       "__init__(data, *, index, columns,... Frame    Constructor Initializer. Args...\n",
       "from_arrow(value, *, index_depth,... Frame    Constructor Realize a Frame f...\n",
       "from_clipboard(*, delimiter, inde... Frame    Constructor Create a Frame fr...\n",
       "from_concat(frames, *, axis, unio... Frame    Constructor Concatenate multi...\n",
       "from_concat_items(items, *, axis,... Frame    Constructor Produce a Frame w...\n",
       "<<U94>                               <<U5>    <<U27>      <<U83>"
      ]
     },
     "execution_count": 10,
     "metadata": {},
     "output_type": "execute_result"
    }
   ],
   "source": [
    "# Using the interface attribute to show the signature of all constructors\n",
    "f = sf.Frame.interface\n",
    "f.loc[f['group'] == 'Constructor'].head()"
   ]
  },
  {
   "cell_type": "markdown",
   "id": "57c46f46",
   "metadata": {},
   "source": [
    "# Selection\n",
    "* Selection Types\n",
    "    * `loc`: use lables\n",
    "    * `iloc`: use integer position (from zero)\n",
    "    * `bloc`: use Boolean indicator (StaticFrame only)\n",
    "* Selection values\n",
    "    * A single label (a tuple is a single label)\n",
    "    * A list of labels\n",
    "    * A slice of labels\n",
    "    * A 1D Boolean arary selecting labels\n"
   ]
  },
  {
   "cell_type": "markdown",
   "id": "e26b1406",
   "metadata": {},
   "source": [
    "# Frame Selection Interfaces\n",
    "    \n",
    "* `[]`: root `__getitem__` selection \n",
    "    * `pd.DataFrame[]` selects by column or row and column labels, or by 2D Boolean array\n",
    "    * `sf.Frame[]` is exclusively column selection\n",
    "* `loc[]`: select row, optionally columns by label\n",
    "* `iloc[]`: select row, optionally columns by integer position\n",
    "* `bloc[]`: select with a 2D Boolean array (StaticFrame only)"
   ]
  },
  {
   "cell_type": "code",
   "execution_count": null,
   "id": "d3cacc6f",
   "metadata": {},
   "outputs": [],
   "source": [
    "# Examples"
   ]
  },
  {
   "cell_type": "markdown",
   "id": "d128f48b",
   "metadata": {},
   "source": [
    "# Mixing `loc` and `iloc` Selection\n",
    "\n",
    "* `sf.ILoc` (StaticFrame only)\n",
    "* Permits embedding `iloc` selection in a `loc` selection"
   ]
  },
  {
   "cell_type": "code",
   "execution_count": 9,
   "id": "0f6cf489",
   "metadata": {},
   "outputs": [],
   "source": [
    "# Example"
   ]
  },
  {
   "cell_type": "markdown",
   "id": "ef598eff",
   "metadata": {},
   "source": [
    "# Immutability and \"No-Copy\" Operations\n",
    "* Immutability reduces opportunities for errors\n",
    "* Immutability means we can pass around views without defensive copies\n",
    "    * Renaming a `sf.Frame` is no-copy\n",
    "    * Horizontal concatenation of same-index copmonents is no-copy"
   ]
  },
  {
   "cell_type": "markdown",
   "id": "edbb9924",
   "metadata": {},
   "source": [
    "# Assignment-like Transformations Without In-Place Mutation\n",
    "\n",
    "* Pandas permits in-place assignment to all types of selections\n",
    "    * `pd.Frame.loc['x', 'B':] = 1.0`\n",
    "* StaticFrame offers an interface that defines a selection and is called with a value\n",
    "    * `sf.Frame.assign.loc['x', 'B':](1.0)`\n",
    "    * Creates a new container\n",
    "    * Unchanged columns will be views and re-used (no-copy)"
   ]
  },
  {
   "cell_type": "code",
   "execution_count": null,
   "id": "944b5244",
   "metadata": {},
   "outputs": [],
   "source": [
    "# Example"
   ]
  },
  {
   "cell_type": "markdown",
   "id": "1ca244fb",
   "metadata": {},
   "source": [
    "# Grow-Only Mutation\n",
    "* Pandas permits growing a DataFrame by columns (efficient) and rows (very inefficient)\n",
    "* The `sf.FrameGO` permits grow-only column addition\n",
    "* While the container is mutated, underlying array data remains immutable\n",
    "* Growing rows is never permitted (use `sf.Frame.from_concat()` with collected rows)"
   ]
  },
  {
   "cell_type": "code",
   "execution_count": null,
   "id": "bf4af134",
   "metadata": {},
   "outputs": [],
   "source": [
    "# Example"
   ]
  },
  {
   "cell_type": "markdown",
   "id": "2bf03818",
   "metadata": {},
   "source": [
    "# A Family of `sf.Frame`\n",
    "\n",
    "* Pandas has only one `DataFrame` class\n",
    "* StaticFrame has a family\n",
    "    * `sf.Frame`\n",
    "    * `sf.FrameGO`: a grow-only `sf.Frame`\n",
    "    * `sf.FrameHE`: a hashable `sf.Frame`\n",
    "* Methods to convert between all three (always a no-copy operation)\n",
    "    * `sf.Frame.to_frame_go()`\n",
    "    * `sf.FrameHE.to_frame()`\n"
   ]
  },
  {
   "cell_type": "code",
   "execution_count": 11,
   "id": "b58893ae",
   "metadata": {},
   "outputs": [],
   "source": [
    "# Example"
   ]
  },
  {
   "cell_type": "markdown",
   "id": "c93829a0",
   "metadata": {},
   "source": [
    "# Full Support for All NumPy Dtypes\n",
    "* Pandas only uses a subset of NumPy dtypes"
   ]
  },
  {
   "cell_type": "code",
   "execution_count": null,
   "id": "5c3c0fe5",
   "metadata": {},
   "outputs": [],
   "source": []
  },
  {
   "cell_type": "markdown",
   "id": "cb0aa988",
   "metadata": {},
   "source": [
    "# A Family of `sf.Index`\n",
    "\n"
   ]
  },
  {
   "cell_type": "markdown",
   "id": "dc742c33",
   "metadata": {},
   "source": []
  },
  {
   "cell_type": "markdown",
   "id": "e78e08b5",
   "metadata": {},
   "source": []
  },
  {
   "cell_type": "markdown",
   "id": "2635de62",
   "metadata": {},
   "source": []
  },
  {
   "cell_type": "markdown",
   "id": "3baf4677",
   "metadata": {},
   "source": []
  },
  {
   "cell_type": "markdown",
   "id": "edeb3cb3",
   "metadata": {},
   "source": []
  },
  {
   "cell_type": "markdown",
   "id": "dfe7885e",
   "metadata": {},
   "source": []
  },
  {
   "cell_type": "markdown",
   "id": "796bb66d",
   "metadata": {},
   "source": []
  },
  {
   "cell_type": "markdown",
   "id": "ddac4d6a",
   "metadata": {},
   "source": []
  },
  {
   "cell_type": "code",
   "execution_count": null,
   "id": "ee520ec2",
   "metadata": {},
   "outputs": [],
   "source": [
    "import pandas as pd\n",
    "import numpy as np\n",
    "pd.read_csv()"
   ]
  }
 ],
 "metadata": {
  "kernelspec": {
   "display_name": "Python 3 (ipykernel)",
   "language": "python",
   "name": "python3"
  },
  "language_info": {
   "codemirror_mode": {
    "name": "ipython",
    "version": 3
   },
   "file_extension": ".py",
   "mimetype": "text/x-python",
   "name": "python",
   "nbconvert_exporter": "python",
   "pygments_lexer": "ipython3",
   "version": "3.9.5"
  }
 },
 "nbformat": 4,
 "nbformat_minor": 5
}
